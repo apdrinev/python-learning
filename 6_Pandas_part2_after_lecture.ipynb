{
 "cells": [
  {
   "cell_type": "code",
   "execution_count": 1,
   "metadata": {
    "collapsed": true
   },
   "outputs": [],
   "source": [
    "import pandas as pd\n",
    "import numpy as np\n",
    "\n",
    "pd.set_option('display.max_rows', 10)\n",
    "pd.set_option('display.max_columns', 10)"
   ]
  },
  {
   "cell_type": "code",
   "execution_count": 2,
   "metadata": {
    "collapsed": true
   },
   "outputs": [],
   "source": [
    "titanic = pd.read_csv('titanic.csv', sep=';', index_col='PassengerId')"
   ]
  },
  {
   "cell_type": "markdown",
   "metadata": {},
   "source": [
    "# Идиома: расчет частоты события"
   ]
  },
  {
   "cell_type": "markdown",
   "metadata": {},
   "source": [
    "- `.sum()` вектора из нулей и единиц = количество единиц\n",
    "- `.mean()` вектора из нулей и единиц = доля единиц"
   ]
  },
  {
   "cell_type": "code",
   "execution_count": 3,
   "metadata": {},
   "outputs": [
    {
     "data": {
      "text/plain": [
       "0.38383838383838381"
      ]
     },
     "execution_count": 3,
     "metadata": {},
     "output_type": "execute_result"
    }
   ],
   "source": [
    "titanic.Survived.mean()"
   ]
  },
  {
   "cell_type": "markdown",
   "metadata": {},
   "source": [
    "Какова частота выполнения условия?"
   ]
  },
  {
   "cell_type": "code",
   "execution_count": 4,
   "metadata": {},
   "outputs": [
    {
     "data": {
      "text/plain": [
       "0.67452300785634123"
      ]
     },
     "execution_count": 4,
     "metadata": {},
     "output_type": "execute_result"
    }
   ],
   "source": [
    "(titanic.Age >= 18).mean()"
   ]
  },
  {
   "cell_type": "markdown",
   "metadata": {},
   "source": [
    "Сколько всего строк, удовлетворяющих условию?"
   ]
  },
  {
   "cell_type": "code",
   "execution_count": 5,
   "metadata": {},
   "outputs": [
    {
     "data": {
      "text/plain": [
       "601"
      ]
     },
     "execution_count": 5,
     "metadata": {},
     "output_type": "execute_result"
    }
   ],
   "source": [
    "(titanic.Age >= 18).sum()"
   ]
  },
  {
   "cell_type": "markdown",
   "metadata": {},
   "source": [
    "# GroupBy"
   ]
  },
  {
   "cell_type": "markdown",
   "metadata": {},
   "source": [
    "Как посчитать долю выживших в разных группах?"
   ]
  },
  {
   "cell_type": "code",
   "execution_count": 9,
   "metadata": {},
   "outputs": [
    {
     "name": "stdout",
     "output_type": "stream",
     "text": [
      "female\t0.742038216561\n",
      "male\t0.188908145581\n"
     ]
    }
   ],
   "source": [
    "print 'female\\t', titanic.loc[titanic.Sex == 'female', 'Survived'].mean()\n",
    "print 'male\\t', titanic.loc[titanic.Sex == 'male', 'Survived'].mean()"
   ]
  },
  {
   "cell_type": "code",
   "execution_count": 10,
   "metadata": {},
   "outputs": [
    {
     "data": {
      "text/plain": [
       "array([0, 1, 2, 5, 3, 4, 6])"
      ]
     },
     "execution_count": 10,
     "metadata": {},
     "output_type": "execute_result"
    }
   ],
   "source": [
    "titanic.Parch.unique()"
   ]
  },
  {
   "cell_type": "markdown",
   "metadata": {},
   "source": [
    "[Split -> Apply -> Combine](http://pandas.pydata.org/pandas-docs/stable/groupby.html)\n",
    "\n",
    "Аналогично `GROUP BY` в SQL:\n",
    "```sql\n",
    "SELECT Sex, AVG(Survived)\n",
    "FROM titanic\n",
    "GROUP BY Sex;\n",
    "```"
   ]
  },
  {
   "cell_type": "code",
   "execution_count": 11,
   "metadata": {},
   "outputs": [
    {
     "data": {
      "text/plain": [
       "Sex\n",
       "female    0.742038\n",
       "male      0.188908\n",
       "Name: Survived, dtype: float64"
      ]
     },
     "execution_count": 11,
     "metadata": {},
     "output_type": "execute_result"
    }
   ],
   "source": [
    "titanic.groupby('Sex').Survived.mean()"
   ]
  },
  {
   "cell_type": "code",
   "execution_count": 12,
   "metadata": {
    "scrolled": true
   },
   "outputs": [
    {
     "data": {
      "text/plain": [
       "Parch\n",
       "0    0.343658\n",
       "1    0.550847\n",
       "2    0.500000\n",
       "3    0.600000\n",
       "4    0.000000\n",
       "5    0.200000\n",
       "6    0.000000\n",
       "Name: Survived, dtype: float64"
      ]
     },
     "execution_count": 12,
     "metadata": {},
     "output_type": "execute_result"
    }
   ],
   "source": [
    "titanic.groupby('Parch').Survived.mean()"
   ]
  },
  {
   "cell_type": "markdown",
   "metadata": {},
   "source": [
    "## 1) Разбиение (Split)"
   ]
  },
  {
   "cell_type": "markdown",
   "metadata": {},
   "source": [
    "GroupBy хранит исходный `DataFrame` (или `Series`) и разбиение на группы, т.е. соответствие \"название группы (значение колонки, по которой группируем) – список индексов\""
   ]
  },
  {
   "cell_type": "code",
   "execution_count": 13,
   "metadata": {},
   "outputs": [
    {
     "name": "stdout",
     "output_type": "stream",
     "text": [
      "<class 'pandas.core.groupby.DataFrameGroupBy'>\n"
     ]
    }
   ],
   "source": [
    "splits = titanic.groupby('Sex')\n",
    "print type(splits)"
   ]
  },
  {
   "cell_type": "code",
   "execution_count": 14,
   "metadata": {},
   "outputs": [
    {
     "data": {
      "text/plain": [
       "{'female': Int64Index([  2,   3,   4,   9,  10,  11,  12,  15,  16,  19,\n",
       "             ...\n",
       "             867, 872, 875, 876, 880, 881, 883, 886, 888, 889],\n",
       "            dtype='int64', name=u'PassengerId', length=314),\n",
       " 'male': Int64Index([  1,   5,   6,   7,   8,  13,  14,  17,  18,  21,\n",
       "             ...\n",
       "             874, 877, 878, 879, 882, 884, 885, 887, 890, 891],\n",
       "            dtype='int64', name=u'PassengerId', length=577)}"
      ]
     },
     "execution_count": 14,
     "metadata": {},
     "output_type": "execute_result"
    }
   ],
   "source": [
    "splits.groups"
   ]
  },
  {
   "cell_type": "code",
   "execution_count": 15,
   "metadata": {},
   "outputs": [
    {
     "data": {
      "text/html": [
       "<div>\n",
       "<style>\n",
       "    .dataframe thead tr:only-child th {\n",
       "        text-align: right;\n",
       "    }\n",
       "\n",
       "    .dataframe thead th {\n",
       "        text-align: left;\n",
       "    }\n",
       "\n",
       "    .dataframe tbody tr th {\n",
       "        vertical-align: top;\n",
       "    }\n",
       "</style>\n",
       "<table border=\"1\" class=\"dataframe\">\n",
       "  <thead>\n",
       "    <tr style=\"text-align: right;\">\n",
       "      <th></th>\n",
       "      <th>Survived</th>\n",
       "      <th>Pclass</th>\n",
       "      <th>Name</th>\n",
       "      <th>Sex</th>\n",
       "      <th>Age</th>\n",
       "      <th>...</th>\n",
       "      <th>Parch</th>\n",
       "      <th>Ticket</th>\n",
       "      <th>Fare</th>\n",
       "      <th>Cabin</th>\n",
       "      <th>Embarked</th>\n",
       "    </tr>\n",
       "    <tr>\n",
       "      <th>PassengerId</th>\n",
       "      <th></th>\n",
       "      <th></th>\n",
       "      <th></th>\n",
       "      <th></th>\n",
       "      <th></th>\n",
       "      <th></th>\n",
       "      <th></th>\n",
       "      <th></th>\n",
       "      <th></th>\n",
       "      <th></th>\n",
       "      <th></th>\n",
       "    </tr>\n",
       "  </thead>\n",
       "  <tbody>\n",
       "    <tr>\n",
       "      <th>2</th>\n",
       "      <td>1</td>\n",
       "      <td>1</td>\n",
       "      <td>Cumings, Mrs. John Bradley (Florence Briggs Th...</td>\n",
       "      <td>female</td>\n",
       "      <td>38.0</td>\n",
       "      <td>...</td>\n",
       "      <td>0</td>\n",
       "      <td>PC 17599</td>\n",
       "      <td>71.2833</td>\n",
       "      <td>C85</td>\n",
       "      <td>C</td>\n",
       "    </tr>\n",
       "    <tr>\n",
       "      <th>3</th>\n",
       "      <td>1</td>\n",
       "      <td>3</td>\n",
       "      <td>Heikkinen, Miss. Laina</td>\n",
       "      <td>female</td>\n",
       "      <td>26.0</td>\n",
       "      <td>...</td>\n",
       "      <td>0</td>\n",
       "      <td>STON/O2. 3101282</td>\n",
       "      <td>7.9250</td>\n",
       "      <td>NaN</td>\n",
       "      <td>S</td>\n",
       "    </tr>\n",
       "    <tr>\n",
       "      <th>4</th>\n",
       "      <td>1</td>\n",
       "      <td>1</td>\n",
       "      <td>Futrelle, Mrs. Jacques Heath (Lily May Peel)</td>\n",
       "      <td>female</td>\n",
       "      <td>35.0</td>\n",
       "      <td>...</td>\n",
       "      <td>0</td>\n",
       "      <td>113803</td>\n",
       "      <td>53.1000</td>\n",
       "      <td>C123</td>\n",
       "      <td>S</td>\n",
       "    </tr>\n",
       "    <tr>\n",
       "      <th>9</th>\n",
       "      <td>1</td>\n",
       "      <td>3</td>\n",
       "      <td>Johnson, Mrs. Oscar W (Elisabeth Vilhelmina Berg)</td>\n",
       "      <td>female</td>\n",
       "      <td>27.0</td>\n",
       "      <td>...</td>\n",
       "      <td>2</td>\n",
       "      <td>347742</td>\n",
       "      <td>11.1333</td>\n",
       "      <td>NaN</td>\n",
       "      <td>S</td>\n",
       "    </tr>\n",
       "    <tr>\n",
       "      <th>10</th>\n",
       "      <td>1</td>\n",
       "      <td>2</td>\n",
       "      <td>Nasser, Mrs. Nicholas (Adele Achem)</td>\n",
       "      <td>female</td>\n",
       "      <td>14.0</td>\n",
       "      <td>...</td>\n",
       "      <td>0</td>\n",
       "      <td>237736</td>\n",
       "      <td>30.0708</td>\n",
       "      <td>NaN</td>\n",
       "      <td>C</td>\n",
       "    </tr>\n",
       "    <tr>\n",
       "      <th>...</th>\n",
       "      <td>...</td>\n",
       "      <td>...</td>\n",
       "      <td>...</td>\n",
       "      <td>...</td>\n",
       "      <td>...</td>\n",
       "      <td>...</td>\n",
       "      <td>...</td>\n",
       "      <td>...</td>\n",
       "      <td>...</td>\n",
       "      <td>...</td>\n",
       "      <td>...</td>\n",
       "    </tr>\n",
       "    <tr>\n",
       "      <th>881</th>\n",
       "      <td>1</td>\n",
       "      <td>2</td>\n",
       "      <td>Shelley, Mrs. William (Imanita Parrish Hall)</td>\n",
       "      <td>female</td>\n",
       "      <td>25.0</td>\n",
       "      <td>...</td>\n",
       "      <td>1</td>\n",
       "      <td>230433</td>\n",
       "      <td>26.0000</td>\n",
       "      <td>NaN</td>\n",
       "      <td>S</td>\n",
       "    </tr>\n",
       "    <tr>\n",
       "      <th>883</th>\n",
       "      <td>0</td>\n",
       "      <td>3</td>\n",
       "      <td>Dahlberg, Miss. Gerda Ulrika</td>\n",
       "      <td>female</td>\n",
       "      <td>22.0</td>\n",
       "      <td>...</td>\n",
       "      <td>0</td>\n",
       "      <td>7552</td>\n",
       "      <td>10.5167</td>\n",
       "      <td>NaN</td>\n",
       "      <td>S</td>\n",
       "    </tr>\n",
       "    <tr>\n",
       "      <th>886</th>\n",
       "      <td>0</td>\n",
       "      <td>3</td>\n",
       "      <td>Rice, Mrs. William (Margaret Norton)</td>\n",
       "      <td>female</td>\n",
       "      <td>39.0</td>\n",
       "      <td>...</td>\n",
       "      <td>5</td>\n",
       "      <td>382652</td>\n",
       "      <td>29.1250</td>\n",
       "      <td>NaN</td>\n",
       "      <td>Q</td>\n",
       "    </tr>\n",
       "    <tr>\n",
       "      <th>888</th>\n",
       "      <td>1</td>\n",
       "      <td>1</td>\n",
       "      <td>Graham, Miss. Margaret Edith</td>\n",
       "      <td>female</td>\n",
       "      <td>19.0</td>\n",
       "      <td>...</td>\n",
       "      <td>0</td>\n",
       "      <td>112053</td>\n",
       "      <td>30.0000</td>\n",
       "      <td>B42</td>\n",
       "      <td>S</td>\n",
       "    </tr>\n",
       "    <tr>\n",
       "      <th>889</th>\n",
       "      <td>0</td>\n",
       "      <td>3</td>\n",
       "      <td>Johnston, Miss. Catherine Helen \"Carrie\"</td>\n",
       "      <td>female</td>\n",
       "      <td>NaN</td>\n",
       "      <td>...</td>\n",
       "      <td>2</td>\n",
       "      <td>W./C. 6607</td>\n",
       "      <td>23.4500</td>\n",
       "      <td>NaN</td>\n",
       "      <td>S</td>\n",
       "    </tr>\n",
       "  </tbody>\n",
       "</table>\n",
       "<p>314 rows × 11 columns</p>\n",
       "</div>"
      ],
      "text/plain": [
       "             Survived  Pclass  \\\n",
       "PassengerId                     \n",
       "2                   1       1   \n",
       "3                   1       3   \n",
       "4                   1       1   \n",
       "9                   1       3   \n",
       "10                  1       2   \n",
       "...               ...     ...   \n",
       "881                 1       2   \n",
       "883                 0       3   \n",
       "886                 0       3   \n",
       "888                 1       1   \n",
       "889                 0       3   \n",
       "\n",
       "                                                          Name     Sex   Age  \\\n",
       "PassengerId                                                                    \n",
       "2            Cumings, Mrs. John Bradley (Florence Briggs Th...  female  38.0   \n",
       "3                                       Heikkinen, Miss. Laina  female  26.0   \n",
       "4                 Futrelle, Mrs. Jacques Heath (Lily May Peel)  female  35.0   \n",
       "9            Johnson, Mrs. Oscar W (Elisabeth Vilhelmina Berg)  female  27.0   \n",
       "10                         Nasser, Mrs. Nicholas (Adele Achem)  female  14.0   \n",
       "...                                                        ...     ...   ...   \n",
       "881               Shelley, Mrs. William (Imanita Parrish Hall)  female  25.0   \n",
       "883                               Dahlberg, Miss. Gerda Ulrika  female  22.0   \n",
       "886                       Rice, Mrs. William (Margaret Norton)  female  39.0   \n",
       "888                               Graham, Miss. Margaret Edith  female  19.0   \n",
       "889                   Johnston, Miss. Catherine Helen \"Carrie\"  female   NaN   \n",
       "\n",
       "              ...     Parch            Ticket     Fare  Cabin Embarked  \n",
       "PassengerId   ...                                                       \n",
       "2             ...         0          PC 17599  71.2833    C85        C  \n",
       "3             ...         0  STON/O2. 3101282   7.9250    NaN        S  \n",
       "4             ...         0            113803  53.1000   C123        S  \n",
       "9             ...         2            347742  11.1333    NaN        S  \n",
       "10            ...         0            237736  30.0708    NaN        C  \n",
       "...           ...       ...               ...      ...    ...      ...  \n",
       "881           ...         1            230433  26.0000    NaN        S  \n",
       "883           ...         0              7552  10.5167    NaN        S  \n",
       "886           ...         5            382652  29.1250    NaN        Q  \n",
       "888           ...         0            112053  30.0000    B42        S  \n",
       "889           ...         2        W./C. 6607  23.4500    NaN        S  \n",
       "\n",
       "[314 rows x 11 columns]"
      ]
     },
     "execution_count": 15,
     "metadata": {},
     "output_type": "execute_result"
    }
   ],
   "source": [
    "splits.get_group('female')  # тот же результат, что и titanic.loc[titanic.Sex == 'female']"
   ]
  },
  {
   "cell_type": "markdown",
   "metadata": {},
   "source": [
    "Другие способы разбиения:"
   ]
  },
  {
   "cell_type": "markdown",
   "metadata": {},
   "source": [
    "- по нескольким колонкам"
   ]
  },
  {
   "cell_type": "code",
   "execution_count": 18,
   "metadata": {},
   "outputs": [
    {
     "data": {
      "text/plain": [
       "[('female', 3),\n",
       " ('female', 2),\n",
       " ('male', 3),\n",
       " ('male', 1),\n",
       " ('male', 2),\n",
       " ('female', 1)]"
      ]
     },
     "execution_count": 18,
     "metadata": {},
     "output_type": "execute_result"
    }
   ],
   "source": [
    "titanic.groupby(['Sex', 'Pclass']).groups.keys()"
   ]
  },
  {
   "cell_type": "markdown",
   "metadata": {},
   "source": [
    "- по колонке, которой нет в исходном `DataFrame`"
   ]
  },
  {
   "cell_type": "code",
   "execution_count": 19,
   "metadata": {
    "collapsed": true
   },
   "outputs": [],
   "source": [
    "adult = (titanic.Age >= 18)"
   ]
  },
  {
   "cell_type": "code",
   "execution_count": 21,
   "metadata": {
    "collapsed": true
   },
   "outputs": [],
   "source": [
    "adult = (titanic.Age >= 18)\n",
    "adult.loc[titanic.Age.isnull()] = np.nan"
   ]
  },
  {
   "cell_type": "code",
   "execution_count": 22,
   "metadata": {},
   "outputs": [
    {
     "data": {
      "text/plain": [
       " 1.0    601\n",
       "NaN     177\n",
       " 0.0    113\n",
       "Name: Age, dtype: int64"
      ]
     },
     "execution_count": 22,
     "metadata": {},
     "output_type": "execute_result"
    }
   ],
   "source": [
    "adult.value_counts(dropna=False)"
   ]
  },
  {
   "cell_type": "code",
   "execution_count": 23,
   "metadata": {},
   "outputs": [
    {
     "data": {
      "text/plain": [
       "[0.0, 1.0]"
      ]
     },
     "execution_count": 23,
     "metadata": {},
     "output_type": "execute_result"
    }
   ],
   "source": [
    "titanic.groupby(adult).groups.keys()"
   ]
  },
  {
   "cell_type": "markdown",
   "metadata": {},
   "source": [
    "NB: группа, соответствующая значению `NaN`, не создается. Можно это обойти, предварительно заполнив `NaN` каким-нибудь специальным значением."
   ]
  },
  {
   "cell_type": "code",
   "execution_count": 24,
   "metadata": {},
   "outputs": [
    {
     "data": {
      "text/plain": [
       "[0.0, 1.0, 'NA']"
      ]
     },
     "execution_count": 24,
     "metadata": {},
     "output_type": "execute_result"
    }
   ],
   "source": [
    "titanic.groupby(adult.fillna('NA')).groups.keys()"
   ]
  },
  {
   "cell_type": "code",
   "execution_count": 39,
   "metadata": {},
   "outputs": [
    {
     "data": {
      "text/plain": [
       "Age\n",
       "0.0    0.539823\n",
       "1.0    0.381032\n",
       "NA     0.293785\n",
       "Name: Survived, dtype: float64"
      ]
     },
     "execution_count": 39,
     "metadata": {},
     "output_type": "execute_result"
    }
   ],
   "source": [
    "titanic.groupby(adult.fillna('NA')).Survived.mean()"
   ]
  },
  {
   "cell_type": "markdown",
   "metadata": {},
   "source": [
    "- по значению функции, рассчитанной по индексу"
   ]
  },
  {
   "cell_type": "code",
   "execution_count": 27,
   "metadata": {},
   "outputs": [
    {
     "data": {
      "text/plain": [
       "{0: Int64Index([  3,   6,   9,  12,  15,  18,  21,  24,  27,  30,\n",
       "             ...\n",
       "             864, 867, 870, 873, 876, 879, 882, 885, 888, 891],\n",
       "            dtype='int64', name=u'PassengerId', length=297),\n",
       " 1: Int64Index([  1,   4,   7,  10,  13,  16,  19,  22,  25,  28,\n",
       "             ...\n",
       "             862, 865, 868, 871, 874, 877, 880, 883, 886, 889],\n",
       "            dtype='int64', name=u'PassengerId', length=297),\n",
       " 2: Int64Index([  2,   5,   8,  11,  14,  17,  20,  23,  26,  29,\n",
       "             ...\n",
       "             863, 866, 869, 872, 875, 878, 881, 884, 887, 890],\n",
       "            dtype='int64', name=u'PassengerId', length=297)}"
      ]
     },
     "execution_count": 27,
     "metadata": {},
     "output_type": "execute_result"
    }
   ],
   "source": [
    "titanic.groupby(lambda s: s % 3).groups"
   ]
  },
  {
   "cell_type": "code",
   "execution_count": 28,
   "metadata": {},
   "outputs": [
    {
     "data": {
      "text/plain": [
       "{0: Int64Index([  3,   6,   9,  12,  15,  18,  21,  24,  27,  30,\n",
       "             ...\n",
       "             864, 867, 870, 873, 876, 879, 882, 885, 888, 891],\n",
       "            dtype='int64', name=u'PassengerId', length=297),\n",
       " 1: Int64Index([  1,   4,   7,  10,  13,  16,  19,  22,  25,  28,\n",
       "             ...\n",
       "             862, 865, 868, 871, 874, 877, 880, 883, 886, 889],\n",
       "            dtype='int64', name=u'PassengerId', length=297),\n",
       " 2: Int64Index([  2,   5,   8,  11,  14,  17,  20,  23,  26,  29,\n",
       "             ...\n",
       "             863, 866, 869, 872, 875, 878, 881, 884, 887, 890],\n",
       "            dtype='int64', name=u'PassengerId', length=297)}"
      ]
     },
     "execution_count": 28,
     "metadata": {},
     "output_type": "execute_result"
    }
   ],
   "source": [
    "titanic.groupby(titanic.index % 3).groups  # то же самое"
   ]
  },
  {
   "cell_type": "markdown",
   "metadata": {},
   "source": [
    "NB: можно разбивать не только по строкам, но и по столбцам (`axis=1`)"
   ]
  },
  {
   "cell_type": "markdown",
   "metadata": {},
   "source": [
    "## 2) Агрегация (Apply + Combine)"
   ]
  },
  {
   "cell_type": "markdown",
   "metadata": {},
   "source": [
    "Обычные функции агрегации:"
   ]
  },
  {
   "cell_type": "code",
   "execution_count": 29,
   "metadata": {},
   "outputs": [
    {
     "data": {
      "text/html": [
       "<div>\n",
       "<style>\n",
       "    .dataframe thead tr:only-child th {\n",
       "        text-align: right;\n",
       "    }\n",
       "\n",
       "    .dataframe thead th {\n",
       "        text-align: left;\n",
       "    }\n",
       "\n",
       "    .dataframe tbody tr th {\n",
       "        vertical-align: top;\n",
       "    }\n",
       "</style>\n",
       "<table border=\"1\" class=\"dataframe\">\n",
       "  <thead>\n",
       "    <tr style=\"text-align: right;\">\n",
       "      <th></th>\n",
       "      <th>Survived</th>\n",
       "      <th>Pclass</th>\n",
       "      <th>Name</th>\n",
       "      <th>Age</th>\n",
       "      <th>SibSp</th>\n",
       "      <th>Parch</th>\n",
       "      <th>Ticket</th>\n",
       "      <th>Fare</th>\n",
       "      <th>Cabin</th>\n",
       "      <th>Embarked</th>\n",
       "    </tr>\n",
       "    <tr>\n",
       "      <th>Sex</th>\n",
       "      <th></th>\n",
       "      <th></th>\n",
       "      <th></th>\n",
       "      <th></th>\n",
       "      <th></th>\n",
       "      <th></th>\n",
       "      <th></th>\n",
       "      <th></th>\n",
       "      <th></th>\n",
       "      <th></th>\n",
       "    </tr>\n",
       "  </thead>\n",
       "  <tbody>\n",
       "    <tr>\n",
       "      <th>female</th>\n",
       "      <td>314</td>\n",
       "      <td>314</td>\n",
       "      <td>314</td>\n",
       "      <td>261</td>\n",
       "      <td>314</td>\n",
       "      <td>314</td>\n",
       "      <td>314</td>\n",
       "      <td>314</td>\n",
       "      <td>97</td>\n",
       "      <td>312</td>\n",
       "    </tr>\n",
       "    <tr>\n",
       "      <th>male</th>\n",
       "      <td>577</td>\n",
       "      <td>577</td>\n",
       "      <td>577</td>\n",
       "      <td>453</td>\n",
       "      <td>577</td>\n",
       "      <td>577</td>\n",
       "      <td>577</td>\n",
       "      <td>577</td>\n",
       "      <td>107</td>\n",
       "      <td>577</td>\n",
       "    </tr>\n",
       "  </tbody>\n",
       "</table>\n",
       "</div>"
      ],
      "text/plain": [
       "        Survived  Pclass  Name  Age  SibSp  Parch  Ticket  Fare  Cabin  \\\n",
       "Sex                                                                      \n",
       "female       314     314   314  261    314    314     314   314     97   \n",
       "male         577     577   577  453    577    577     577   577    107   \n",
       "\n",
       "        Embarked  \n",
       "Sex               \n",
       "female       312  \n",
       "male         577  "
      ]
     },
     "execution_count": 29,
     "metadata": {},
     "output_type": "execute_result"
    }
   ],
   "source": [
    "splits.count()"
   ]
  },
  {
   "cell_type": "code",
   "execution_count": 30,
   "metadata": {},
   "outputs": [
    {
     "data": {
      "text/html": [
       "<div>\n",
       "<style>\n",
       "    .dataframe thead tr:only-child th {\n",
       "        text-align: right;\n",
       "    }\n",
       "\n",
       "    .dataframe thead th {\n",
       "        text-align: left;\n",
       "    }\n",
       "\n",
       "    .dataframe tbody tr th {\n",
       "        vertical-align: top;\n",
       "    }\n",
       "</style>\n",
       "<table border=\"1\" class=\"dataframe\">\n",
       "  <thead>\n",
       "    <tr style=\"text-align: right;\">\n",
       "      <th></th>\n",
       "      <th>Survived</th>\n",
       "      <th>Pclass</th>\n",
       "      <th>Name</th>\n",
       "      <th>Sex</th>\n",
       "      <th>Age</th>\n",
       "      <th>...</th>\n",
       "      <th>Parch</th>\n",
       "      <th>Ticket</th>\n",
       "      <th>Fare</th>\n",
       "      <th>Cabin</th>\n",
       "      <th>Embarked</th>\n",
       "    </tr>\n",
       "    <tr>\n",
       "      <th>Sex</th>\n",
       "      <th></th>\n",
       "      <th></th>\n",
       "      <th></th>\n",
       "      <th></th>\n",
       "      <th></th>\n",
       "      <th></th>\n",
       "      <th></th>\n",
       "      <th></th>\n",
       "      <th></th>\n",
       "      <th></th>\n",
       "      <th></th>\n",
       "    </tr>\n",
       "  </thead>\n",
       "  <tbody>\n",
       "    <tr>\n",
       "      <th>female</th>\n",
       "      <td>2</td>\n",
       "      <td>3</td>\n",
       "      <td>314</td>\n",
       "      <td>1</td>\n",
       "      <td>63</td>\n",
       "      <td>...</td>\n",
       "      <td>7</td>\n",
       "      <td>247</td>\n",
       "      <td>156</td>\n",
       "      <td>75</td>\n",
       "      <td>3</td>\n",
       "    </tr>\n",
       "    <tr>\n",
       "      <th>male</th>\n",
       "      <td>2</td>\n",
       "      <td>3</td>\n",
       "      <td>577</td>\n",
       "      <td>1</td>\n",
       "      <td>82</td>\n",
       "      <td>...</td>\n",
       "      <td>6</td>\n",
       "      <td>519</td>\n",
       "      <td>193</td>\n",
       "      <td>96</td>\n",
       "      <td>3</td>\n",
       "    </tr>\n",
       "  </tbody>\n",
       "</table>\n",
       "<p>2 rows × 11 columns</p>\n",
       "</div>"
      ],
      "text/plain": [
       "        Survived  Pclass  Name  Sex  Age    ...     Parch  Ticket  Fare  \\\n",
       "Sex                                         ...                           \n",
       "female         2       3   314    1   63    ...         7     247   156   \n",
       "male           2       3   577    1   82    ...         6     519   193   \n",
       "\n",
       "        Cabin  Embarked  \n",
       "Sex                      \n",
       "female     75         3  \n",
       "male       96         3  \n",
       "\n",
       "[2 rows x 11 columns]"
      ]
     },
     "execution_count": 30,
     "metadata": {},
     "output_type": "execute_result"
    }
   ],
   "source": [
    "splits.nunique()"
   ]
  },
  {
   "cell_type": "code",
   "execution_count": 34,
   "metadata": {},
   "outputs": [
    {
     "data": {
      "text/plain": [
       "Sex\n",
       "female    0.742038\n",
       "male      0.188908\n",
       "Name: Survived, dtype: float64"
      ]
     },
     "execution_count": 34,
     "metadata": {},
     "output_type": "execute_result"
    }
   ],
   "source": [
    "splits.mean().Survived"
   ]
  },
  {
   "cell_type": "markdown",
   "metadata": {},
   "source": [
    "Доступ к отдельному столбцу с тем же самым разбиением:"
   ]
  },
  {
   "cell_type": "code",
   "execution_count": 32,
   "metadata": {},
   "outputs": [
    {
     "data": {
      "text/plain": [
       "<pandas.core.groupby.SeriesGroupBy object at 0x109d99e90>"
      ]
     },
     "execution_count": 32,
     "metadata": {},
     "output_type": "execute_result"
    }
   ],
   "source": [
    "splits.Survived"
   ]
  },
  {
   "cell_type": "code",
   "execution_count": 33,
   "metadata": {},
   "outputs": [
    {
     "data": {
      "text/plain": [
       "Sex\n",
       "female    0.742038\n",
       "male      0.188908\n",
       "Name: Survived, dtype: float64"
      ]
     },
     "execution_count": 33,
     "metadata": {},
     "output_type": "execute_result"
    }
   ],
   "source": [
    "splits.Survived.mean()  # быстрее, чем splits.mean().Survived"
   ]
  },
  {
   "cell_type": "code",
   "execution_count": 35,
   "metadata": {},
   "outputs": [
    {
     "data": {
      "text/plain": [
       "Sex\n",
       "female    75\n",
       "male      96\n",
       "Name: Cabin, dtype: int64"
      ]
     },
     "execution_count": 35,
     "metadata": {},
     "output_type": "execute_result"
    }
   ],
   "source": [
    "splits.Cabin.nunique()"
   ]
  },
  {
   "cell_type": "markdown",
   "metadata": {},
   "source": [
    "Несколько функций сразу:"
   ]
  },
  {
   "cell_type": "code",
   "execution_count": 41,
   "metadata": {},
   "outputs": [
    {
     "data": {
      "text/html": [
       "<div>\n",
       "<style>\n",
       "    .dataframe thead tr:only-child th {\n",
       "        text-align: right;\n",
       "    }\n",
       "\n",
       "    .dataframe thead th {\n",
       "        text-align: left;\n",
       "    }\n",
       "\n",
       "    .dataframe tbody tr th {\n",
       "        vertical-align: top;\n",
       "    }\n",
       "</style>\n",
       "<table border=\"1\" class=\"dataframe\">\n",
       "  <thead>\n",
       "    <tr style=\"text-align: right;\">\n",
       "      <th></th>\n",
       "      <th>mean</th>\n",
       "      <th>std</th>\n",
       "      <th>count</th>\n",
       "    </tr>\n",
       "    <tr>\n",
       "      <th>Parch</th>\n",
       "      <th></th>\n",
       "      <th></th>\n",
       "      <th></th>\n",
       "    </tr>\n",
       "  </thead>\n",
       "  <tbody>\n",
       "    <tr>\n",
       "      <th>0</th>\n",
       "      <td>0.343658</td>\n",
       "      <td>0.475279</td>\n",
       "      <td>678</td>\n",
       "    </tr>\n",
       "    <tr>\n",
       "      <th>1</th>\n",
       "      <td>0.550847</td>\n",
       "      <td>0.499529</td>\n",
       "      <td>118</td>\n",
       "    </tr>\n",
       "    <tr>\n",
       "      <th>2</th>\n",
       "      <td>0.500000</td>\n",
       "      <td>0.503155</td>\n",
       "      <td>80</td>\n",
       "    </tr>\n",
       "    <tr>\n",
       "      <th>3</th>\n",
       "      <td>0.600000</td>\n",
       "      <td>0.547723</td>\n",
       "      <td>5</td>\n",
       "    </tr>\n",
       "    <tr>\n",
       "      <th>4</th>\n",
       "      <td>0.000000</td>\n",
       "      <td>0.000000</td>\n",
       "      <td>4</td>\n",
       "    </tr>\n",
       "    <tr>\n",
       "      <th>5</th>\n",
       "      <td>0.200000</td>\n",
       "      <td>0.447214</td>\n",
       "      <td>5</td>\n",
       "    </tr>\n",
       "    <tr>\n",
       "      <th>6</th>\n",
       "      <td>0.000000</td>\n",
       "      <td>NaN</td>\n",
       "      <td>1</td>\n",
       "    </tr>\n",
       "  </tbody>\n",
       "</table>\n",
       "</div>"
      ],
      "text/plain": [
       "           mean       std  count\n",
       "Parch                           \n",
       "0      0.343658  0.475279    678\n",
       "1      0.550847  0.499529    118\n",
       "2      0.500000  0.503155     80\n",
       "3      0.600000  0.547723      5\n",
       "4      0.000000  0.000000      4\n",
       "5      0.200000  0.447214      5\n",
       "6      0.000000       NaN      1"
      ]
     },
     "execution_count": 41,
     "metadata": {},
     "output_type": "execute_result"
    }
   ],
   "source": [
    "titanic.groupby('Parch').Survived.agg(['mean', 'std', 'count'])"
   ]
  },
  {
   "cell_type": "markdown",
   "metadata": {},
   "source": [
    "Первая/последняя/n-ая запись внутри каждой группы:"
   ]
  },
  {
   "cell_type": "code",
   "execution_count": 42,
   "metadata": {},
   "outputs": [
    {
     "data": {
      "text/html": [
       "<div>\n",
       "<style>\n",
       "    .dataframe thead tr:only-child th {\n",
       "        text-align: right;\n",
       "    }\n",
       "\n",
       "    .dataframe thead th {\n",
       "        text-align: left;\n",
       "    }\n",
       "\n",
       "    .dataframe tbody tr th {\n",
       "        vertical-align: top;\n",
       "    }\n",
       "</style>\n",
       "<table border=\"1\" class=\"dataframe\">\n",
       "  <thead>\n",
       "    <tr style=\"text-align: right;\">\n",
       "      <th></th>\n",
       "      <th>Survived</th>\n",
       "      <th>Pclass</th>\n",
       "      <th>Name</th>\n",
       "      <th>Age</th>\n",
       "      <th>SibSp</th>\n",
       "      <th>Parch</th>\n",
       "      <th>Ticket</th>\n",
       "      <th>Fare</th>\n",
       "      <th>Cabin</th>\n",
       "      <th>Embarked</th>\n",
       "    </tr>\n",
       "    <tr>\n",
       "      <th>Sex</th>\n",
       "      <th></th>\n",
       "      <th></th>\n",
       "      <th></th>\n",
       "      <th></th>\n",
       "      <th></th>\n",
       "      <th></th>\n",
       "      <th></th>\n",
       "      <th></th>\n",
       "      <th></th>\n",
       "      <th></th>\n",
       "    </tr>\n",
       "  </thead>\n",
       "  <tbody>\n",
       "    <tr>\n",
       "      <th>female</th>\n",
       "      <td>1</td>\n",
       "      <td>1</td>\n",
       "      <td>Cumings, Mrs. John Bradley (Florence Briggs Th...</td>\n",
       "      <td>38.0</td>\n",
       "      <td>1</td>\n",
       "      <td>0</td>\n",
       "      <td>PC 17599</td>\n",
       "      <td>71.2833</td>\n",
       "      <td>C85</td>\n",
       "      <td>C</td>\n",
       "    </tr>\n",
       "    <tr>\n",
       "      <th>male</th>\n",
       "      <td>0</td>\n",
       "      <td>3</td>\n",
       "      <td>Braund, Mr. Owen Harris</td>\n",
       "      <td>22.0</td>\n",
       "      <td>1</td>\n",
       "      <td>0</td>\n",
       "      <td>A/5 21171</td>\n",
       "      <td>7.2500</td>\n",
       "      <td>E46</td>\n",
       "      <td>S</td>\n",
       "    </tr>\n",
       "  </tbody>\n",
       "</table>\n",
       "</div>"
      ],
      "text/plain": [
       "        Survived  Pclass                                               Name  \\\n",
       "Sex                                                                           \n",
       "female         1       1  Cumings, Mrs. John Bradley (Florence Briggs Th...   \n",
       "male           0       3                            Braund, Mr. Owen Harris   \n",
       "\n",
       "         Age  SibSp  Parch     Ticket     Fare Cabin Embarked  \n",
       "Sex                                                            \n",
       "female  38.0      1      0   PC 17599  71.2833   C85        C  \n",
       "male    22.0      1      0  A/5 21171   7.2500   E46        S  "
      ]
     },
     "execution_count": 42,
     "metadata": {},
     "output_type": "execute_result"
    }
   ],
   "source": [
    "splits.first()"
   ]
  },
  {
   "cell_type": "code",
   "execution_count": 43,
   "metadata": {},
   "outputs": [
    {
     "data": {
      "text/html": [
       "<div>\n",
       "<style>\n",
       "    .dataframe thead tr:only-child th {\n",
       "        text-align: right;\n",
       "    }\n",
       "\n",
       "    .dataframe thead th {\n",
       "        text-align: left;\n",
       "    }\n",
       "\n",
       "    .dataframe tbody tr th {\n",
       "        vertical-align: top;\n",
       "    }\n",
       "</style>\n",
       "<table border=\"1\" class=\"dataframe\">\n",
       "  <thead>\n",
       "    <tr style=\"text-align: right;\">\n",
       "      <th></th>\n",
       "      <th>Survived</th>\n",
       "      <th>Pclass</th>\n",
       "      <th>Name</th>\n",
       "      <th>Age</th>\n",
       "      <th>SibSp</th>\n",
       "      <th>Parch</th>\n",
       "      <th>Ticket</th>\n",
       "      <th>Fare</th>\n",
       "      <th>Cabin</th>\n",
       "      <th>Embarked</th>\n",
       "    </tr>\n",
       "    <tr>\n",
       "      <th>Sex</th>\n",
       "      <th></th>\n",
       "      <th></th>\n",
       "      <th></th>\n",
       "      <th></th>\n",
       "      <th></th>\n",
       "      <th></th>\n",
       "      <th></th>\n",
       "      <th></th>\n",
       "      <th></th>\n",
       "      <th></th>\n",
       "    </tr>\n",
       "  </thead>\n",
       "  <tbody>\n",
       "    <tr>\n",
       "      <th>female</th>\n",
       "      <td>0</td>\n",
       "      <td>3</td>\n",
       "      <td>Johnston, Miss. Catherine Helen \"Carrie\"</td>\n",
       "      <td>19.0</td>\n",
       "      <td>1</td>\n",
       "      <td>2</td>\n",
       "      <td>W./C. 6607</td>\n",
       "      <td>23.45</td>\n",
       "      <td>B42</td>\n",
       "      <td>S</td>\n",
       "    </tr>\n",
       "    <tr>\n",
       "      <th>male</th>\n",
       "      <td>0</td>\n",
       "      <td>3</td>\n",
       "      <td>Dooley, Mr. Patrick</td>\n",
       "      <td>32.0</td>\n",
       "      <td>0</td>\n",
       "      <td>0</td>\n",
       "      <td>370376</td>\n",
       "      <td>7.75</td>\n",
       "      <td>C148</td>\n",
       "      <td>Q</td>\n",
       "    </tr>\n",
       "  </tbody>\n",
       "</table>\n",
       "</div>"
      ],
      "text/plain": [
       "        Survived  Pclass                                      Name   Age  \\\n",
       "Sex                                                                        \n",
       "female         0       3  Johnston, Miss. Catherine Helen \"Carrie\"  19.0   \n",
       "male           0       3                       Dooley, Mr. Patrick  32.0   \n",
       "\n",
       "        SibSp  Parch      Ticket   Fare Cabin Embarked  \n",
       "Sex                                                     \n",
       "female      1      2  W./C. 6607  23.45   B42        S  \n",
       "male        0      0      370376   7.75  C148        Q  "
      ]
     },
     "execution_count": 43,
     "metadata": {},
     "output_type": "execute_result"
    }
   ],
   "source": [
    "splits.last()"
   ]
  },
  {
   "cell_type": "code",
   "execution_count": 45,
   "metadata": {},
   "outputs": [
    {
     "data": {
      "text/html": [
       "<div>\n",
       "<style>\n",
       "    .dataframe thead tr:only-child th {\n",
       "        text-align: right;\n",
       "    }\n",
       "\n",
       "    .dataframe thead th {\n",
       "        text-align: left;\n",
       "    }\n",
       "\n",
       "    .dataframe tbody tr th {\n",
       "        vertical-align: top;\n",
       "    }\n",
       "</style>\n",
       "<table border=\"1\" class=\"dataframe\">\n",
       "  <thead>\n",
       "    <tr style=\"text-align: right;\">\n",
       "      <th></th>\n",
       "      <th>Age</th>\n",
       "      <th>Cabin</th>\n",
       "      <th>Embarked</th>\n",
       "      <th>Fare</th>\n",
       "      <th>Name</th>\n",
       "      <th>Parch</th>\n",
       "      <th>Pclass</th>\n",
       "      <th>SibSp</th>\n",
       "      <th>Survived</th>\n",
       "      <th>Ticket</th>\n",
       "    </tr>\n",
       "    <tr>\n",
       "      <th>Sex</th>\n",
       "      <th></th>\n",
       "      <th></th>\n",
       "      <th></th>\n",
       "      <th></th>\n",
       "      <th></th>\n",
       "      <th></th>\n",
       "      <th></th>\n",
       "      <th></th>\n",
       "      <th></th>\n",
       "      <th></th>\n",
       "    </tr>\n",
       "  </thead>\n",
       "  <tbody>\n",
       "    <tr>\n",
       "      <th>female</th>\n",
       "      <td>NaN</td>\n",
       "      <td>NaN</td>\n",
       "      <td>C</td>\n",
       "      <td>7.225</td>\n",
       "      <td>Masselmani, Mrs. Fatima</td>\n",
       "      <td>0</td>\n",
       "      <td>3</td>\n",
       "      <td>0</td>\n",
       "      <td>1</td>\n",
       "      <td>2649</td>\n",
       "    </tr>\n",
       "    <tr>\n",
       "      <th>male</th>\n",
       "      <td>34.0</td>\n",
       "      <td>D56</td>\n",
       "      <td>S</td>\n",
       "      <td>13.000</td>\n",
       "      <td>Beesley, Mr. Lawrence</td>\n",
       "      <td>0</td>\n",
       "      <td>2</td>\n",
       "      <td>0</td>\n",
       "      <td>1</td>\n",
       "      <td>248698</td>\n",
       "    </tr>\n",
       "  </tbody>\n",
       "</table>\n",
       "</div>"
      ],
      "text/plain": [
       "         Age Cabin Embarked    Fare                     Name  Parch  Pclass  \\\n",
       "Sex                                                                           \n",
       "female   NaN   NaN        C   7.225  Masselmani, Mrs. Fatima      0       3   \n",
       "male    34.0   D56        S  13.000    Beesley, Mr. Lawrence      0       2   \n",
       "\n",
       "        SibSp  Survived  Ticket  \n",
       "Sex                              \n",
       "female      0         1    2649  \n",
       "male        0         1  248698  "
      ]
     },
     "execution_count": 45,
     "metadata": {},
     "output_type": "execute_result"
    }
   ],
   "source": [
    "splits.nth(10)"
   ]
  },
  {
   "cell_type": "markdown",
   "metadata": {},
   "source": [
    "Произвольная функция:"
   ]
  },
  {
   "cell_type": "code",
   "execution_count": 51,
   "metadata": {
    "collapsed": true
   },
   "outputs": [],
   "source": [
    "def oldest(df):\n",
    "    return df.Age.argmax()"
   ]
  },
  {
   "cell_type": "code",
   "execution_count": 52,
   "metadata": {},
   "outputs": [
    {
     "data": {
      "text/plain": [
       "Sex\n",
       "female    276\n",
       "male      631\n",
       "dtype: int64"
      ]
     },
     "execution_count": 52,
     "metadata": {},
     "output_type": "execute_result"
    }
   ],
   "source": [
    "splits.apply(oldest)"
   ]
  },
  {
   "cell_type": "markdown",
   "metadata": {},
   "source": [
    "# Работа со строками\n",
    "\n",
    "[Документация](https://pandas.pydata.org/pandas-docs/stable/text.html)"
   ]
  },
  {
   "cell_type": "code",
   "execution_count": null,
   "metadata": {
    "collapsed": true
   },
   "outputs": [],
   "source": [
    "titanic.Name.str"
   ]
  },
  {
   "cell_type": "code",
   "execution_count": 53,
   "metadata": {},
   "outputs": [
    {
     "data": {
      "text/plain": [
       "PassengerId\n",
       "1         Braund\n",
       "2        Cumings\n",
       "3      Heikkinen\n",
       "4       Futrelle\n",
       "5          Allen\n",
       "         ...    \n",
       "887     Montvila\n",
       "888       Graham\n",
       "889     Johnston\n",
       "890         Behr\n",
       "891       Dooley\n",
       "Name: Name, Length: 891, dtype: object"
      ]
     },
     "execution_count": 53,
     "metadata": {},
     "output_type": "execute_result"
    }
   ],
   "source": [
    "titanic.Name.apply(lambda s: s.split(',')[0])"
   ]
  },
  {
   "cell_type": "code",
   "execution_count": 58,
   "metadata": {},
   "outputs": [
    {
     "data": {
      "text/plain": [
       "PassengerId\n",
       "1         Braund\n",
       "2        Cumings\n",
       "3      Heikkinen\n",
       "4       Futrelle\n",
       "5          Allen\n",
       "         ...    \n",
       "887     Montvila\n",
       "888       Graham\n",
       "889     Johnston\n",
       "890         Behr\n",
       "891       Dooley\n",
       "Name: Name, Length: 891, dtype: object"
      ]
     },
     "execution_count": 58,
     "metadata": {},
     "output_type": "execute_result"
    }
   ],
   "source": [
    "titanic.Name.str.split(',').str[0]"
   ]
  },
  {
   "cell_type": "code",
   "execution_count": 61,
   "metadata": {},
   "outputs": [
    {
     "data": {
      "text/html": [
       "<div>\n",
       "<style>\n",
       "    .dataframe thead tr:only-child th {\n",
       "        text-align: right;\n",
       "    }\n",
       "\n",
       "    .dataframe thead th {\n",
       "        text-align: left;\n",
       "    }\n",
       "\n",
       "    .dataframe tbody tr th {\n",
       "        vertical-align: top;\n",
       "    }\n",
       "</style>\n",
       "<table border=\"1\" class=\"dataframe\">\n",
       "  <thead>\n",
       "    <tr style=\"text-align: right;\">\n",
       "      <th></th>\n",
       "      <th>0</th>\n",
       "      <th>1</th>\n",
       "    </tr>\n",
       "    <tr>\n",
       "      <th>PassengerId</th>\n",
       "      <th></th>\n",
       "      <th></th>\n",
       "    </tr>\n",
       "  </thead>\n",
       "  <tbody>\n",
       "    <tr>\n",
       "      <th>1</th>\n",
       "      <td>Braund</td>\n",
       "      <td>Mr. Owen Harris</td>\n",
       "    </tr>\n",
       "    <tr>\n",
       "      <th>2</th>\n",
       "      <td>Cumings</td>\n",
       "      <td>Mrs. John Bradley (Florence Briggs Thayer)</td>\n",
       "    </tr>\n",
       "    <tr>\n",
       "      <th>3</th>\n",
       "      <td>Heikkinen</td>\n",
       "      <td>Miss. Laina</td>\n",
       "    </tr>\n",
       "    <tr>\n",
       "      <th>4</th>\n",
       "      <td>Futrelle</td>\n",
       "      <td>Mrs. Jacques Heath (Lily May Peel)</td>\n",
       "    </tr>\n",
       "    <tr>\n",
       "      <th>5</th>\n",
       "      <td>Allen</td>\n",
       "      <td>Mr. William Henry</td>\n",
       "    </tr>\n",
       "    <tr>\n",
       "      <th>...</th>\n",
       "      <td>...</td>\n",
       "      <td>...</td>\n",
       "    </tr>\n",
       "    <tr>\n",
       "      <th>887</th>\n",
       "      <td>Montvila</td>\n",
       "      <td>Rev. Juozas</td>\n",
       "    </tr>\n",
       "    <tr>\n",
       "      <th>888</th>\n",
       "      <td>Graham</td>\n",
       "      <td>Miss. Margaret Edith</td>\n",
       "    </tr>\n",
       "    <tr>\n",
       "      <th>889</th>\n",
       "      <td>Johnston</td>\n",
       "      <td>Miss. Catherine Helen \"Carrie\"</td>\n",
       "    </tr>\n",
       "    <tr>\n",
       "      <th>890</th>\n",
       "      <td>Behr</td>\n",
       "      <td>Mr. Karl Howell</td>\n",
       "    </tr>\n",
       "    <tr>\n",
       "      <th>891</th>\n",
       "      <td>Dooley</td>\n",
       "      <td>Mr. Patrick</td>\n",
       "    </tr>\n",
       "  </tbody>\n",
       "</table>\n",
       "<p>891 rows × 2 columns</p>\n",
       "</div>"
      ],
      "text/plain": [
       "                     0                                           1\n",
       "PassengerId                                                       \n",
       "1               Braund                             Mr. Owen Harris\n",
       "2              Cumings  Mrs. John Bradley (Florence Briggs Thayer)\n",
       "3            Heikkinen                                 Miss. Laina\n",
       "4             Futrelle          Mrs. Jacques Heath (Lily May Peel)\n",
       "5                Allen                           Mr. William Henry\n",
       "...                ...                                         ...\n",
       "887           Montvila                                 Rev. Juozas\n",
       "888             Graham                        Miss. Margaret Edith\n",
       "889           Johnston              Miss. Catherine Helen \"Carrie\"\n",
       "890               Behr                             Mr. Karl Howell\n",
       "891             Dooley                                 Mr. Patrick\n",
       "\n",
       "[891 rows x 2 columns]"
      ]
     },
     "execution_count": 61,
     "metadata": {},
     "output_type": "execute_result"
    }
   ],
   "source": [
    "titanic.Name.str.split(', ', n=1, expand=True)"
   ]
  },
  {
   "cell_type": "code",
   "execution_count": 62,
   "metadata": {},
   "outputs": [
    {
     "data": {
      "text/plain": [
       "PassengerId\n",
       "1      23\n",
       "2      51\n",
       "3      22\n",
       "4      44\n",
       "5      24\n",
       "       ..\n",
       "887    21\n",
       "888    28\n",
       "889    40\n",
       "890    21\n",
       "891    19\n",
       "Name: Name, Length: 891, dtype: int64"
      ]
     },
     "execution_count": 62,
     "metadata": {},
     "output_type": "execute_result"
    }
   ],
   "source": [
    "titanic.Name.str.len()"
   ]
  },
  {
   "cell_type": "code",
   "execution_count": 63,
   "metadata": {},
   "outputs": [
    {
     "data": {
      "text/plain": [
       "PassengerId\n",
       "1                                BRAUND, MR. OWEN HARRIS\n",
       "2      CUMINGS, MRS. JOHN BRADLEY (FLORENCE BRIGGS TH...\n",
       "3                                 HEIKKINEN, MISS. LAINA\n",
       "4           FUTRELLE, MRS. JACQUES HEATH (LILY MAY PEEL)\n",
       "5                               ALLEN, MR. WILLIAM HENRY\n",
       "                             ...                        \n",
       "887                                MONTVILA, REV. JUOZAS\n",
       "888                         GRAHAM, MISS. MARGARET EDITH\n",
       "889             JOHNSTON, MISS. CATHERINE HELEN \"CARRIE\"\n",
       "890                                BEHR, MR. KARL HOWELL\n",
       "891                                  DOOLEY, MR. PATRICK\n",
       "Name: Name, Length: 891, dtype: object"
      ]
     },
     "execution_count": 63,
     "metadata": {},
     "output_type": "execute_result"
    }
   ],
   "source": [
    "titanic.Name.str.upper()"
   ]
  },
  {
   "cell_type": "code",
   "execution_count": 64,
   "metadata": {},
   "outputs": [
    {
     "data": {
      "text/plain": [
       "PassengerId\n",
       "1       True\n",
       "2       True\n",
       "3      False\n",
       "4       True\n",
       "5       True\n",
       "       ...  \n",
       "887    False\n",
       "888    False\n",
       "889    False\n",
       "890     True\n",
       "891     True\n",
       "Name: Name, Length: 891, dtype: bool"
      ]
     },
     "execution_count": 64,
     "metadata": {},
     "output_type": "execute_result"
    }
   ],
   "source": [
    "titanic.Name.str.contains('Mr.')"
   ]
  },
  {
   "cell_type": "code",
   "execution_count": 67,
   "metadata": {},
   "outputs": [
    {
     "data": {
      "text/plain": [
       "PassengerId\n",
       "1      False\n",
       "2      False\n",
       "3      False\n",
       "4       True\n",
       "5       True\n",
       "       ...  \n",
       "887     True\n",
       "888     True\n",
       "889    False\n",
       "890     True\n",
       "891     True\n",
       "Name: Ticket, Length: 891, dtype: bool"
      ]
     },
     "execution_count": 67,
     "metadata": {},
     "output_type": "execute_result"
    }
   ],
   "source": [
    "titanic.Ticket.str.isalnum()"
   ]
  },
  {
   "cell_type": "markdown",
   "metadata": {},
   "source": [
    "# Простая визуализация\n",
    "\n",
    "[Официальная документация с примерами](https://pandas.pydata.org/pandas-docs/stable/visualization.html)"
   ]
  },
  {
   "cell_type": "markdown",
   "metadata": {},
   "source": [
    "`pandas` рисует графики с помощью библиотеки `matplotlib`"
   ]
  },
  {
   "cell_type": "code",
   "execution_count": 68,
   "metadata": {
    "collapsed": true
   },
   "outputs": [],
   "source": [
    "# Заклинание, нужное для отрисовки графиков непосредственно в ноутбуке (подробнее в лекции 7)\n",
    "%matplotlib inline\n",
    "# Настройка стиля и размера графиков\n",
    "import matplotlib\n",
    "matplotlib.rcParams['figure.figsize'] = (10.0, 6.0)\n",
    "matplotlib.pyplot.style.use('ggplot')"
   ]
  },
  {
   "cell_type": "code",
   "execution_count": 69,
   "metadata": {},
   "outputs": [
    {
     "data": {
      "text/plain": [
       "<matplotlib.axes._subplots.AxesSubplot at 0x10a6a7a90>"
      ]
     },
     "execution_count": 69,
     "metadata": {},
     "output_type": "execute_result"
    },
    {
     "data": {
      "image/png": "[encoded data removed]",
      "text/plain": [
       "<matplotlib.figure.Figure at 0x10a6a7410>"
      ]
     },
     "metadata": {},
     "output_type": "display_data"
    }
   ],
   "source": [
    "titanic.plot()"
   ]
  },
  {
   "cell_type": "code",
   "execution_count": 72,
   "metadata": {},
   "outputs": [
    {
     "data": {
      "text/plain": [
       "<matplotlib.axes._subplots.AxesSubplot at 0x10a8aad90>"
      ]
     },
     "execution_count": 72,
     "metadata": {},
     "output_type": "execute_result"
    },
    {
     "data": {
      "image/png": "[encoded data removed]",
      "text/plain": [
       "<matplotlib.figure.Figure at 0x10aa44450>"
      ]
     },
     "metadata": {},
     "output_type": "display_data"
    }
   ],
   "source": [
    "titanic.loc[titanic.Age.notnull(), 'Age'].hist(bins=20)"
   ]
  },
  {
   "cell_type": "code",
   "execution_count": 73,
   "metadata": {},
   "outputs": [
    {
     "data": {
      "text/plain": [
       "<matplotlib.axes._subplots.AxesSubplot at 0x10af71110>"
      ]
     },
     "execution_count": 73,
     "metadata": {},
     "output_type": "execute_result"
    },
    {
     "data": {
      "image/png": "[encoded data removed]",
      "text/plain": [
       "<matplotlib.figure.Figure at 0x10a8aa590>"
      ]
     },
     "metadata": {},
     "output_type": "display_data"
    }
   ],
   "source": [
    "titanic.plot.scatter('Fare', 'Age')"
   ]
  },
  {
   "cell_type": "code",
   "execution_count": 74,
   "metadata": {},
   "outputs": [
    {
     "data": {
      "text/plain": [
       "<matplotlib.axes._subplots.AxesSubplot at 0x10b0fad10>"
      ]
     },
     "execution_count": 74,
     "metadata": {},
     "output_type": "execute_result"
    },
    {
     "data": {
      "image/png": "[encoded data removed]",
      "text/plain": [
       "<matplotlib.figure.Figure at 0x10b110b90>"
      ]
     },
     "metadata": {},
     "output_type": "display_data"
    }
   ],
   "source": [
    "titanic.Parch.value_counts(sort=False).plot.bar()"
   ]
  },
  {
   "cell_type": "markdown",
   "metadata": {},
   "source": [
    "# Аналитика рынка акций"
   ]
  },
  {
   "cell_type": "markdown",
   "metadata": {},
   "source": [
    "## Один файл, один лист"
   ]
  },
  {
   "cell_type": "code",
   "execution_count": 75,
   "metadata": {
    "collapsed": true
   },
   "outputs": [],
   "source": [
    "df = pd.read_excel('./stocks_data/2016-11-23.xls', sheetname='AAPL')"
   ]
  },
  {
   "cell_type": "code",
   "execution_count": 76,
   "metadata": {},
   "outputs": [
    {
     "data": {
      "text/html": [
       "<div>\n",
       "<style>\n",
       "    .dataframe thead tr:only-child th {\n",
       "        text-align: right;\n",
       "    }\n",
       "\n",
       "    .dataframe thead th {\n",
       "        text-align: left;\n",
       "    }\n",
       "\n",
       "    .dataframe tbody tr th {\n",
       "        vertical-align: top;\n",
       "    }\n",
       "</style>\n",
       "<table border=\"1\" class=\"dataframe\">\n",
       "  <thead>\n",
       "    <tr style=\"text-align: right;\">\n",
       "      <th></th>\n",
       "      <th>Time</th>\n",
       "      <th>Open</th>\n",
       "      <th>High</th>\n",
       "      <th>Low</th>\n",
       "      <th>Close</th>\n",
       "      <th>Volume</th>\n",
       "    </tr>\n",
       "  </thead>\n",
       "  <tbody>\n",
       "    <tr>\n",
       "      <th>0</th>\n",
       "      <td>16:00:00</td>\n",
       "      <td>110.42</td>\n",
       "      <td>110.57</td>\n",
       "      <td>109.80</td>\n",
       "      <td>110.01</td>\n",
       "      <td>3668988</td>\n",
       "    </tr>\n",
       "    <tr>\n",
       "      <th>1</th>\n",
       "      <td>17:00:00</td>\n",
       "      <td>110.01</td>\n",
       "      <td>110.14</td>\n",
       "      <td>109.40</td>\n",
       "      <td>109.46</td>\n",
       "      <td>4347184</td>\n",
       "    </tr>\n",
       "    <tr>\n",
       "      <th>2</th>\n",
       "      <td>18:00:00</td>\n",
       "      <td>109.47</td>\n",
       "      <td>109.94</td>\n",
       "      <td>109.46</td>\n",
       "      <td>109.94</td>\n",
       "      <td>3094138</td>\n",
       "    </tr>\n",
       "    <tr>\n",
       "      <th>3</th>\n",
       "      <td>19:00:00</td>\n",
       "      <td>109.94</td>\n",
       "      <td>110.15</td>\n",
       "      <td>109.84</td>\n",
       "      <td>110.01</td>\n",
       "      <td>2285072</td>\n",
       "    </tr>\n",
       "    <tr>\n",
       "      <th>4</th>\n",
       "      <td>20:00:00</td>\n",
       "      <td>110.02</td>\n",
       "      <td>110.24</td>\n",
       "      <td>109.76</td>\n",
       "      <td>110.12</td>\n",
       "      <td>1860117</td>\n",
       "    </tr>\n",
       "    <tr>\n",
       "      <th>5</th>\n",
       "      <td>21:00:00</td>\n",
       "      <td>110.12</td>\n",
       "      <td>110.43</td>\n",
       "      <td>110.08</td>\n",
       "      <td>110.12</td>\n",
       "      <td>2140079</td>\n",
       "    </tr>\n",
       "    <tr>\n",
       "      <th>6</th>\n",
       "      <td>22:00:00</td>\n",
       "      <td>110.11</td>\n",
       "      <td>110.30</td>\n",
       "      <td>109.97</td>\n",
       "      <td>110.28</td>\n",
       "      <td>5637615</td>\n",
       "    </tr>\n",
       "  </tbody>\n",
       "</table>\n",
       "</div>"
      ],
      "text/plain": [
       "       Time    Open    High     Low   Close   Volume\n",
       "0  16:00:00  110.42  110.57  109.80  110.01  3668988\n",
       "1  17:00:00  110.01  110.14  109.40  109.46  4347184\n",
       "2  18:00:00  109.47  109.94  109.46  109.94  3094138\n",
       "3  19:00:00  109.94  110.15  109.84  110.01  2285072\n",
       "4  20:00:00  110.02  110.24  109.76  110.12  1860117\n",
       "5  21:00:00  110.12  110.43  110.08  110.12  2140079\n",
       "6  22:00:00  110.11  110.30  109.97  110.28  5637615"
      ]
     },
     "execution_count": 76,
     "metadata": {},
     "output_type": "execute_result"
    }
   ],
   "source": [
    "df"
   ]
  },
  {
   "cell_type": "code",
   "execution_count": 80,
   "metadata": {},
   "outputs": [
    {
     "data": {
      "text/plain": [
       "unicode"
      ]
     },
     "execution_count": 80,
     "metadata": {},
     "output_type": "execute_result"
    }
   ],
   "source": [
    "type(df.Time.iloc[0])"
   ]
  },
  {
   "cell_type": "markdown",
   "metadata": {},
   "source": [
    "Преобразуем поле `Time` к типу `datetime`:"
   ]
  },
  {
   "cell_type": "code",
   "execution_count": 85,
   "metadata": {},
   "outputs": [
    {
     "data": {
      "text/plain": [
       "0   2016-11-23 16:00:00\n",
       "1   2016-11-23 17:00:00\n",
       "2   2016-11-23 18:00:00\n",
       "3   2016-11-23 19:00:00\n",
       "4   2016-11-23 20:00:00\n",
       "5   2016-11-23 21:00:00\n",
       "6   2016-11-23 22:00:00\n",
       "Name: Time, dtype: datetime64[ns]"
      ]
     },
     "execution_count": 85,
     "metadata": {},
     "output_type": "execute_result"
    }
   ],
   "source": [
    "pd.to_datetime('2016-11-23 ' + df.Time, infer_datetime_format=True)"
   ]
  },
  {
   "cell_type": "code",
   "execution_count": null,
   "metadata": {
    "collapsed": true
   },
   "outputs": [],
   "source": []
  },
  {
   "cell_type": "code",
   "execution_count": null,
   "metadata": {
    "collapsed": true
   },
   "outputs": [],
   "source": []
  },
  {
   "cell_type": "code",
   "execution_count": null,
   "metadata": {
    "collapsed": true
   },
   "outputs": [],
   "source": []
  },
  {
   "cell_type": "code",
   "execution_count": 86,
   "metadata": {
    "collapsed": true
   },
   "outputs": [],
   "source": [
    "df.Time = pd.to_datetime('2016-11-23 ' + df.Time)"
   ]
  },
  {
   "cell_type": "code",
   "execution_count": 88,
   "metadata": {},
   "outputs": [
    {
     "data": {
      "text/plain": [
       "Time      datetime64[ns]\n",
       "Open             float64\n",
       "High             float64\n",
       "Low              float64\n",
       "Close            float64\n",
       "Volume             int64\n",
       "dtype: object"
      ]
     },
     "execution_count": 88,
     "metadata": {},
     "output_type": "execute_result"
    }
   ],
   "source": [
    "df.dtypes"
   ]
  },
  {
   "cell_type": "code",
   "execution_count": 89,
   "metadata": {
    "collapsed": true
   },
   "outputs": [],
   "source": [
    "df.set_index('Time', inplace=True)"
   ]
  },
  {
   "cell_type": "code",
   "execution_count": 90,
   "metadata": {},
   "outputs": [
    {
     "data": {
      "text/html": [
       "<div>\n",
       "<style>\n",
       "    .dataframe thead tr:only-child th {\n",
       "        text-align: right;\n",
       "    }\n",
       "\n",
       "    .dataframe thead th {\n",
       "        text-align: left;\n",
       "    }\n",
       "\n",
       "    .dataframe tbody tr th {\n",
       "        vertical-align: top;\n",
       "    }\n",
       "</style>\n",
       "<table border=\"1\" class=\"dataframe\">\n",
       "  <thead>\n",
       "    <tr style=\"text-align: right;\">\n",
       "      <th></th>\n",
       "      <th>Open</th>\n",
       "      <th>High</th>\n",
       "      <th>Low</th>\n",
       "      <th>Close</th>\n",
       "      <th>Volume</th>\n",
       "    </tr>\n",
       "    <tr>\n",
       "      <th>Time</th>\n",
       "      <th></th>\n",
       "      <th></th>\n",
       "      <th></th>\n",
       "      <th></th>\n",
       "      <th></th>\n",
       "    </tr>\n",
       "  </thead>\n",
       "  <tbody>\n",
       "    <tr>\n",
       "      <th>2016-11-23 16:00:00</th>\n",
       "      <td>110.42</td>\n",
       "      <td>110.57</td>\n",
       "      <td>109.80</td>\n",
       "      <td>110.01</td>\n",
       "      <td>3668988</td>\n",
       "    </tr>\n",
       "    <tr>\n",
       "      <th>2016-11-23 17:00:00</th>\n",
       "      <td>110.01</td>\n",
       "      <td>110.14</td>\n",
       "      <td>109.40</td>\n",
       "      <td>109.46</td>\n",
       "      <td>4347184</td>\n",
       "    </tr>\n",
       "    <tr>\n",
       "      <th>2016-11-23 18:00:00</th>\n",
       "      <td>109.47</td>\n",
       "      <td>109.94</td>\n",
       "      <td>109.46</td>\n",
       "      <td>109.94</td>\n",
       "      <td>3094138</td>\n",
       "    </tr>\n",
       "    <tr>\n",
       "      <th>2016-11-23 19:00:00</th>\n",
       "      <td>109.94</td>\n",
       "      <td>110.15</td>\n",
       "      <td>109.84</td>\n",
       "      <td>110.01</td>\n",
       "      <td>2285072</td>\n",
       "    </tr>\n",
       "    <tr>\n",
       "      <th>2016-11-23 20:00:00</th>\n",
       "      <td>110.02</td>\n",
       "      <td>110.24</td>\n",
       "      <td>109.76</td>\n",
       "      <td>110.12</td>\n",
       "      <td>1860117</td>\n",
       "    </tr>\n",
       "    <tr>\n",
       "      <th>2016-11-23 21:00:00</th>\n",
       "      <td>110.12</td>\n",
       "      <td>110.43</td>\n",
       "      <td>110.08</td>\n",
       "      <td>110.12</td>\n",
       "      <td>2140079</td>\n",
       "    </tr>\n",
       "    <tr>\n",
       "      <th>2016-11-23 22:00:00</th>\n",
       "      <td>110.11</td>\n",
       "      <td>110.30</td>\n",
       "      <td>109.97</td>\n",
       "      <td>110.28</td>\n",
       "      <td>5637615</td>\n",
       "    </tr>\n",
       "  </tbody>\n",
       "</table>\n",
       "</div>"
      ],
      "text/plain": [
       "                       Open    High     Low   Close   Volume\n",
       "Time                                                        \n",
       "2016-11-23 16:00:00  110.42  110.57  109.80  110.01  3668988\n",
       "2016-11-23 17:00:00  110.01  110.14  109.40  109.46  4347184\n",
       "2016-11-23 18:00:00  109.47  109.94  109.46  109.94  3094138\n",
       "2016-11-23 19:00:00  109.94  110.15  109.84  110.01  2285072\n",
       "2016-11-23 20:00:00  110.02  110.24  109.76  110.12  1860117\n",
       "2016-11-23 21:00:00  110.12  110.43  110.08  110.12  2140079\n",
       "2016-11-23 22:00:00  110.11  110.30  109.97  110.28  5637615"
      ]
     },
     "execution_count": 90,
     "metadata": {},
     "output_type": "execute_result"
    }
   ],
   "source": [
    "df"
   ]
  },
  {
   "cell_type": "code",
   "execution_count": 91,
   "metadata": {},
   "outputs": [
    {
     "data": {
      "text/plain": [
       "<matplotlib.axes._subplots.AxesSubplot at 0x10b453510>"
      ]
     },
     "execution_count": 91,
     "metadata": {},
     "output_type": "execute_result"
    },
    {
     "data": {
      "image/png": "[encoded data removed]",
      "text/plain": [
       "<matplotlib.figure.Figure at 0x10b437e90>"
      ]
     },
     "metadata": {},
     "output_type": "display_data"
    }
   ],
   "source": [
    "df[['Open', 'High', 'Low', 'Close']].plot()"
   ]
  },
  {
   "cell_type": "markdown",
   "metadata": {},
   "source": [
    "## Один файл, все листы"
   ]
  },
  {
   "cell_type": "code",
   "execution_count": 92,
   "metadata": {
    "collapsed": true
   },
   "outputs": [],
   "source": [
    "dfs = pd.read_excel('./stocks_data/2016-11-23.xls', sheetname=None)"
   ]
  },
  {
   "cell_type": "code",
   "execution_count": 93,
   "metadata": {},
   "outputs": [
    {
     "data": {
      "text/plain": [
       "collections.OrderedDict"
      ]
     },
     "execution_count": 93,
     "metadata": {},
     "output_type": "execute_result"
    }
   ],
   "source": [
    "type(dfs)"
   ]
  },
  {
   "cell_type": "code",
   "execution_count": 94,
   "metadata": {},
   "outputs": [
    {
     "data": {
      "text/plain": [
       "[u'AAPL', u'GOOG', u'MSFT']"
      ]
     },
     "execution_count": 94,
     "metadata": {},
     "output_type": "execute_result"
    }
   ],
   "source": [
    "dfs.keys()"
   ]
  },
  {
   "cell_type": "code",
   "execution_count": 95,
   "metadata": {},
   "outputs": [
    {
     "data": {
      "text/html": [
       "<div>\n",
       "<style>\n",
       "    .dataframe thead tr:only-child th {\n",
       "        text-align: right;\n",
       "    }\n",
       "\n",
       "    .dataframe thead th {\n",
       "        text-align: left;\n",
       "    }\n",
       "\n",
       "    .dataframe tbody tr th {\n",
       "        vertical-align: top;\n",
       "    }\n",
       "</style>\n",
       "<table border=\"1\" class=\"dataframe\">\n",
       "  <thead>\n",
       "    <tr style=\"text-align: right;\">\n",
       "      <th></th>\n",
       "      <th>Time</th>\n",
       "      <th>Open</th>\n",
       "      <th>High</th>\n",
       "      <th>Low</th>\n",
       "      <th>Close</th>\n",
       "      <th>Volume</th>\n",
       "    </tr>\n",
       "  </thead>\n",
       "  <tbody>\n",
       "    <tr>\n",
       "      <th>0</th>\n",
       "      <td>16:00:00</td>\n",
       "      <td>110.42</td>\n",
       "      <td>110.57</td>\n",
       "      <td>109.80</td>\n",
       "      <td>110.01</td>\n",
       "      <td>3668988</td>\n",
       "    </tr>\n",
       "    <tr>\n",
       "      <th>1</th>\n",
       "      <td>17:00:00</td>\n",
       "      <td>110.01</td>\n",
       "      <td>110.14</td>\n",
       "      <td>109.40</td>\n",
       "      <td>109.46</td>\n",
       "      <td>4347184</td>\n",
       "    </tr>\n",
       "    <tr>\n",
       "      <th>2</th>\n",
       "      <td>18:00:00</td>\n",
       "      <td>109.47</td>\n",
       "      <td>109.94</td>\n",
       "      <td>109.46</td>\n",
       "      <td>109.94</td>\n",
       "      <td>3094138</td>\n",
       "    </tr>\n",
       "    <tr>\n",
       "      <th>3</th>\n",
       "      <td>19:00:00</td>\n",
       "      <td>109.94</td>\n",
       "      <td>110.15</td>\n",
       "      <td>109.84</td>\n",
       "      <td>110.01</td>\n",
       "      <td>2285072</td>\n",
       "    </tr>\n",
       "    <tr>\n",
       "      <th>4</th>\n",
       "      <td>20:00:00</td>\n",
       "      <td>110.02</td>\n",
       "      <td>110.24</td>\n",
       "      <td>109.76</td>\n",
       "      <td>110.12</td>\n",
       "      <td>1860117</td>\n",
       "    </tr>\n",
       "    <tr>\n",
       "      <th>5</th>\n",
       "      <td>21:00:00</td>\n",
       "      <td>110.12</td>\n",
       "      <td>110.43</td>\n",
       "      <td>110.08</td>\n",
       "      <td>110.12</td>\n",
       "      <td>2140079</td>\n",
       "    </tr>\n",
       "    <tr>\n",
       "      <th>6</th>\n",
       "      <td>22:00:00</td>\n",
       "      <td>110.11</td>\n",
       "      <td>110.30</td>\n",
       "      <td>109.97</td>\n",
       "      <td>110.28</td>\n",
       "      <td>5637615</td>\n",
       "    </tr>\n",
       "  </tbody>\n",
       "</table>\n",
       "</div>"
      ],
      "text/plain": [
       "       Time    Open    High     Low   Close   Volume\n",
       "0  16:00:00  110.42  110.57  109.80  110.01  3668988\n",
       "1  17:00:00  110.01  110.14  109.40  109.46  4347184\n",
       "2  18:00:00  109.47  109.94  109.46  109.94  3094138\n",
       "3  19:00:00  109.94  110.15  109.84  110.01  2285072\n",
       "4  20:00:00  110.02  110.24  109.76  110.12  1860117\n",
       "5  21:00:00  110.12  110.43  110.08  110.12  2140079\n",
       "6  22:00:00  110.11  110.30  109.97  110.28  5637615"
      ]
     },
     "execution_count": 95,
     "metadata": {},
     "output_type": "execute_result"
    }
   ],
   "source": [
    "dfs['AAPL']"
   ]
  },
  {
   "cell_type": "code",
   "execution_count": 96,
   "metadata": {},
   "outputs": [
    {
     "data": {
      "text/html": [
       "<div>\n",
       "<style>\n",
       "    .dataframe thead tr:only-child th {\n",
       "        text-align: right;\n",
       "    }\n",
       "\n",
       "    .dataframe thead th {\n",
       "        text-align: left;\n",
       "    }\n",
       "\n",
       "    .dataframe tbody tr th {\n",
       "        vertical-align: top;\n",
       "    }\n",
       "</style>\n",
       "<table border=\"1\" class=\"dataframe\">\n",
       "  <thead>\n",
       "    <tr style=\"text-align: right;\">\n",
       "      <th></th>\n",
       "      <th>Time</th>\n",
       "      <th>Open</th>\n",
       "      <th>High</th>\n",
       "      <th>Low</th>\n",
       "      <th>Close</th>\n",
       "      <th>Volume</th>\n",
       "    </tr>\n",
       "  </thead>\n",
       "  <tbody>\n",
       "    <tr>\n",
       "      <th>0</th>\n",
       "      <td>16:00:00</td>\n",
       "      <td>767.73</td>\n",
       "      <td>768.2825</td>\n",
       "      <td>756.35</td>\n",
       "      <td>757.9900</td>\n",
       "      <td>230877</td>\n",
       "    </tr>\n",
       "    <tr>\n",
       "      <th>1</th>\n",
       "      <td>17:00:00</td>\n",
       "      <td>757.94</td>\n",
       "      <td>759.6100</td>\n",
       "      <td>755.25</td>\n",
       "      <td>757.7500</td>\n",
       "      <td>188032</td>\n",
       "    </tr>\n",
       "    <tr>\n",
       "      <th>2</th>\n",
       "      <td>18:00:00</td>\n",
       "      <td>757.61</td>\n",
       "      <td>759.4400</td>\n",
       "      <td>756.00</td>\n",
       "      <td>759.4400</td>\n",
       "      <td>95916</td>\n",
       "    </tr>\n",
       "    <tr>\n",
       "      <th>3</th>\n",
       "      <td>19:00:00</td>\n",
       "      <td>759.45</td>\n",
       "      <td>760.5000</td>\n",
       "      <td>757.57</td>\n",
       "      <td>757.9851</td>\n",
       "      <td>82822</td>\n",
       "    </tr>\n",
       "    <tr>\n",
       "      <th>4</th>\n",
       "      <td>20:00:00</td>\n",
       "      <td>758.19</td>\n",
       "      <td>759.2700</td>\n",
       "      <td>756.60</td>\n",
       "      <td>756.8800</td>\n",
       "      <td>57723</td>\n",
       "    </tr>\n",
       "    <tr>\n",
       "      <th>5</th>\n",
       "      <td>21:00:00</td>\n",
       "      <td>757.33</td>\n",
       "      <td>760.1000</td>\n",
       "      <td>757.20</td>\n",
       "      <td>758.5660</td>\n",
       "      <td>59007</td>\n",
       "    </tr>\n",
       "    <tr>\n",
       "      <th>6</th>\n",
       "      <td>22:00:00</td>\n",
       "      <td>758.49</td>\n",
       "      <td>761.0700</td>\n",
       "      <td>758.10</td>\n",
       "      <td>760.9900</td>\n",
       "      <td>334191</td>\n",
       "    </tr>\n",
       "  </tbody>\n",
       "</table>\n",
       "</div>"
      ],
      "text/plain": [
       "       Time    Open      High     Low     Close  Volume\n",
       "0  16:00:00  767.73  768.2825  756.35  757.9900  230877\n",
       "1  17:00:00  757.94  759.6100  755.25  757.7500  188032\n",
       "2  18:00:00  757.61  759.4400  756.00  759.4400   95916\n",
       "3  19:00:00  759.45  760.5000  757.57  757.9851   82822\n",
       "4  20:00:00  758.19  759.2700  756.60  756.8800   57723\n",
       "5  21:00:00  757.33  760.1000  757.20  758.5660   59007\n",
       "6  22:00:00  758.49  761.0700  758.10  760.9900  334191"
      ]
     },
     "execution_count": 96,
     "metadata": {},
     "output_type": "execute_result"
    }
   ],
   "source": [
    "dfs['GOOG']"
   ]
  },
  {
   "cell_type": "markdown",
   "metadata": {},
   "source": [
    "Объединение таблиц:"
   ]
  },
  {
   "cell_type": "code",
   "execution_count": 98,
   "metadata": {},
   "outputs": [
    {
     "data": {
      "text/html": [
       "<div>\n",
       "<style>\n",
       "    .dataframe thead tr:only-child th {\n",
       "        text-align: right;\n",
       "    }\n",
       "\n",
       "    .dataframe thead th {\n",
       "        text-align: left;\n",
       "    }\n",
       "\n",
       "    .dataframe tbody tr th {\n",
       "        vertical-align: top;\n",
       "    }\n",
       "</style>\n",
       "<table border=\"1\" class=\"dataframe\">\n",
       "  <thead>\n",
       "    <tr style=\"text-align: right;\">\n",
       "      <th></th>\n",
       "      <th>Time</th>\n",
       "      <th>Open</th>\n",
       "      <th>High</th>\n",
       "      <th>Low</th>\n",
       "      <th>Close</th>\n",
       "      <th>Volume</th>\n",
       "    </tr>\n",
       "  </thead>\n",
       "  <tbody>\n",
       "    <tr>\n",
       "      <th>0</th>\n",
       "      <td>16:00:00</td>\n",
       "      <td>110.42</td>\n",
       "      <td>110.57</td>\n",
       "      <td>109.80</td>\n",
       "      <td>110.0100</td>\n",
       "      <td>3668988</td>\n",
       "    </tr>\n",
       "    <tr>\n",
       "      <th>1</th>\n",
       "      <td>17:00:00</td>\n",
       "      <td>110.01</td>\n",
       "      <td>110.14</td>\n",
       "      <td>109.40</td>\n",
       "      <td>109.4600</td>\n",
       "      <td>4347184</td>\n",
       "    </tr>\n",
       "    <tr>\n",
       "      <th>2</th>\n",
       "      <td>18:00:00</td>\n",
       "      <td>109.47</td>\n",
       "      <td>109.94</td>\n",
       "      <td>109.46</td>\n",
       "      <td>109.9400</td>\n",
       "      <td>3094138</td>\n",
       "    </tr>\n",
       "    <tr>\n",
       "      <th>3</th>\n",
       "      <td>19:00:00</td>\n",
       "      <td>109.94</td>\n",
       "      <td>110.15</td>\n",
       "      <td>109.84</td>\n",
       "      <td>110.0100</td>\n",
       "      <td>2285072</td>\n",
       "    </tr>\n",
       "    <tr>\n",
       "      <th>4</th>\n",
       "      <td>20:00:00</td>\n",
       "      <td>110.02</td>\n",
       "      <td>110.24</td>\n",
       "      <td>109.76</td>\n",
       "      <td>110.1200</td>\n",
       "      <td>1860117</td>\n",
       "    </tr>\n",
       "    <tr>\n",
       "      <th>...</th>\n",
       "      <td>...</td>\n",
       "      <td>...</td>\n",
       "      <td>...</td>\n",
       "      <td>...</td>\n",
       "      <td>...</td>\n",
       "      <td>...</td>\n",
       "    </tr>\n",
       "    <tr>\n",
       "      <th>9</th>\n",
       "      <td>18:00:00</td>\n",
       "      <td>757.61</td>\n",
       "      <td>759.44</td>\n",
       "      <td>756.00</td>\n",
       "      <td>759.4400</td>\n",
       "      <td>95916</td>\n",
       "    </tr>\n",
       "    <tr>\n",
       "      <th>10</th>\n",
       "      <td>19:00:00</td>\n",
       "      <td>759.45</td>\n",
       "      <td>760.50</td>\n",
       "      <td>757.57</td>\n",
       "      <td>757.9851</td>\n",
       "      <td>82822</td>\n",
       "    </tr>\n",
       "    <tr>\n",
       "      <th>11</th>\n",
       "      <td>20:00:00</td>\n",
       "      <td>758.19</td>\n",
       "      <td>759.27</td>\n",
       "      <td>756.60</td>\n",
       "      <td>756.8800</td>\n",
       "      <td>57723</td>\n",
       "    </tr>\n",
       "    <tr>\n",
       "      <th>12</th>\n",
       "      <td>21:00:00</td>\n",
       "      <td>757.33</td>\n",
       "      <td>760.10</td>\n",
       "      <td>757.20</td>\n",
       "      <td>758.5660</td>\n",
       "      <td>59007</td>\n",
       "    </tr>\n",
       "    <tr>\n",
       "      <th>13</th>\n",
       "      <td>22:00:00</td>\n",
       "      <td>758.49</td>\n",
       "      <td>761.07</td>\n",
       "      <td>758.10</td>\n",
       "      <td>760.9900</td>\n",
       "      <td>334191</td>\n",
       "    </tr>\n",
       "  </tbody>\n",
       "</table>\n",
       "<p>14 rows × 6 columns</p>\n",
       "</div>"
      ],
      "text/plain": [
       "        Time    Open    High     Low     Close   Volume\n",
       "0   16:00:00  110.42  110.57  109.80  110.0100  3668988\n",
       "1   17:00:00  110.01  110.14  109.40  109.4600  4347184\n",
       "2   18:00:00  109.47  109.94  109.46  109.9400  3094138\n",
       "3   19:00:00  109.94  110.15  109.84  110.0100  2285072\n",
       "4   20:00:00  110.02  110.24  109.76  110.1200  1860117\n",
       "..       ...     ...     ...     ...       ...      ...\n",
       "9   18:00:00  757.61  759.44  756.00  759.4400    95916\n",
       "10  19:00:00  759.45  760.50  757.57  757.9851    82822\n",
       "11  20:00:00  758.19  759.27  756.60  756.8800    57723\n",
       "12  21:00:00  757.33  760.10  757.20  758.5660    59007\n",
       "13  22:00:00  758.49  761.07  758.10  760.9900   334191\n",
       "\n",
       "[14 rows x 6 columns]"
      ]
     },
     "execution_count": 98,
     "metadata": {},
     "output_type": "execute_result"
    }
   ],
   "source": [
    "pd.concat( [ dfs['AAPL'], dfs['GOOG'] ], ignore_index=True )"
   ]
  },
  {
   "cell_type": "code",
   "execution_count": 99,
   "metadata": {},
   "outputs": [
    {
     "data": {
      "text/html": [
       "<div>\n",
       "<style>\n",
       "    .dataframe thead tr:only-child th {\n",
       "        text-align: right;\n",
       "    }\n",
       "\n",
       "    .dataframe thead th {\n",
       "        text-align: left;\n",
       "    }\n",
       "\n",
       "    .dataframe tbody tr th {\n",
       "        vertical-align: top;\n",
       "    }\n",
       "</style>\n",
       "<table border=\"1\" class=\"dataframe\">\n",
       "  <thead>\n",
       "    <tr style=\"text-align: right;\">\n",
       "      <th></th>\n",
       "      <th>Time</th>\n",
       "      <th>Open</th>\n",
       "      <th>High</th>\n",
       "      <th>Low</th>\n",
       "      <th>Close</th>\n",
       "      <th>Volume</th>\n",
       "    </tr>\n",
       "  </thead>\n",
       "  <tbody>\n",
       "    <tr>\n",
       "      <th>0</th>\n",
       "      <td>16:00:00</td>\n",
       "      <td>110.42</td>\n",
       "      <td>110.57</td>\n",
       "      <td>109.80</td>\n",
       "      <td>110.0100</td>\n",
       "      <td>3668988</td>\n",
       "    </tr>\n",
       "    <tr>\n",
       "      <th>1</th>\n",
       "      <td>17:00:00</td>\n",
       "      <td>110.01</td>\n",
       "      <td>110.14</td>\n",
       "      <td>109.40</td>\n",
       "      <td>109.4600</td>\n",
       "      <td>4347184</td>\n",
       "    </tr>\n",
       "    <tr>\n",
       "      <th>2</th>\n",
       "      <td>18:00:00</td>\n",
       "      <td>109.47</td>\n",
       "      <td>109.94</td>\n",
       "      <td>109.46</td>\n",
       "      <td>109.9400</td>\n",
       "      <td>3094138</td>\n",
       "    </tr>\n",
       "    <tr>\n",
       "      <th>3</th>\n",
       "      <td>19:00:00</td>\n",
       "      <td>109.94</td>\n",
       "      <td>110.15</td>\n",
       "      <td>109.84</td>\n",
       "      <td>110.0100</td>\n",
       "      <td>2285072</td>\n",
       "    </tr>\n",
       "    <tr>\n",
       "      <th>4</th>\n",
       "      <td>20:00:00</td>\n",
       "      <td>110.02</td>\n",
       "      <td>110.24</td>\n",
       "      <td>109.76</td>\n",
       "      <td>110.1200</td>\n",
       "      <td>1860117</td>\n",
       "    </tr>\n",
       "    <tr>\n",
       "      <th>...</th>\n",
       "      <td>...</td>\n",
       "      <td>...</td>\n",
       "      <td>...</td>\n",
       "      <td>...</td>\n",
       "      <td>...</td>\n",
       "      <td>...</td>\n",
       "    </tr>\n",
       "    <tr>\n",
       "      <th>9</th>\n",
       "      <td>18:00:00</td>\n",
       "      <td>757.61</td>\n",
       "      <td>759.44</td>\n",
       "      <td>756.00</td>\n",
       "      <td>759.4400</td>\n",
       "      <td>95916</td>\n",
       "    </tr>\n",
       "    <tr>\n",
       "      <th>10</th>\n",
       "      <td>19:00:00</td>\n",
       "      <td>759.45</td>\n",
       "      <td>760.50</td>\n",
       "      <td>757.57</td>\n",
       "      <td>757.9851</td>\n",
       "      <td>82822</td>\n",
       "    </tr>\n",
       "    <tr>\n",
       "      <th>11</th>\n",
       "      <td>20:00:00</td>\n",
       "      <td>758.19</td>\n",
       "      <td>759.27</td>\n",
       "      <td>756.60</td>\n",
       "      <td>756.8800</td>\n",
       "      <td>57723</td>\n",
       "    </tr>\n",
       "    <tr>\n",
       "      <th>12</th>\n",
       "      <td>21:00:00</td>\n",
       "      <td>757.33</td>\n",
       "      <td>760.10</td>\n",
       "      <td>757.20</td>\n",
       "      <td>758.5660</td>\n",
       "      <td>59007</td>\n",
       "    </tr>\n",
       "    <tr>\n",
       "      <th>13</th>\n",
       "      <td>22:00:00</td>\n",
       "      <td>758.49</td>\n",
       "      <td>761.07</td>\n",
       "      <td>758.10</td>\n",
       "      <td>760.9900</td>\n",
       "      <td>334191</td>\n",
       "    </tr>\n",
       "  </tbody>\n",
       "</table>\n",
       "<p>14 rows × 6 columns</p>\n",
       "</div>"
      ],
      "text/plain": [
       "        Time    Open    High     Low     Close   Volume\n",
       "0   16:00:00  110.42  110.57  109.80  110.0100  3668988\n",
       "1   17:00:00  110.01  110.14  109.40  109.4600  4347184\n",
       "2   18:00:00  109.47  109.94  109.46  109.9400  3094138\n",
       "3   19:00:00  109.94  110.15  109.84  110.0100  2285072\n",
       "4   20:00:00  110.02  110.24  109.76  110.1200  1860117\n",
       "..       ...     ...     ...     ...       ...      ...\n",
       "9   18:00:00  757.61  759.44  756.00  759.4400    95916\n",
       "10  19:00:00  759.45  760.50  757.57  757.9851    82822\n",
       "11  20:00:00  758.19  759.27  756.60  756.8800    57723\n",
       "12  21:00:00  757.33  760.10  757.20  758.5660    59007\n",
       "13  22:00:00  758.49  761.07  758.10  760.9900   334191\n",
       "\n",
       "[14 rows x 6 columns]"
      ]
     },
     "execution_count": 99,
     "metadata": {},
     "output_type": "execute_result"
    }
   ],
   "source": [
    "pd.concat([dfs['AAPL'], dfs['GOOG']], ignore_index=True)"
   ]
  },
  {
   "cell_type": "code",
   "execution_count": 100,
   "metadata": {},
   "outputs": [
    {
     "data": {
      "text/html": [
       "<div>\n",
       "<style>\n",
       "    .dataframe thead tr:only-child th {\n",
       "        text-align: right;\n",
       "    }\n",
       "\n",
       "    .dataframe thead th {\n",
       "        text-align: left;\n",
       "    }\n",
       "\n",
       "    .dataframe tbody tr th {\n",
       "        vertical-align: top;\n",
       "    }\n",
       "</style>\n",
       "<table border=\"1\" class=\"dataframe\">\n",
       "  <thead>\n",
       "    <tr style=\"text-align: right;\">\n",
       "      <th></th>\n",
       "      <th>Time</th>\n",
       "      <th>Open</th>\n",
       "      <th>High</th>\n",
       "      <th>Low</th>\n",
       "      <th>Close</th>\n",
       "      <th>...</th>\n",
       "      <th>Open</th>\n",
       "      <th>High</th>\n",
       "      <th>Low</th>\n",
       "      <th>Close</th>\n",
       "      <th>Volume</th>\n",
       "    </tr>\n",
       "  </thead>\n",
       "  <tbody>\n",
       "    <tr>\n",
       "      <th>0</th>\n",
       "      <td>16:00:00</td>\n",
       "      <td>110.42</td>\n",
       "      <td>110.57</td>\n",
       "      <td>109.80</td>\n",
       "      <td>110.01</td>\n",
       "      <td>...</td>\n",
       "      <td>767.73</td>\n",
       "      <td>768.2825</td>\n",
       "      <td>756.35</td>\n",
       "      <td>757.9900</td>\n",
       "      <td>230877</td>\n",
       "    </tr>\n",
       "    <tr>\n",
       "      <th>1</th>\n",
       "      <td>17:00:00</td>\n",
       "      <td>110.01</td>\n",
       "      <td>110.14</td>\n",
       "      <td>109.40</td>\n",
       "      <td>109.46</td>\n",
       "      <td>...</td>\n",
       "      <td>757.94</td>\n",
       "      <td>759.6100</td>\n",
       "      <td>755.25</td>\n",
       "      <td>757.7500</td>\n",
       "      <td>188032</td>\n",
       "    </tr>\n",
       "    <tr>\n",
       "      <th>2</th>\n",
       "      <td>18:00:00</td>\n",
       "      <td>109.47</td>\n",
       "      <td>109.94</td>\n",
       "      <td>109.46</td>\n",
       "      <td>109.94</td>\n",
       "      <td>...</td>\n",
       "      <td>757.61</td>\n",
       "      <td>759.4400</td>\n",
       "      <td>756.00</td>\n",
       "      <td>759.4400</td>\n",
       "      <td>95916</td>\n",
       "    </tr>\n",
       "    <tr>\n",
       "      <th>3</th>\n",
       "      <td>19:00:00</td>\n",
       "      <td>109.94</td>\n",
       "      <td>110.15</td>\n",
       "      <td>109.84</td>\n",
       "      <td>110.01</td>\n",
       "      <td>...</td>\n",
       "      <td>759.45</td>\n",
       "      <td>760.5000</td>\n",
       "      <td>757.57</td>\n",
       "      <td>757.9851</td>\n",
       "      <td>82822</td>\n",
       "    </tr>\n",
       "    <tr>\n",
       "      <th>4</th>\n",
       "      <td>20:00:00</td>\n",
       "      <td>110.02</td>\n",
       "      <td>110.24</td>\n",
       "      <td>109.76</td>\n",
       "      <td>110.12</td>\n",
       "      <td>...</td>\n",
       "      <td>758.19</td>\n",
       "      <td>759.2700</td>\n",
       "      <td>756.60</td>\n",
       "      <td>756.8800</td>\n",
       "      <td>57723</td>\n",
       "    </tr>\n",
       "    <tr>\n",
       "      <th>5</th>\n",
       "      <td>21:00:00</td>\n",
       "      <td>110.12</td>\n",
       "      <td>110.43</td>\n",
       "      <td>110.08</td>\n",
       "      <td>110.12</td>\n",
       "      <td>...</td>\n",
       "      <td>757.33</td>\n",
       "      <td>760.1000</td>\n",
       "      <td>757.20</td>\n",
       "      <td>758.5660</td>\n",
       "      <td>59007</td>\n",
       "    </tr>\n",
       "    <tr>\n",
       "      <th>6</th>\n",
       "      <td>22:00:00</td>\n",
       "      <td>110.11</td>\n",
       "      <td>110.30</td>\n",
       "      <td>109.97</td>\n",
       "      <td>110.28</td>\n",
       "      <td>...</td>\n",
       "      <td>758.49</td>\n",
       "      <td>761.0700</td>\n",
       "      <td>758.10</td>\n",
       "      <td>760.9900</td>\n",
       "      <td>334191</td>\n",
       "    </tr>\n",
       "  </tbody>\n",
       "</table>\n",
       "<p>7 rows × 12 columns</p>\n",
       "</div>"
      ],
      "text/plain": [
       "       Time    Open    High     Low   Close   ...      Open      High     Low  \\\n",
       "0  16:00:00  110.42  110.57  109.80  110.01   ...    767.73  768.2825  756.35   \n",
       "1  17:00:00  110.01  110.14  109.40  109.46   ...    757.94  759.6100  755.25   \n",
       "2  18:00:00  109.47  109.94  109.46  109.94   ...    757.61  759.4400  756.00   \n",
       "3  19:00:00  109.94  110.15  109.84  110.01   ...    759.45  760.5000  757.57   \n",
       "4  20:00:00  110.02  110.24  109.76  110.12   ...    758.19  759.2700  756.60   \n",
       "5  21:00:00  110.12  110.43  110.08  110.12   ...    757.33  760.1000  757.20   \n",
       "6  22:00:00  110.11  110.30  109.97  110.28   ...    758.49  761.0700  758.10   \n",
       "\n",
       "      Close  Volume  \n",
       "0  757.9900  230877  \n",
       "1  757.7500  188032  \n",
       "2  759.4400   95916  \n",
       "3  757.9851   82822  \n",
       "4  756.8800   57723  \n",
       "5  758.5660   59007  \n",
       "6  760.9900  334191  \n",
       "\n",
       "[7 rows x 12 columns]"
      ]
     },
     "execution_count": 100,
     "metadata": {},
     "output_type": "execute_result"
    }
   ],
   "source": [
    "pd.concat([dfs['AAPL'], dfs['GOOG']], axis=1)"
   ]
  },
  {
   "cell_type": "code",
   "execution_count": 102,
   "metadata": {},
   "outputs": [
    {
     "data": {
      "text/html": [
       "<div>\n",
       "<style>\n",
       "    .dataframe thead tr:only-child th {\n",
       "        text-align: right;\n",
       "    }\n",
       "\n",
       "    .dataframe thead th {\n",
       "        text-align: left;\n",
       "    }\n",
       "\n",
       "    .dataframe tbody tr th {\n",
       "        vertical-align: top;\n",
       "    }\n",
       "</style>\n",
       "<table border=\"1\" class=\"dataframe\">\n",
       "  <thead>\n",
       "    <tr style=\"text-align: right;\">\n",
       "      <th></th>\n",
       "      <th>AAPL_Time</th>\n",
       "      <th>AAPL_Open</th>\n",
       "      <th>AAPL_High</th>\n",
       "      <th>AAPL_Low</th>\n",
       "      <th>AAPL_Close</th>\n",
       "      <th>AAPL_Volume</th>\n",
       "    </tr>\n",
       "  </thead>\n",
       "  <tbody>\n",
       "    <tr>\n",
       "      <th>0</th>\n",
       "      <td>16:00:00</td>\n",
       "      <td>110.42</td>\n",
       "      <td>110.57</td>\n",
       "      <td>109.80</td>\n",
       "      <td>110.01</td>\n",
       "      <td>3668988</td>\n",
       "    </tr>\n",
       "    <tr>\n",
       "      <th>1</th>\n",
       "      <td>17:00:00</td>\n",
       "      <td>110.01</td>\n",
       "      <td>110.14</td>\n",
       "      <td>109.40</td>\n",
       "      <td>109.46</td>\n",
       "      <td>4347184</td>\n",
       "    </tr>\n",
       "    <tr>\n",
       "      <th>2</th>\n",
       "      <td>18:00:00</td>\n",
       "      <td>109.47</td>\n",
       "      <td>109.94</td>\n",
       "      <td>109.46</td>\n",
       "      <td>109.94</td>\n",
       "      <td>3094138</td>\n",
       "    </tr>\n",
       "    <tr>\n",
       "      <th>3</th>\n",
       "      <td>19:00:00</td>\n",
       "      <td>109.94</td>\n",
       "      <td>110.15</td>\n",
       "      <td>109.84</td>\n",
       "      <td>110.01</td>\n",
       "      <td>2285072</td>\n",
       "    </tr>\n",
       "    <tr>\n",
       "      <th>4</th>\n",
       "      <td>20:00:00</td>\n",
       "      <td>110.02</td>\n",
       "      <td>110.24</td>\n",
       "      <td>109.76</td>\n",
       "      <td>110.12</td>\n",
       "      <td>1860117</td>\n",
       "    </tr>\n",
       "    <tr>\n",
       "      <th>5</th>\n",
       "      <td>21:00:00</td>\n",
       "      <td>110.12</td>\n",
       "      <td>110.43</td>\n",
       "      <td>110.08</td>\n",
       "      <td>110.12</td>\n",
       "      <td>2140079</td>\n",
       "    </tr>\n",
       "    <tr>\n",
       "      <th>6</th>\n",
       "      <td>22:00:00</td>\n",
       "      <td>110.11</td>\n",
       "      <td>110.30</td>\n",
       "      <td>109.97</td>\n",
       "      <td>110.28</td>\n",
       "      <td>5637615</td>\n",
       "    </tr>\n",
       "  </tbody>\n",
       "</table>\n",
       "</div>"
      ],
      "text/plain": [
       "  AAPL_Time  AAPL_Open  AAPL_High  AAPL_Low  AAPL_Close  AAPL_Volume\n",
       "0  16:00:00     110.42     110.57    109.80      110.01      3668988\n",
       "1  17:00:00     110.01     110.14    109.40      109.46      4347184\n",
       "2  18:00:00     109.47     109.94    109.46      109.94      3094138\n",
       "3  19:00:00     109.94     110.15    109.84      110.01      2285072\n",
       "4  20:00:00     110.02     110.24    109.76      110.12      1860117\n",
       "5  21:00:00     110.12     110.43    110.08      110.12      2140079\n",
       "6  22:00:00     110.11     110.30    109.97      110.28      5637615"
      ]
     },
     "execution_count": 102,
     "metadata": {},
     "output_type": "execute_result"
    }
   ],
   "source": [
    "dfs['AAPL'].add_prefix('AAPL_')"
   ]
  },
  {
   "cell_type": "code",
   "execution_count": 103,
   "metadata": {},
   "outputs": [
    {
     "data": {
      "text/html": [
       "<div>\n",
       "<style>\n",
       "    .dataframe thead tr:only-child th {\n",
       "        text-align: right;\n",
       "    }\n",
       "\n",
       "    .dataframe thead th {\n",
       "        text-align: left;\n",
       "    }\n",
       "\n",
       "    .dataframe tbody tr th {\n",
       "        vertical-align: top;\n",
       "    }\n",
       "</style>\n",
       "<table border=\"1\" class=\"dataframe\">\n",
       "  <thead>\n",
       "    <tr style=\"text-align: right;\">\n",
       "      <th></th>\n",
       "      <th>AAPL_Time</th>\n",
       "      <th>AAPL_Open</th>\n",
       "      <th>AAPL_High</th>\n",
       "      <th>AAPL_Low</th>\n",
       "      <th>AAPL_Close</th>\n",
       "      <th>...</th>\n",
       "      <th>GOOG_Open</th>\n",
       "      <th>GOOG_High</th>\n",
       "      <th>GOOG_Low</th>\n",
       "      <th>GOOG_Close</th>\n",
       "      <th>GOOG_Volume</th>\n",
       "    </tr>\n",
       "  </thead>\n",
       "  <tbody>\n",
       "    <tr>\n",
       "      <th>0</th>\n",
       "      <td>16:00:00</td>\n",
       "      <td>110.42</td>\n",
       "      <td>110.57</td>\n",
       "      <td>109.80</td>\n",
       "      <td>110.01</td>\n",
       "      <td>...</td>\n",
       "      <td>767.73</td>\n",
       "      <td>768.2825</td>\n",
       "      <td>756.35</td>\n",
       "      <td>757.9900</td>\n",
       "      <td>230877</td>\n",
       "    </tr>\n",
       "    <tr>\n",
       "      <th>1</th>\n",
       "      <td>17:00:00</td>\n",
       "      <td>110.01</td>\n",
       "      <td>110.14</td>\n",
       "      <td>109.40</td>\n",
       "      <td>109.46</td>\n",
       "      <td>...</td>\n",
       "      <td>757.94</td>\n",
       "      <td>759.6100</td>\n",
       "      <td>755.25</td>\n",
       "      <td>757.7500</td>\n",
       "      <td>188032</td>\n",
       "    </tr>\n",
       "    <tr>\n",
       "      <th>2</th>\n",
       "      <td>18:00:00</td>\n",
       "      <td>109.47</td>\n",
       "      <td>109.94</td>\n",
       "      <td>109.46</td>\n",
       "      <td>109.94</td>\n",
       "      <td>...</td>\n",
       "      <td>757.61</td>\n",
       "      <td>759.4400</td>\n",
       "      <td>756.00</td>\n",
       "      <td>759.4400</td>\n",
       "      <td>95916</td>\n",
       "    </tr>\n",
       "    <tr>\n",
       "      <th>3</th>\n",
       "      <td>19:00:00</td>\n",
       "      <td>109.94</td>\n",
       "      <td>110.15</td>\n",
       "      <td>109.84</td>\n",
       "      <td>110.01</td>\n",
       "      <td>...</td>\n",
       "      <td>759.45</td>\n",
       "      <td>760.5000</td>\n",
       "      <td>757.57</td>\n",
       "      <td>757.9851</td>\n",
       "      <td>82822</td>\n",
       "    </tr>\n",
       "    <tr>\n",
       "      <th>4</th>\n",
       "      <td>20:00:00</td>\n",
       "      <td>110.02</td>\n",
       "      <td>110.24</td>\n",
       "      <td>109.76</td>\n",
       "      <td>110.12</td>\n",
       "      <td>...</td>\n",
       "      <td>758.19</td>\n",
       "      <td>759.2700</td>\n",
       "      <td>756.60</td>\n",
       "      <td>756.8800</td>\n",
       "      <td>57723</td>\n",
       "    </tr>\n",
       "    <tr>\n",
       "      <th>5</th>\n",
       "      <td>21:00:00</td>\n",
       "      <td>110.12</td>\n",
       "      <td>110.43</td>\n",
       "      <td>110.08</td>\n",
       "      <td>110.12</td>\n",
       "      <td>...</td>\n",
       "      <td>757.33</td>\n",
       "      <td>760.1000</td>\n",
       "      <td>757.20</td>\n",
       "      <td>758.5660</td>\n",
       "      <td>59007</td>\n",
       "    </tr>\n",
       "    <tr>\n",
       "      <th>6</th>\n",
       "      <td>22:00:00</td>\n",
       "      <td>110.11</td>\n",
       "      <td>110.30</td>\n",
       "      <td>109.97</td>\n",
       "      <td>110.28</td>\n",
       "      <td>...</td>\n",
       "      <td>758.49</td>\n",
       "      <td>761.0700</td>\n",
       "      <td>758.10</td>\n",
       "      <td>760.9900</td>\n",
       "      <td>334191</td>\n",
       "    </tr>\n",
       "  </tbody>\n",
       "</table>\n",
       "<p>7 rows × 12 columns</p>\n",
       "</div>"
      ],
      "text/plain": [
       "  AAPL_Time  AAPL_Open  AAPL_High  AAPL_Low  AAPL_Close     ...       \\\n",
       "0  16:00:00     110.42     110.57    109.80      110.01     ...        \n",
       "1  17:00:00     110.01     110.14    109.40      109.46     ...        \n",
       "2  18:00:00     109.47     109.94    109.46      109.94     ...        \n",
       "3  19:00:00     109.94     110.15    109.84      110.01     ...        \n",
       "4  20:00:00     110.02     110.24    109.76      110.12     ...        \n",
       "5  21:00:00     110.12     110.43    110.08      110.12     ...        \n",
       "6  22:00:00     110.11     110.30    109.97      110.28     ...        \n",
       "\n",
       "   GOOG_Open GOOG_High  GOOG_Low  GOOG_Close  GOOG_Volume  \n",
       "0     767.73  768.2825    756.35    757.9900       230877  \n",
       "1     757.94  759.6100    755.25    757.7500       188032  \n",
       "2     757.61  759.4400    756.00    759.4400        95916  \n",
       "3     759.45  760.5000    757.57    757.9851        82822  \n",
       "4     758.19  759.2700    756.60    756.8800        57723  \n",
       "5     757.33  760.1000    757.20    758.5660        59007  \n",
       "6     758.49  761.0700    758.10    760.9900       334191  \n",
       "\n",
       "[7 rows x 12 columns]"
      ]
     },
     "execution_count": 103,
     "metadata": {},
     "output_type": "execute_result"
    }
   ],
   "source": [
    "pd.concat([dfs['AAPL'].add_prefix('AAPL_'), dfs['GOOG'].add_prefix('GOOG_')], axis=1)"
   ]
  },
  {
   "cell_type": "markdown",
   "metadata": {},
   "source": [
    "`pd.merge()` – продвинутый способ объединения таблиц. Важные параметры:\n",
    "- `how='inner'` – тип джойна: `'inner'` (пересечение индексов),`'outer'` (объединение индексов), `'left'`/`'right'` (индексы левой/правой таблицы)\n",
    "- `left_on='col_name'` или `left_index=True` – поле (или индекс) для джойна левой таблицы\n",
    "- `right_on='col_name` или `right_index=True` – поле (или индекс) для джойна правой таблицы"
   ]
  },
  {
   "cell_type": "code",
   "execution_count": 104,
   "metadata": {},
   "outputs": [
    {
     "data": {
      "text/html": [
       "<div>\n",
       "<style>\n",
       "    .dataframe thead tr:only-child th {\n",
       "        text-align: right;\n",
       "    }\n",
       "\n",
       "    .dataframe thead th {\n",
       "        text-align: left;\n",
       "    }\n",
       "\n",
       "    .dataframe tbody tr th {\n",
       "        vertical-align: top;\n",
       "    }\n",
       "</style>\n",
       "<table border=\"1\" class=\"dataframe\">\n",
       "  <thead>\n",
       "    <tr style=\"text-align: right;\">\n",
       "      <th></th>\n",
       "      <th>Time</th>\n",
       "      <th>Open_AAPL</th>\n",
       "      <th>High_AAPL</th>\n",
       "      <th>Low_AAPL</th>\n",
       "      <th>Close_AAPL</th>\n",
       "      <th>...</th>\n",
       "      <th>Open_GOOG</th>\n",
       "      <th>High_GOOG</th>\n",
       "      <th>Low_GOOG</th>\n",
       "      <th>Close_GOOG</th>\n",
       "      <th>Volume_GOOG</th>\n",
       "    </tr>\n",
       "  </thead>\n",
       "  <tbody>\n",
       "    <tr>\n",
       "      <th>0</th>\n",
       "      <td>16:00:00</td>\n",
       "      <td>110.42</td>\n",
       "      <td>110.57</td>\n",
       "      <td>109.80</td>\n",
       "      <td>110.01</td>\n",
       "      <td>...</td>\n",
       "      <td>767.73</td>\n",
       "      <td>768.2825</td>\n",
       "      <td>756.35</td>\n",
       "      <td>757.9900</td>\n",
       "      <td>230877</td>\n",
       "    </tr>\n",
       "    <tr>\n",
       "      <th>1</th>\n",
       "      <td>17:00:00</td>\n",
       "      <td>110.01</td>\n",
       "      <td>110.14</td>\n",
       "      <td>109.40</td>\n",
       "      <td>109.46</td>\n",
       "      <td>...</td>\n",
       "      <td>757.94</td>\n",
       "      <td>759.6100</td>\n",
       "      <td>755.25</td>\n",
       "      <td>757.7500</td>\n",
       "      <td>188032</td>\n",
       "    </tr>\n",
       "    <tr>\n",
       "      <th>2</th>\n",
       "      <td>18:00:00</td>\n",
       "      <td>109.47</td>\n",
       "      <td>109.94</td>\n",
       "      <td>109.46</td>\n",
       "      <td>109.94</td>\n",
       "      <td>...</td>\n",
       "      <td>757.61</td>\n",
       "      <td>759.4400</td>\n",
       "      <td>756.00</td>\n",
       "      <td>759.4400</td>\n",
       "      <td>95916</td>\n",
       "    </tr>\n",
       "    <tr>\n",
       "      <th>3</th>\n",
       "      <td>19:00:00</td>\n",
       "      <td>109.94</td>\n",
       "      <td>110.15</td>\n",
       "      <td>109.84</td>\n",
       "      <td>110.01</td>\n",
       "      <td>...</td>\n",
       "      <td>759.45</td>\n",
       "      <td>760.5000</td>\n",
       "      <td>757.57</td>\n",
       "      <td>757.9851</td>\n",
       "      <td>82822</td>\n",
       "    </tr>\n",
       "    <tr>\n",
       "      <th>4</th>\n",
       "      <td>20:00:00</td>\n",
       "      <td>110.02</td>\n",
       "      <td>110.24</td>\n",
       "      <td>109.76</td>\n",
       "      <td>110.12</td>\n",
       "      <td>...</td>\n",
       "      <td>758.19</td>\n",
       "      <td>759.2700</td>\n",
       "      <td>756.60</td>\n",
       "      <td>756.8800</td>\n",
       "      <td>57723</td>\n",
       "    </tr>\n",
       "    <tr>\n",
       "      <th>5</th>\n",
       "      <td>21:00:00</td>\n",
       "      <td>110.12</td>\n",
       "      <td>110.43</td>\n",
       "      <td>110.08</td>\n",
       "      <td>110.12</td>\n",
       "      <td>...</td>\n",
       "      <td>757.33</td>\n",
       "      <td>760.1000</td>\n",
       "      <td>757.20</td>\n",
       "      <td>758.5660</td>\n",
       "      <td>59007</td>\n",
       "    </tr>\n",
       "    <tr>\n",
       "      <th>6</th>\n",
       "      <td>22:00:00</td>\n",
       "      <td>110.11</td>\n",
       "      <td>110.30</td>\n",
       "      <td>109.97</td>\n",
       "      <td>110.28</td>\n",
       "      <td>...</td>\n",
       "      <td>758.49</td>\n",
       "      <td>761.0700</td>\n",
       "      <td>758.10</td>\n",
       "      <td>760.9900</td>\n",
       "      <td>334191</td>\n",
       "    </tr>\n",
       "  </tbody>\n",
       "</table>\n",
       "<p>7 rows × 11 columns</p>\n",
       "</div>"
      ],
      "text/plain": [
       "       Time  Open_AAPL  High_AAPL  Low_AAPL  Close_AAPL     ...       \\\n",
       "0  16:00:00     110.42     110.57    109.80      110.01     ...        \n",
       "1  17:00:00     110.01     110.14    109.40      109.46     ...        \n",
       "2  18:00:00     109.47     109.94    109.46      109.94     ...        \n",
       "3  19:00:00     109.94     110.15    109.84      110.01     ...        \n",
       "4  20:00:00     110.02     110.24    109.76      110.12     ...        \n",
       "5  21:00:00     110.12     110.43    110.08      110.12     ...        \n",
       "6  22:00:00     110.11     110.30    109.97      110.28     ...        \n",
       "\n",
       "   Open_GOOG  High_GOOG  Low_GOOG  Close_GOOG  Volume_GOOG  \n",
       "0     767.73   768.2825    756.35    757.9900       230877  \n",
       "1     757.94   759.6100    755.25    757.7500       188032  \n",
       "2     757.61   759.4400    756.00    759.4400        95916  \n",
       "3     759.45   760.5000    757.57    757.9851        82822  \n",
       "4     758.19   759.2700    756.60    756.8800        57723  \n",
       "5     757.33   760.1000    757.20    758.5660        59007  \n",
       "6     758.49   761.0700    758.10    760.9900       334191  \n",
       "\n",
       "[7 rows x 11 columns]"
      ]
     },
     "execution_count": 104,
     "metadata": {},
     "output_type": "execute_result"
    }
   ],
   "source": [
    "pd.merge(dfs['AAPL'], dfs['GOOG'], how='outer', on='Time', suffixes=('_AAPL', '_GOOG'))"
   ]
  },
  {
   "cell_type": "code",
   "execution_count": 105,
   "metadata": {},
   "outputs": [
    {
     "data": {
      "text/html": [
       "<div>\n",
       "<style>\n",
       "    .dataframe thead tr:only-child th {\n",
       "        text-align: right;\n",
       "    }\n",
       "\n",
       "    .dataframe thead th {\n",
       "        text-align: left;\n",
       "    }\n",
       "\n",
       "    .dataframe tbody tr th {\n",
       "        vertical-align: top;\n",
       "    }\n",
       "</style>\n",
       "<table border=\"1\" class=\"dataframe\">\n",
       "  <thead>\n",
       "    <tr style=\"text-align: right;\">\n",
       "      <th></th>\n",
       "      <th>Time</th>\n",
       "      <th>Open</th>\n",
       "      <th>High</th>\n",
       "      <th>Low</th>\n",
       "      <th>Close</th>\n",
       "      <th>Volume</th>\n",
       "    </tr>\n",
       "  </thead>\n",
       "  <tbody>\n",
       "    <tr>\n",
       "      <th>0</th>\n",
       "      <td>16:00:00</td>\n",
       "      <td>110.42</td>\n",
       "      <td>110.57</td>\n",
       "      <td>109.80</td>\n",
       "      <td>110.0100</td>\n",
       "      <td>3668988</td>\n",
       "    </tr>\n",
       "    <tr>\n",
       "      <th>1</th>\n",
       "      <td>17:00:00</td>\n",
       "      <td>110.01</td>\n",
       "      <td>110.14</td>\n",
       "      <td>109.40</td>\n",
       "      <td>109.4600</td>\n",
       "      <td>4347184</td>\n",
       "    </tr>\n",
       "    <tr>\n",
       "      <th>2</th>\n",
       "      <td>18:00:00</td>\n",
       "      <td>109.47</td>\n",
       "      <td>109.94</td>\n",
       "      <td>109.46</td>\n",
       "      <td>109.9400</td>\n",
       "      <td>3094138</td>\n",
       "    </tr>\n",
       "    <tr>\n",
       "      <th>3</th>\n",
       "      <td>19:00:00</td>\n",
       "      <td>109.94</td>\n",
       "      <td>110.15</td>\n",
       "      <td>109.84</td>\n",
       "      <td>110.0100</td>\n",
       "      <td>2285072</td>\n",
       "    </tr>\n",
       "    <tr>\n",
       "      <th>4</th>\n",
       "      <td>20:00:00</td>\n",
       "      <td>110.02</td>\n",
       "      <td>110.24</td>\n",
       "      <td>109.76</td>\n",
       "      <td>110.1200</td>\n",
       "      <td>1860117</td>\n",
       "    </tr>\n",
       "    <tr>\n",
       "      <th>...</th>\n",
       "      <td>...</td>\n",
       "      <td>...</td>\n",
       "      <td>...</td>\n",
       "      <td>...</td>\n",
       "      <td>...</td>\n",
       "      <td>...</td>\n",
       "    </tr>\n",
       "    <tr>\n",
       "      <th>2</th>\n",
       "      <td>18:00:00</td>\n",
       "      <td>757.61</td>\n",
       "      <td>759.44</td>\n",
       "      <td>756.00</td>\n",
       "      <td>759.4400</td>\n",
       "      <td>95916</td>\n",
       "    </tr>\n",
       "    <tr>\n",
       "      <th>3</th>\n",
       "      <td>19:00:00</td>\n",
       "      <td>759.45</td>\n",
       "      <td>760.50</td>\n",
       "      <td>757.57</td>\n",
       "      <td>757.9851</td>\n",
       "      <td>82822</td>\n",
       "    </tr>\n",
       "    <tr>\n",
       "      <th>4</th>\n",
       "      <td>20:00:00</td>\n",
       "      <td>758.19</td>\n",
       "      <td>759.27</td>\n",
       "      <td>756.60</td>\n",
       "      <td>756.8800</td>\n",
       "      <td>57723</td>\n",
       "    </tr>\n",
       "    <tr>\n",
       "      <th>5</th>\n",
       "      <td>21:00:00</td>\n",
       "      <td>757.33</td>\n",
       "      <td>760.10</td>\n",
       "      <td>757.20</td>\n",
       "      <td>758.5660</td>\n",
       "      <td>59007</td>\n",
       "    </tr>\n",
       "    <tr>\n",
       "      <th>6</th>\n",
       "      <td>22:00:00</td>\n",
       "      <td>758.49</td>\n",
       "      <td>761.07</td>\n",
       "      <td>758.10</td>\n",
       "      <td>760.9900</td>\n",
       "      <td>334191</td>\n",
       "    </tr>\n",
       "  </tbody>\n",
       "</table>\n",
       "<p>14 rows × 6 columns</p>\n",
       "</div>"
      ],
      "text/plain": [
       "        Time    Open    High     Low     Close   Volume\n",
       "0   16:00:00  110.42  110.57  109.80  110.0100  3668988\n",
       "1   17:00:00  110.01  110.14  109.40  109.4600  4347184\n",
       "2   18:00:00  109.47  109.94  109.46  109.9400  3094138\n",
       "3   19:00:00  109.94  110.15  109.84  110.0100  2285072\n",
       "4   20:00:00  110.02  110.24  109.76  110.1200  1860117\n",
       "..       ...     ...     ...     ...       ...      ...\n",
       "2   18:00:00  757.61  759.44  756.00  759.4400    95916\n",
       "3   19:00:00  759.45  760.50  757.57  757.9851    82822\n",
       "4   20:00:00  758.19  759.27  756.60  756.8800    57723\n",
       "5   21:00:00  757.33  760.10  757.20  758.5660    59007\n",
       "6   22:00:00  758.49  761.07  758.10  760.9900   334191\n",
       "\n",
       "[14 rows x 6 columns]"
      ]
     },
     "execution_count": 105,
     "metadata": {},
     "output_type": "execute_result"
    }
   ],
   "source": [
    "pd.concat([dfs['AAPL'], dfs['GOOG']])"
   ]
  },
  {
   "cell_type": "code",
   "execution_count": 108,
   "metadata": {
    "collapsed": true
   },
   "outputs": [],
   "source": [
    "for ticker, df in dfs.iteritems():\n",
    "    df['Ticker'] = ticker"
   ]
  },
  {
   "cell_type": "code",
   "execution_count": 111,
   "metadata": {},
   "outputs": [
    {
     "data": {
      "text/html": [
       "<div>\n",
       "<style>\n",
       "    .dataframe thead tr:only-child th {\n",
       "        text-align: right;\n",
       "    }\n",
       "\n",
       "    .dataframe thead th {\n",
       "        text-align: left;\n",
       "    }\n",
       "\n",
       "    .dataframe tbody tr th {\n",
       "        vertical-align: top;\n",
       "    }\n",
       "</style>\n",
       "<table border=\"1\" class=\"dataframe\">\n",
       "  <thead>\n",
       "    <tr style=\"text-align: right;\">\n",
       "      <th></th>\n",
       "      <th>Time</th>\n",
       "      <th>Open</th>\n",
       "      <th>High</th>\n",
       "      <th>Low</th>\n",
       "      <th>Close</th>\n",
       "      <th>Volume</th>\n",
       "      <th>Ticker</th>\n",
       "    </tr>\n",
       "  </thead>\n",
       "  <tbody>\n",
       "    <tr>\n",
       "      <th>0</th>\n",
       "      <td>16:00:00</td>\n",
       "      <td>110.420</td>\n",
       "      <td>110.570</td>\n",
       "      <td>109.800</td>\n",
       "      <td>110.010</td>\n",
       "      <td>3668988</td>\n",
       "      <td>AAPL</td>\n",
       "    </tr>\n",
       "    <tr>\n",
       "      <th>1</th>\n",
       "      <td>17:00:00</td>\n",
       "      <td>110.010</td>\n",
       "      <td>110.140</td>\n",
       "      <td>109.400</td>\n",
       "      <td>109.460</td>\n",
       "      <td>4347184</td>\n",
       "      <td>AAPL</td>\n",
       "    </tr>\n",
       "    <tr>\n",
       "      <th>2</th>\n",
       "      <td>18:00:00</td>\n",
       "      <td>109.470</td>\n",
       "      <td>109.940</td>\n",
       "      <td>109.460</td>\n",
       "      <td>109.940</td>\n",
       "      <td>3094138</td>\n",
       "      <td>AAPL</td>\n",
       "    </tr>\n",
       "    <tr>\n",
       "      <th>3</th>\n",
       "      <td>19:00:00</td>\n",
       "      <td>109.940</td>\n",
       "      <td>110.150</td>\n",
       "      <td>109.840</td>\n",
       "      <td>110.010</td>\n",
       "      <td>2285072</td>\n",
       "      <td>AAPL</td>\n",
       "    </tr>\n",
       "    <tr>\n",
       "      <th>4</th>\n",
       "      <td>20:00:00</td>\n",
       "      <td>110.020</td>\n",
       "      <td>110.240</td>\n",
       "      <td>109.760</td>\n",
       "      <td>110.120</td>\n",
       "      <td>1860117</td>\n",
       "      <td>AAPL</td>\n",
       "    </tr>\n",
       "    <tr>\n",
       "      <th>...</th>\n",
       "      <td>...</td>\n",
       "      <td>...</td>\n",
       "      <td>...</td>\n",
       "      <td>...</td>\n",
       "      <td>...</td>\n",
       "      <td>...</td>\n",
       "      <td>...</td>\n",
       "    </tr>\n",
       "    <tr>\n",
       "      <th>16</th>\n",
       "      <td>18:00:00</td>\n",
       "      <td>59.743</td>\n",
       "      <td>59.763</td>\n",
       "      <td>59.546</td>\n",
       "      <td>59.639</td>\n",
       "      <td>1876748</td>\n",
       "      <td>MSFT</td>\n",
       "    </tr>\n",
       "    <tr>\n",
       "      <th>17</th>\n",
       "      <td>19:00:00</td>\n",
       "      <td>59.634</td>\n",
       "      <td>59.773</td>\n",
       "      <td>59.566</td>\n",
       "      <td>59.585</td>\n",
       "      <td>1356700</td>\n",
       "      <td>MSFT</td>\n",
       "    </tr>\n",
       "    <tr>\n",
       "      <th>18</th>\n",
       "      <td>20:00:00</td>\n",
       "      <td>59.595</td>\n",
       "      <td>59.674</td>\n",
       "      <td>59.546</td>\n",
       "      <td>59.556</td>\n",
       "      <td>1160783</td>\n",
       "      <td>MSFT</td>\n",
       "    </tr>\n",
       "    <tr>\n",
       "      <th>19</th>\n",
       "      <td>21:00:00</td>\n",
       "      <td>59.556</td>\n",
       "      <td>59.753</td>\n",
       "      <td>59.556</td>\n",
       "      <td>59.638</td>\n",
       "      <td>1912113</td>\n",
       "      <td>MSFT</td>\n",
       "    </tr>\n",
       "    <tr>\n",
       "      <th>20</th>\n",
       "      <td>22:00:00</td>\n",
       "      <td>59.644</td>\n",
       "      <td>59.694</td>\n",
       "      <td>59.595</td>\n",
       "      <td>59.694</td>\n",
       "      <td>8127578</td>\n",
       "      <td>MSFT</td>\n",
       "    </tr>\n",
       "  </tbody>\n",
       "</table>\n",
       "<p>21 rows × 7 columns</p>\n",
       "</div>"
      ],
      "text/plain": [
       "        Time     Open     High      Low    Close   Volume Ticker\n",
       "0   16:00:00  110.420  110.570  109.800  110.010  3668988   AAPL\n",
       "1   17:00:00  110.010  110.140  109.400  109.460  4347184   AAPL\n",
       "2   18:00:00  109.470  109.940  109.460  109.940  3094138   AAPL\n",
       "3   19:00:00  109.940  110.150  109.840  110.010  2285072   AAPL\n",
       "4   20:00:00  110.020  110.240  109.760  110.120  1860117   AAPL\n",
       "..       ...      ...      ...      ...      ...      ...    ...\n",
       "16  18:00:00   59.743   59.763   59.546   59.639  1876748   MSFT\n",
       "17  19:00:00   59.634   59.773   59.566   59.585  1356700   MSFT\n",
       "18  20:00:00   59.595   59.674   59.546   59.556  1160783   MSFT\n",
       "19  21:00:00   59.556   59.753   59.556   59.638  1912113   MSFT\n",
       "20  22:00:00   59.644   59.694   59.595   59.694  8127578   MSFT\n",
       "\n",
       "[21 rows x 7 columns]"
      ]
     },
     "execution_count": 111,
     "metadata": {},
     "output_type": "execute_result"
    }
   ],
   "source": [
    "pd.concat([dfs['AAPL'], dfs['GOOG'], dfs['MSFT']], ignore_index=True)"
   ]
  },
  {
   "cell_type": "code",
   "execution_count": 112,
   "metadata": {},
   "outputs": [
    {
     "data": {
      "text/html": [
       "<div>\n",
       "<style>\n",
       "    .dataframe thead tr:only-child th {\n",
       "        text-align: right;\n",
       "    }\n",
       "\n",
       "    .dataframe thead th {\n",
       "        text-align: left;\n",
       "    }\n",
       "\n",
       "    .dataframe tbody tr th {\n",
       "        vertical-align: top;\n",
       "    }\n",
       "</style>\n",
       "<table border=\"1\" class=\"dataframe\">\n",
       "  <thead>\n",
       "    <tr style=\"text-align: right;\">\n",
       "      <th></th>\n",
       "      <th>Time</th>\n",
       "      <th>Open</th>\n",
       "      <th>High</th>\n",
       "      <th>Low</th>\n",
       "      <th>Close</th>\n",
       "      <th>Volume</th>\n",
       "      <th>Ticker</th>\n",
       "    </tr>\n",
       "  </thead>\n",
       "  <tbody>\n",
       "    <tr>\n",
       "      <th>0</th>\n",
       "      <td>16:00:00</td>\n",
       "      <td>110.420</td>\n",
       "      <td>110.570</td>\n",
       "      <td>109.800</td>\n",
       "      <td>110.010</td>\n",
       "      <td>3668988</td>\n",
       "      <td>AAPL</td>\n",
       "    </tr>\n",
       "    <tr>\n",
       "      <th>1</th>\n",
       "      <td>17:00:00</td>\n",
       "      <td>110.010</td>\n",
       "      <td>110.140</td>\n",
       "      <td>109.400</td>\n",
       "      <td>109.460</td>\n",
       "      <td>4347184</td>\n",
       "      <td>AAPL</td>\n",
       "    </tr>\n",
       "    <tr>\n",
       "      <th>2</th>\n",
       "      <td>18:00:00</td>\n",
       "      <td>109.470</td>\n",
       "      <td>109.940</td>\n",
       "      <td>109.460</td>\n",
       "      <td>109.940</td>\n",
       "      <td>3094138</td>\n",
       "      <td>AAPL</td>\n",
       "    </tr>\n",
       "    <tr>\n",
       "      <th>3</th>\n",
       "      <td>19:00:00</td>\n",
       "      <td>109.940</td>\n",
       "      <td>110.150</td>\n",
       "      <td>109.840</td>\n",
       "      <td>110.010</td>\n",
       "      <td>2285072</td>\n",
       "      <td>AAPL</td>\n",
       "    </tr>\n",
       "    <tr>\n",
       "      <th>4</th>\n",
       "      <td>20:00:00</td>\n",
       "      <td>110.020</td>\n",
       "      <td>110.240</td>\n",
       "      <td>109.760</td>\n",
       "      <td>110.120</td>\n",
       "      <td>1860117</td>\n",
       "      <td>AAPL</td>\n",
       "    </tr>\n",
       "    <tr>\n",
       "      <th>...</th>\n",
       "      <td>...</td>\n",
       "      <td>...</td>\n",
       "      <td>...</td>\n",
       "      <td>...</td>\n",
       "      <td>...</td>\n",
       "      <td>...</td>\n",
       "      <td>...</td>\n",
       "    </tr>\n",
       "    <tr>\n",
       "      <th>16</th>\n",
       "      <td>18:00:00</td>\n",
       "      <td>59.743</td>\n",
       "      <td>59.763</td>\n",
       "      <td>59.546</td>\n",
       "      <td>59.639</td>\n",
       "      <td>1876748</td>\n",
       "      <td>MSFT</td>\n",
       "    </tr>\n",
       "    <tr>\n",
       "      <th>17</th>\n",
       "      <td>19:00:00</td>\n",
       "      <td>59.634</td>\n",
       "      <td>59.773</td>\n",
       "      <td>59.566</td>\n",
       "      <td>59.585</td>\n",
       "      <td>1356700</td>\n",
       "      <td>MSFT</td>\n",
       "    </tr>\n",
       "    <tr>\n",
       "      <th>18</th>\n",
       "      <td>20:00:00</td>\n",
       "      <td>59.595</td>\n",
       "      <td>59.674</td>\n",
       "      <td>59.546</td>\n",
       "      <td>59.556</td>\n",
       "      <td>1160783</td>\n",
       "      <td>MSFT</td>\n",
       "    </tr>\n",
       "    <tr>\n",
       "      <th>19</th>\n",
       "      <td>21:00:00</td>\n",
       "      <td>59.556</td>\n",
       "      <td>59.753</td>\n",
       "      <td>59.556</td>\n",
       "      <td>59.638</td>\n",
       "      <td>1912113</td>\n",
       "      <td>MSFT</td>\n",
       "    </tr>\n",
       "    <tr>\n",
       "      <th>20</th>\n",
       "      <td>22:00:00</td>\n",
       "      <td>59.644</td>\n",
       "      <td>59.694</td>\n",
       "      <td>59.595</td>\n",
       "      <td>59.694</td>\n",
       "      <td>8127578</td>\n",
       "      <td>MSFT</td>\n",
       "    </tr>\n",
       "  </tbody>\n",
       "</table>\n",
       "<p>21 rows × 7 columns</p>\n",
       "</div>"
      ],
      "text/plain": [
       "        Time     Open     High      Low    Close   Volume Ticker\n",
       "0   16:00:00  110.420  110.570  109.800  110.010  3668988   AAPL\n",
       "1   17:00:00  110.010  110.140  109.400  109.460  4347184   AAPL\n",
       "2   18:00:00  109.470  109.940  109.460  109.940  3094138   AAPL\n",
       "3   19:00:00  109.940  110.150  109.840  110.010  2285072   AAPL\n",
       "4   20:00:00  110.020  110.240  109.760  110.120  1860117   AAPL\n",
       "..       ...      ...      ...      ...      ...      ...    ...\n",
       "16  18:00:00   59.743   59.763   59.546   59.639  1876748   MSFT\n",
       "17  19:00:00   59.634   59.773   59.566   59.585  1356700   MSFT\n",
       "18  20:00:00   59.595   59.674   59.546   59.556  1160783   MSFT\n",
       "19  21:00:00   59.556   59.753   59.556   59.638  1912113   MSFT\n",
       "20  22:00:00   59.644   59.694   59.595   59.694  8127578   MSFT\n",
       "\n",
       "[21 rows x 7 columns]"
      ]
     },
     "execution_count": 112,
     "metadata": {},
     "output_type": "execute_result"
    }
   ],
   "source": [
    "pd.concat(dfs.values(), ignore_index=True)"
   ]
  },
  {
   "cell_type": "markdown",
   "metadata": {},
   "source": [
    "Собираем все данные за день в один `DataFrame`:"
   ]
  },
  {
   "cell_type": "code",
   "execution_count": 113,
   "metadata": {
    "collapsed": true
   },
   "outputs": [],
   "source": [
    "def stocks_single_date(date_str):\n",
    "    dfs = pd.read_excel('./stocks_data/{}.xls'.format(date_str), sheetname=None)\n",
    "    for ticker, df in dfs.iteritems():\n",
    "        df['Ticker'] = ticker\n",
    "        df.Time = pd.to_datetime(date_str + ' ' + df.Time)\n",
    "    all_tickers = pd.concat(dfs.values(), ignore_index=True)\n",
    "    return all_tickers[['Time', 'Ticker', 'Open', 'High', 'Low', 'Close', 'Volume']]"
   ]
  },
  {
   "cell_type": "code",
   "execution_count": 117,
   "metadata": {},
   "outputs": [
    {
     "data": {
      "text/html": [
       "<div>\n",
       "<style>\n",
       "    .dataframe thead tr:only-child th {\n",
       "        text-align: right;\n",
       "    }\n",
       "\n",
       "    .dataframe thead th {\n",
       "        text-align: left;\n",
       "    }\n",
       "\n",
       "    .dataframe tbody tr th {\n",
       "        vertical-align: top;\n",
       "    }\n",
       "</style>\n",
       "<table border=\"1\" class=\"dataframe\">\n",
       "  <thead>\n",
       "    <tr style=\"text-align: right;\">\n",
       "      <th></th>\n",
       "      <th>Time</th>\n",
       "      <th>Ticker</th>\n",
       "      <th>Open</th>\n",
       "      <th>High</th>\n",
       "      <th>Low</th>\n",
       "      <th>Close</th>\n",
       "      <th>Volume</th>\n",
       "    </tr>\n",
       "  </thead>\n",
       "  <tbody>\n",
       "    <tr>\n",
       "      <th>0</th>\n",
       "      <td>2016-11-28 16:00:00</td>\n",
       "      <td>AAPL</td>\n",
       "      <td>110.490</td>\n",
       "      <td>111.250</td>\n",
       "      <td>110.450</td>\n",
       "      <td>111.240</td>\n",
       "      <td>4063326</td>\n",
       "    </tr>\n",
       "    <tr>\n",
       "      <th>1</th>\n",
       "      <td>2016-11-28 17:00:00</td>\n",
       "      <td>AAPL</td>\n",
       "      <td>111.240</td>\n",
       "      <td>111.520</td>\n",
       "      <td>110.890</td>\n",
       "      <td>110.910</td>\n",
       "      <td>3864710</td>\n",
       "    </tr>\n",
       "    <tr>\n",
       "      <th>2</th>\n",
       "      <td>2016-11-28 18:00:00</td>\n",
       "      <td>AAPL</td>\n",
       "      <td>110.910</td>\n",
       "      <td>110.980</td>\n",
       "      <td>110.760</td>\n",
       "      <td>110.970</td>\n",
       "      <td>2076635</td>\n",
       "    </tr>\n",
       "    <tr>\n",
       "      <th>3</th>\n",
       "      <td>2016-11-28 19:00:00</td>\n",
       "      <td>AAPL</td>\n",
       "      <td>110.970</td>\n",
       "      <td>111.060</td>\n",
       "      <td>110.800</td>\n",
       "      <td>110.870</td>\n",
       "      <td>1876757</td>\n",
       "    </tr>\n",
       "    <tr>\n",
       "      <th>4</th>\n",
       "      <td>2016-11-28 20:00:00</td>\n",
       "      <td>AAPL</td>\n",
       "      <td>110.870</td>\n",
       "      <td>111.020</td>\n",
       "      <td>110.800</td>\n",
       "      <td>110.920</td>\n",
       "      <td>1493616</td>\n",
       "    </tr>\n",
       "    <tr>\n",
       "      <th>...</th>\n",
       "      <td>...</td>\n",
       "      <td>...</td>\n",
       "      <td>...</td>\n",
       "      <td>...</td>\n",
       "      <td>...</td>\n",
       "      <td>...</td>\n",
       "      <td>...</td>\n",
       "    </tr>\n",
       "    <tr>\n",
       "      <th>16</th>\n",
       "      <td>2016-11-28 18:00:00</td>\n",
       "      <td>MSFT</td>\n",
       "      <td>59.902</td>\n",
       "      <td>60.188</td>\n",
       "      <td>59.892</td>\n",
       "      <td>60.173</td>\n",
       "      <td>1960215</td>\n",
       "    </tr>\n",
       "    <tr>\n",
       "      <th>17</th>\n",
       "      <td>2016-11-28 19:00:00</td>\n",
       "      <td>MSFT</td>\n",
       "      <td>60.178</td>\n",
       "      <td>60.306</td>\n",
       "      <td>60.118</td>\n",
       "      <td>60.223</td>\n",
       "      <td>1675013</td>\n",
       "    </tr>\n",
       "    <tr>\n",
       "      <th>18</th>\n",
       "      <td>2016-11-28 20:00:00</td>\n",
       "      <td>MSFT</td>\n",
       "      <td>60.218</td>\n",
       "      <td>60.223</td>\n",
       "      <td>60.030</td>\n",
       "      <td>60.080</td>\n",
       "      <td>1436768</td>\n",
       "    </tr>\n",
       "    <tr>\n",
       "      <th>19</th>\n",
       "      <td>2016-11-28 21:00:00</td>\n",
       "      <td>MSFT</td>\n",
       "      <td>60.075</td>\n",
       "      <td>60.100</td>\n",
       "      <td>59.892</td>\n",
       "      <td>59.950</td>\n",
       "      <td>1416387</td>\n",
       "    </tr>\n",
       "    <tr>\n",
       "      <th>20</th>\n",
       "      <td>2016-11-28 22:00:00</td>\n",
       "      <td>MSFT</td>\n",
       "      <td>59.950</td>\n",
       "      <td>59.970</td>\n",
       "      <td>59.792</td>\n",
       "      <td>59.902</td>\n",
       "      <td>7608180</td>\n",
       "    </tr>\n",
       "  </tbody>\n",
       "</table>\n",
       "<p>21 rows × 7 columns</p>\n",
       "</div>"
      ],
      "text/plain": [
       "                  Time Ticker     Open     High      Low    Close   Volume\n",
       "0  2016-11-28 16:00:00   AAPL  110.490  111.250  110.450  111.240  4063326\n",
       "1  2016-11-28 17:00:00   AAPL  111.240  111.520  110.890  110.910  3864710\n",
       "2  2016-11-28 18:00:00   AAPL  110.910  110.980  110.760  110.970  2076635\n",
       "3  2016-11-28 19:00:00   AAPL  110.970  111.060  110.800  110.870  1876757\n",
       "4  2016-11-28 20:00:00   AAPL  110.870  111.020  110.800  110.920  1493616\n",
       "..                 ...    ...      ...      ...      ...      ...      ...\n",
       "16 2016-11-28 18:00:00   MSFT   59.902   60.188   59.892   60.173  1960215\n",
       "17 2016-11-28 19:00:00   MSFT   60.178   60.306   60.118   60.223  1675013\n",
       "18 2016-11-28 20:00:00   MSFT   60.218   60.223   60.030   60.080  1436768\n",
       "19 2016-11-28 21:00:00   MSFT   60.075   60.100   59.892   59.950  1416387\n",
       "20 2016-11-28 22:00:00   MSFT   59.950   59.970   59.792   59.902  7608180\n",
       "\n",
       "[21 rows x 7 columns]"
      ]
     },
     "execution_count": 117,
     "metadata": {},
     "output_type": "execute_result"
    }
   ],
   "source": [
    "df = stocks_single_date('2016-11-28')\n",
    "df"
   ]
  },
  {
   "cell_type": "markdown",
   "metadata": {},
   "source": [
    "Еще один пример джойна:"
   ]
  },
  {
   "cell_type": "code",
   "execution_count": 118,
   "metadata": {
    "collapsed": true
   },
   "outputs": [],
   "source": [
    "descriptions = pd.DataFrame.from_dict(\n",
    "    {'AAPL' : {'Name' : 'Apple Inc.', 'Employees' : 116000},\n",
    "     'GOOG' : {'Name' : 'Google Inc.', 'Employees' : 57100},\n",
    "     'MSFT' : {'Name' : 'Microsoft Corporation', 'Employees' : 114000},\n",
    "     'IBM' : {'Name' : 'IBM', 'Employees' : 380000}},\n",
    "    orient='index')"
   ]
  },
  {
   "cell_type": "code",
   "execution_count": 119,
   "metadata": {},
   "outputs": [
    {
     "data": {
      "text/html": [
       "<div>\n",
       "<style>\n",
       "    .dataframe thead tr:only-child th {\n",
       "        text-align: right;\n",
       "    }\n",
       "\n",
       "    .dataframe thead th {\n",
       "        text-align: left;\n",
       "    }\n",
       "\n",
       "    .dataframe tbody tr th {\n",
       "        vertical-align: top;\n",
       "    }\n",
       "</style>\n",
       "<table border=\"1\" class=\"dataframe\">\n",
       "  <thead>\n",
       "    <tr style=\"text-align: right;\">\n",
       "      <th></th>\n",
       "      <th>Employees</th>\n",
       "      <th>Name</th>\n",
       "    </tr>\n",
       "  </thead>\n",
       "  <tbody>\n",
       "    <tr>\n",
       "      <th>AAPL</th>\n",
       "      <td>116000</td>\n",
       "      <td>Apple Inc.</td>\n",
       "    </tr>\n",
       "    <tr>\n",
       "      <th>GOOG</th>\n",
       "      <td>57100</td>\n",
       "      <td>Google Inc.</td>\n",
       "    </tr>\n",
       "    <tr>\n",
       "      <th>IBM</th>\n",
       "      <td>380000</td>\n",
       "      <td>IBM</td>\n",
       "    </tr>\n",
       "    <tr>\n",
       "      <th>MSFT</th>\n",
       "      <td>114000</td>\n",
       "      <td>Microsoft Corporation</td>\n",
       "    </tr>\n",
       "  </tbody>\n",
       "</table>\n",
       "</div>"
      ],
      "text/plain": [
       "      Employees                   Name\n",
       "AAPL     116000             Apple Inc.\n",
       "GOOG      57100            Google Inc.\n",
       "IBM      380000                    IBM\n",
       "MSFT     114000  Microsoft Corporation"
      ]
     },
     "execution_count": 119,
     "metadata": {},
     "output_type": "execute_result"
    }
   ],
   "source": [
    "descriptions"
   ]
  },
  {
   "cell_type": "code",
   "execution_count": 120,
   "metadata": {},
   "outputs": [
    {
     "data": {
      "text/html": [
       "<div>\n",
       "<style>\n",
       "    .dataframe thead tr:only-child th {\n",
       "        text-align: right;\n",
       "    }\n",
       "\n",
       "    .dataframe thead th {\n",
       "        text-align: left;\n",
       "    }\n",
       "\n",
       "    .dataframe tbody tr th {\n",
       "        vertical-align: top;\n",
       "    }\n",
       "</style>\n",
       "<table border=\"1\" class=\"dataframe\">\n",
       "  <thead>\n",
       "    <tr style=\"text-align: right;\">\n",
       "      <th></th>\n",
       "      <th>Time</th>\n",
       "      <th>Ticker</th>\n",
       "      <th>Open</th>\n",
       "      <th>High</th>\n",
       "      <th>Low</th>\n",
       "      <th>Close</th>\n",
       "      <th>Volume</th>\n",
       "    </tr>\n",
       "  </thead>\n",
       "  <tbody>\n",
       "    <tr>\n",
       "      <th>0</th>\n",
       "      <td>2016-11-28 16:00:00</td>\n",
       "      <td>AAPL</td>\n",
       "      <td>110.490</td>\n",
       "      <td>111.250</td>\n",
       "      <td>110.450</td>\n",
       "      <td>111.240</td>\n",
       "      <td>4063326</td>\n",
       "    </tr>\n",
       "    <tr>\n",
       "      <th>1</th>\n",
       "      <td>2016-11-28 17:00:00</td>\n",
       "      <td>AAPL</td>\n",
       "      <td>111.240</td>\n",
       "      <td>111.520</td>\n",
       "      <td>110.890</td>\n",
       "      <td>110.910</td>\n",
       "      <td>3864710</td>\n",
       "    </tr>\n",
       "    <tr>\n",
       "      <th>2</th>\n",
       "      <td>2016-11-28 18:00:00</td>\n",
       "      <td>AAPL</td>\n",
       "      <td>110.910</td>\n",
       "      <td>110.980</td>\n",
       "      <td>110.760</td>\n",
       "      <td>110.970</td>\n",
       "      <td>2076635</td>\n",
       "    </tr>\n",
       "    <tr>\n",
       "      <th>3</th>\n",
       "      <td>2016-11-28 19:00:00</td>\n",
       "      <td>AAPL</td>\n",
       "      <td>110.970</td>\n",
       "      <td>111.060</td>\n",
       "      <td>110.800</td>\n",
       "      <td>110.870</td>\n",
       "      <td>1876757</td>\n",
       "    </tr>\n",
       "    <tr>\n",
       "      <th>4</th>\n",
       "      <td>2016-11-28 20:00:00</td>\n",
       "      <td>AAPL</td>\n",
       "      <td>110.870</td>\n",
       "      <td>111.020</td>\n",
       "      <td>110.800</td>\n",
       "      <td>110.920</td>\n",
       "      <td>1493616</td>\n",
       "    </tr>\n",
       "    <tr>\n",
       "      <th>...</th>\n",
       "      <td>...</td>\n",
       "      <td>...</td>\n",
       "      <td>...</td>\n",
       "      <td>...</td>\n",
       "      <td>...</td>\n",
       "      <td>...</td>\n",
       "      <td>...</td>\n",
       "    </tr>\n",
       "    <tr>\n",
       "      <th>16</th>\n",
       "      <td>2016-11-28 18:00:00</td>\n",
       "      <td>MSFT</td>\n",
       "      <td>59.902</td>\n",
       "      <td>60.188</td>\n",
       "      <td>59.892</td>\n",
       "      <td>60.173</td>\n",
       "      <td>1960215</td>\n",
       "    </tr>\n",
       "    <tr>\n",
       "      <th>17</th>\n",
       "      <td>2016-11-28 19:00:00</td>\n",
       "      <td>MSFT</td>\n",
       "      <td>60.178</td>\n",
       "      <td>60.306</td>\n",
       "      <td>60.118</td>\n",
       "      <td>60.223</td>\n",
       "      <td>1675013</td>\n",
       "    </tr>\n",
       "    <tr>\n",
       "      <th>18</th>\n",
       "      <td>2016-11-28 20:00:00</td>\n",
       "      <td>MSFT</td>\n",
       "      <td>60.218</td>\n",
       "      <td>60.223</td>\n",
       "      <td>60.030</td>\n",
       "      <td>60.080</td>\n",
       "      <td>1436768</td>\n",
       "    </tr>\n",
       "    <tr>\n",
       "      <th>19</th>\n",
       "      <td>2016-11-28 21:00:00</td>\n",
       "      <td>MSFT</td>\n",
       "      <td>60.075</td>\n",
       "      <td>60.100</td>\n",
       "      <td>59.892</td>\n",
       "      <td>59.950</td>\n",
       "      <td>1416387</td>\n",
       "    </tr>\n",
       "    <tr>\n",
       "      <th>20</th>\n",
       "      <td>2016-11-28 22:00:00</td>\n",
       "      <td>MSFT</td>\n",
       "      <td>59.950</td>\n",
       "      <td>59.970</td>\n",
       "      <td>59.792</td>\n",
       "      <td>59.902</td>\n",
       "      <td>7608180</td>\n",
       "    </tr>\n",
       "  </tbody>\n",
       "</table>\n",
       "<p>21 rows × 7 columns</p>\n",
       "</div>"
      ],
      "text/plain": [
       "                  Time Ticker     Open     High      Low    Close   Volume\n",
       "0  2016-11-28 16:00:00   AAPL  110.490  111.250  110.450  111.240  4063326\n",
       "1  2016-11-28 17:00:00   AAPL  111.240  111.520  110.890  110.910  3864710\n",
       "2  2016-11-28 18:00:00   AAPL  110.910  110.980  110.760  110.970  2076635\n",
       "3  2016-11-28 19:00:00   AAPL  110.970  111.060  110.800  110.870  1876757\n",
       "4  2016-11-28 20:00:00   AAPL  110.870  111.020  110.800  110.920  1493616\n",
       "..                 ...    ...      ...      ...      ...      ...      ...\n",
       "16 2016-11-28 18:00:00   MSFT   59.902   60.188   59.892   60.173  1960215\n",
       "17 2016-11-28 19:00:00   MSFT   60.178   60.306   60.118   60.223  1675013\n",
       "18 2016-11-28 20:00:00   MSFT   60.218   60.223   60.030   60.080  1436768\n",
       "19 2016-11-28 21:00:00   MSFT   60.075   60.100   59.892   59.950  1416387\n",
       "20 2016-11-28 22:00:00   MSFT   59.950   59.970   59.792   59.902  7608180\n",
       "\n",
       "[21 rows x 7 columns]"
      ]
     },
     "execution_count": 120,
     "metadata": {},
     "output_type": "execute_result"
    }
   ],
   "source": [
    "df"
   ]
  },
  {
   "cell_type": "code",
   "execution_count": 121,
   "metadata": {},
   "outputs": [
    {
     "data": {
      "text/html": [
       "<div>\n",
       "<style>\n",
       "    .dataframe thead tr:only-child th {\n",
       "        text-align: right;\n",
       "    }\n",
       "\n",
       "    .dataframe thead th {\n",
       "        text-align: left;\n",
       "    }\n",
       "\n",
       "    .dataframe tbody tr th {\n",
       "        vertical-align: top;\n",
       "    }\n",
       "</style>\n",
       "<table border=\"1\" class=\"dataframe\">\n",
       "  <thead>\n",
       "    <tr style=\"text-align: right;\">\n",
       "      <th></th>\n",
       "      <th>Time</th>\n",
       "      <th>Ticker</th>\n",
       "      <th>Open</th>\n",
       "      <th>High</th>\n",
       "      <th>Low</th>\n",
       "      <th>Close</th>\n",
       "      <th>Volume</th>\n",
       "      <th>Employees</th>\n",
       "      <th>Name</th>\n",
       "    </tr>\n",
       "  </thead>\n",
       "  <tbody>\n",
       "    <tr>\n",
       "      <th>0</th>\n",
       "      <td>2016-11-28 16:00:00</td>\n",
       "      <td>AAPL</td>\n",
       "      <td>110.490</td>\n",
       "      <td>111.250</td>\n",
       "      <td>110.450</td>\n",
       "      <td>111.240</td>\n",
       "      <td>4063326</td>\n",
       "      <td>116000</td>\n",
       "      <td>Apple Inc.</td>\n",
       "    </tr>\n",
       "    <tr>\n",
       "      <th>1</th>\n",
       "      <td>2016-11-28 17:00:00</td>\n",
       "      <td>AAPL</td>\n",
       "      <td>111.240</td>\n",
       "      <td>111.520</td>\n",
       "      <td>110.890</td>\n",
       "      <td>110.910</td>\n",
       "      <td>3864710</td>\n",
       "      <td>116000</td>\n",
       "      <td>Apple Inc.</td>\n",
       "    </tr>\n",
       "    <tr>\n",
       "      <th>2</th>\n",
       "      <td>2016-11-28 18:00:00</td>\n",
       "      <td>AAPL</td>\n",
       "      <td>110.910</td>\n",
       "      <td>110.980</td>\n",
       "      <td>110.760</td>\n",
       "      <td>110.970</td>\n",
       "      <td>2076635</td>\n",
       "      <td>116000</td>\n",
       "      <td>Apple Inc.</td>\n",
       "    </tr>\n",
       "    <tr>\n",
       "      <th>3</th>\n",
       "      <td>2016-11-28 19:00:00</td>\n",
       "      <td>AAPL</td>\n",
       "      <td>110.970</td>\n",
       "      <td>111.060</td>\n",
       "      <td>110.800</td>\n",
       "      <td>110.870</td>\n",
       "      <td>1876757</td>\n",
       "      <td>116000</td>\n",
       "      <td>Apple Inc.</td>\n",
       "    </tr>\n",
       "    <tr>\n",
       "      <th>4</th>\n",
       "      <td>2016-11-28 20:00:00</td>\n",
       "      <td>AAPL</td>\n",
       "      <td>110.870</td>\n",
       "      <td>111.020</td>\n",
       "      <td>110.800</td>\n",
       "      <td>110.920</td>\n",
       "      <td>1493616</td>\n",
       "      <td>116000</td>\n",
       "      <td>Apple Inc.</td>\n",
       "    </tr>\n",
       "    <tr>\n",
       "      <th>...</th>\n",
       "      <td>...</td>\n",
       "      <td>...</td>\n",
       "      <td>...</td>\n",
       "      <td>...</td>\n",
       "      <td>...</td>\n",
       "      <td>...</td>\n",
       "      <td>...</td>\n",
       "      <td>...</td>\n",
       "      <td>...</td>\n",
       "    </tr>\n",
       "    <tr>\n",
       "      <th>16</th>\n",
       "      <td>2016-11-28 18:00:00</td>\n",
       "      <td>MSFT</td>\n",
       "      <td>59.902</td>\n",
       "      <td>60.188</td>\n",
       "      <td>59.892</td>\n",
       "      <td>60.173</td>\n",
       "      <td>1960215</td>\n",
       "      <td>114000</td>\n",
       "      <td>Microsoft Corporation</td>\n",
       "    </tr>\n",
       "    <tr>\n",
       "      <th>17</th>\n",
       "      <td>2016-11-28 19:00:00</td>\n",
       "      <td>MSFT</td>\n",
       "      <td>60.178</td>\n",
       "      <td>60.306</td>\n",
       "      <td>60.118</td>\n",
       "      <td>60.223</td>\n",
       "      <td>1675013</td>\n",
       "      <td>114000</td>\n",
       "      <td>Microsoft Corporation</td>\n",
       "    </tr>\n",
       "    <tr>\n",
       "      <th>18</th>\n",
       "      <td>2016-11-28 20:00:00</td>\n",
       "      <td>MSFT</td>\n",
       "      <td>60.218</td>\n",
       "      <td>60.223</td>\n",
       "      <td>60.030</td>\n",
       "      <td>60.080</td>\n",
       "      <td>1436768</td>\n",
       "      <td>114000</td>\n",
       "      <td>Microsoft Corporation</td>\n",
       "    </tr>\n",
       "    <tr>\n",
       "      <th>19</th>\n",
       "      <td>2016-11-28 21:00:00</td>\n",
       "      <td>MSFT</td>\n",
       "      <td>60.075</td>\n",
       "      <td>60.100</td>\n",
       "      <td>59.892</td>\n",
       "      <td>59.950</td>\n",
       "      <td>1416387</td>\n",
       "      <td>114000</td>\n",
       "      <td>Microsoft Corporation</td>\n",
       "    </tr>\n",
       "    <tr>\n",
       "      <th>20</th>\n",
       "      <td>2016-11-28 22:00:00</td>\n",
       "      <td>MSFT</td>\n",
       "      <td>59.950</td>\n",
       "      <td>59.970</td>\n",
       "      <td>59.792</td>\n",
       "      <td>59.902</td>\n",
       "      <td>7608180</td>\n",
       "      <td>114000</td>\n",
       "      <td>Microsoft Corporation</td>\n",
       "    </tr>\n",
       "  </tbody>\n",
       "</table>\n",
       "<p>21 rows × 9 columns</p>\n",
       "</div>"
      ],
      "text/plain": [
       "                  Time Ticker     Open     High      Low    Close   Volume  \\\n",
       "0  2016-11-28 16:00:00   AAPL  110.490  111.250  110.450  111.240  4063326   \n",
       "1  2016-11-28 17:00:00   AAPL  111.240  111.520  110.890  110.910  3864710   \n",
       "2  2016-11-28 18:00:00   AAPL  110.910  110.980  110.760  110.970  2076635   \n",
       "3  2016-11-28 19:00:00   AAPL  110.970  111.060  110.800  110.870  1876757   \n",
       "4  2016-11-28 20:00:00   AAPL  110.870  111.020  110.800  110.920  1493616   \n",
       "..                 ...    ...      ...      ...      ...      ...      ...   \n",
       "16 2016-11-28 18:00:00   MSFT   59.902   60.188   59.892   60.173  1960215   \n",
       "17 2016-11-28 19:00:00   MSFT   60.178   60.306   60.118   60.223  1675013   \n",
       "18 2016-11-28 20:00:00   MSFT   60.218   60.223   60.030   60.080  1436768   \n",
       "19 2016-11-28 21:00:00   MSFT   60.075   60.100   59.892   59.950  1416387   \n",
       "20 2016-11-28 22:00:00   MSFT   59.950   59.970   59.792   59.902  7608180   \n",
       "\n",
       "    Employees                   Name  \n",
       "0      116000             Apple Inc.  \n",
       "1      116000             Apple Inc.  \n",
       "2      116000             Apple Inc.  \n",
       "3      116000             Apple Inc.  \n",
       "4      116000             Apple Inc.  \n",
       "..        ...                    ...  \n",
       "16     114000  Microsoft Corporation  \n",
       "17     114000  Microsoft Corporation  \n",
       "18     114000  Microsoft Corporation  \n",
       "19     114000  Microsoft Corporation  \n",
       "20     114000  Microsoft Corporation  \n",
       "\n",
       "[21 rows x 9 columns]"
      ]
     },
     "execution_count": 121,
     "metadata": {},
     "output_type": "execute_result"
    }
   ],
   "source": [
    "pd.merge(df, descriptions, how='left', left_on='Ticker', right_index=True)"
   ]
  },
  {
   "cell_type": "markdown",
   "metadata": {},
   "source": [
    "Резюме:\n",
    "- `pd.read_excel()` для чтения `xls`-файлов\n",
    "- `pd.concat()` для объединения таблиц в простых случаях (по индексу или игнорируя индекс)\n",
    "- `pd.merge()` для объединения таблиц в сложных случаях (по любым колонкам, left/right join и т.д.)\n",
    "- `pd.to_datetime()` для извлечения даты и времени"
   ]
  },
  {
   "cell_type": "markdown",
   "metadata": {},
   "source": [
    "## Все файлы"
   ]
  },
  {
   "cell_type": "code",
   "execution_count": 122,
   "metadata": {
    "collapsed": true
   },
   "outputs": [],
   "source": [
    "import os"
   ]
  },
  {
   "cell_type": "code",
   "execution_count": 123,
   "metadata": {
    "collapsed": true
   },
   "outputs": [
    {
     "data": {
      "text/plain": [
       "['.~lock.2016-11-25.xls#',\n",
       " '2016-11-23.xls',\n",
       " '2016-11-25.xls',\n",
       " '2016-11-28.xls',\n",
       " '2016-11-29.xls',\n",
       " '2016-11-30.xls',\n",
       " '2016-12-01.xls',\n",
       " '2016-12-02.xls',\n",
       " '2016-12-05.xls',\n",
       " '2016-12-06.xls',\n",
       " '2016-12-07.xls',\n",
       " '2016-12-08.xls',\n",
       " '2016-12-09.xls',\n",
       " '2016-12-12.xls',\n",
       " '2016-12-13.xls',\n",
       " '2016-12-14.xls',\n",
       " '2016-12-15.xls',\n",
       " '2016-12-16.xls',\n",
       " '2016-12-19.xls',\n",
       " '2016-12-20.xls',\n",
       " '2016-12-21.xls',\n",
       " '2016-12-22.xls',\n",
       " '2016-12-23.xls',\n",
       " '2016-12-27.xls',\n",
       " '2016-12-28.xls',\n",
       " '2016-12-29.xls',\n",
       " '2016-12-30.xls',\n",
       " '2017-01-03.xls',\n",
       " '2017-01-04.xls',\n",
       " '2017-01-05.xls',\n",
       " '2017-01-06.xls',\n",
       " '2017-01-09.xls',\n",
       " '2017-01-10.xls',\n",
       " '2017-01-11.xls',\n",
       " '2017-01-12.xls',\n",
       " '2017-01-13.xls',\n",
       " '2017-01-17.xls',\n",
       " '2017-01-18.xls',\n",
       " '2017-01-19.xls',\n",
       " '2017-01-20.xls',\n",
       " '2017-01-23.xls',\n",
       " '2017-01-24.xls',\n",
       " '2017-01-25.xls',\n",
       " '2017-01-26.xls',\n",
       " '2017-01-27.xls',\n",
       " '2017-01-30.xls',\n",
       " '2017-01-31.xls',\n",
       " '2017-02-01.xls',\n",
       " '2017-02-02.xls',\n",
       " '2017-02-03.xls',\n",
       " '2017-02-06.xls',\n",
       " '2017-02-07.xls',\n",
       " '2017-02-08.xls',\n",
       " '2017-02-09.xls',\n",
       " '2017-02-10.xls',\n",
       " '2017-02-13.xls',\n",
       " '2017-02-14.xls',\n",
       " '2017-02-15.xls',\n",
       " '2017-02-16.xls',\n",
       " '2017-02-17.xls',\n",
       " '2017-02-21.xls',\n",
       " '2017-02-22.xls',\n",
       " '2017-02-23.xls',\n",
       " '2017-02-24.xls',\n",
       " '2017-02-27.xls',\n",
       " '2017-02-28.xls',\n",
       " '2017-03-01.xls',\n",
       " '2017-03-02.xls',\n",
       " '2017-03-03.xls',\n",
       " '2017-03-06.xls',\n",
       " '2017-03-07.xls',\n",
       " '2017-03-08.xls',\n",
       " '2017-03-09.xls',\n",
       " '2017-03-10.xls',\n",
       " '2017-03-13.xls',\n",
       " '2017-03-14.xls',\n",
       " '2017-03-15.xls',\n",
       " '2017-03-16.xls',\n",
       " '2017-03-17.xls',\n",
       " '2017-03-20.xls',\n",
       " '2017-03-21.xls',\n",
       " '2017-03-22.xls',\n",
       " '2017-03-23.xls',\n",
       " '2017-03-24.xls',\n",
       " '2017-03-27.xls',\n",
       " '2017-03-28.xls',\n",
       " '2017-03-29.xls',\n",
       " '2017-03-30.xls',\n",
       " '2017-03-31.xls',\n",
       " '2017-04-03.xls',\n",
       " '2017-04-04.xls',\n",
       " '2017-04-05.xls',\n",
       " '2017-04-06.xls',\n",
       " '2017-04-07.xls',\n",
       " '2017-04-10.xls',\n",
       " '2017-04-11.xls',\n",
       " '2017-04-12.xls',\n",
       " '2017-04-13.xls',\n",
       " '2017-04-17.xls',\n",
       " '2017-04-18.xls',\n",
       " '2017-04-19.xls',\n",
       " '2017-04-20.xls',\n",
       " '2017-04-21.xls',\n",
       " '2017-04-24.xls',\n",
       " '2017-04-25.xls',\n",
       " '2017-04-26.xls',\n",
       " '2017-04-27.xls',\n",
       " '2017-04-28.xls',\n",
       " '2017-05-01.xls',\n",
       " '2017-05-02.xls',\n",
       " '2017-05-03.xls',\n",
       " '2017-05-04.xls',\n",
       " '2017-05-05.xls',\n",
       " '2017-05-08.xls',\n",
       " '2017-05-09.xls',\n",
       " '2017-05-10.xls',\n",
       " '2017-05-11.xls',\n",
       " '2017-05-12.xls',\n",
       " '2017-05-15.xls',\n",
       " '2017-05-16.xls',\n",
       " '2017-05-17.xls',\n",
       " '2017-05-18.xls',\n",
       " '2017-05-19.xls',\n",
       " '2017-05-22.xls',\n",
       " '2017-05-23.xls',\n",
       " '2017-05-24.xls',\n",
       " '2017-05-25.xls',\n",
       " '2017-05-26.xls',\n",
       " '2017-05-30.xls',\n",
       " '2017-05-31.xls',\n",
       " '2017-06-01.xls',\n",
       " '2017-06-02.xls',\n",
       " '2017-06-05.xls',\n",
       " '2017-06-06.xls',\n",
       " '2017-06-07.xls',\n",
       " '2017-06-08.xls',\n",
       " '2017-06-09.xls',\n",
       " '2017-06-12.xls',\n",
       " '2017-06-13.xls',\n",
       " '2017-06-14.xls',\n",
       " '2017-06-15.xls',\n",
       " '2017-06-16.xls',\n",
       " '2017-06-19.xls']"
      ]
     },
     "execution_count": 123,
     "metadata": {},
     "output_type": "execute_result"
    }
   ],
   "source": [
    "os.listdir('./stocks_data/')"
   ]
  },
  {
   "cell_type": "code",
   "execution_count": 124,
   "metadata": {},
   "outputs": [
    {
     "name": "stdout",
     "output_type": "stream",
     "text": [
      "CPU times: user 2.23 s, sys: 237 ms, total: 2.46 s\n",
      "Wall time: 3.1 s\n"
     ]
    }
   ],
   "source": [
    "%%time\n",
    "frames = []\n",
    "for filename in os.listdir('./stocks_data/'):\n",
    "    if filename.endswith('.xls'):\n",
    "        date_str = filename[:-4]\n",
    "        df = stocks_single_date(date_str)\n",
    "        frames.append(df)"
   ]
  },
  {
   "cell_type": "code",
   "execution_count": 127,
   "metadata": {},
   "outputs": [
    {
     "data": {
      "text/html": [
       "<div>\n",
       "<style>\n",
       "    .dataframe thead tr:only-child th {\n",
       "        text-align: right;\n",
       "    }\n",
       "\n",
       "    .dataframe thead th {\n",
       "        text-align: left;\n",
       "    }\n",
       "\n",
       "    .dataframe tbody tr th {\n",
       "        vertical-align: top;\n",
       "    }\n",
       "</style>\n",
       "<table border=\"1\" class=\"dataframe\">\n",
       "  <thead>\n",
       "    <tr style=\"text-align: right;\">\n",
       "      <th></th>\n",
       "      <th>Time</th>\n",
       "      <th>Ticker</th>\n",
       "      <th>Open</th>\n",
       "      <th>High</th>\n",
       "      <th>Low</th>\n",
       "      <th>Close</th>\n",
       "      <th>Volume</th>\n",
       "    </tr>\n",
       "  </thead>\n",
       "  <tbody>\n",
       "    <tr>\n",
       "      <th>0</th>\n",
       "      <td>2016-12-08 16:00:00</td>\n",
       "      <td>AAPL</td>\n",
       "      <td>109.930</td>\n",
       "      <td>111.190</td>\n",
       "      <td>109.670</td>\n",
       "      <td>111.070</td>\n",
       "      <td>4603211</td>\n",
       "    </tr>\n",
       "    <tr>\n",
       "      <th>1</th>\n",
       "      <td>2016-12-08 17:00:00</td>\n",
       "      <td>AAPL</td>\n",
       "      <td>111.080</td>\n",
       "      <td>111.090</td>\n",
       "      <td>110.600</td>\n",
       "      <td>110.990</td>\n",
       "      <td>3640574</td>\n",
       "    </tr>\n",
       "    <tr>\n",
       "      <th>2</th>\n",
       "      <td>2016-12-08 18:00:00</td>\n",
       "      <td>AAPL</td>\n",
       "      <td>110.990</td>\n",
       "      <td>111.430</td>\n",
       "      <td>110.920</td>\n",
       "      <td>111.100</td>\n",
       "      <td>3251414</td>\n",
       "    </tr>\n",
       "    <tr>\n",
       "      <th>3</th>\n",
       "      <td>2016-12-08 19:00:00</td>\n",
       "      <td>AAPL</td>\n",
       "      <td>111.100</td>\n",
       "      <td>111.480</td>\n",
       "      <td>111.020</td>\n",
       "      <td>111.340</td>\n",
       "      <td>2628485</td>\n",
       "    </tr>\n",
       "    <tr>\n",
       "      <th>4</th>\n",
       "      <td>2016-12-08 20:00:00</td>\n",
       "      <td>AAPL</td>\n",
       "      <td>111.350</td>\n",
       "      <td>111.400</td>\n",
       "      <td>111.120</td>\n",
       "      <td>111.330</td>\n",
       "      <td>1807103</td>\n",
       "    </tr>\n",
       "    <tr>\n",
       "      <th>...</th>\n",
       "      <td>...</td>\n",
       "      <td>...</td>\n",
       "      <td>...</td>\n",
       "      <td>...</td>\n",
       "      <td>...</td>\n",
       "      <td>...</td>\n",
       "      <td>...</td>\n",
       "    </tr>\n",
       "    <tr>\n",
       "      <th>16</th>\n",
       "      <td>2016-12-08 18:00:00</td>\n",
       "      <td>MSFT</td>\n",
       "      <td>60.599</td>\n",
       "      <td>60.618</td>\n",
       "      <td>60.326</td>\n",
       "      <td>60.464</td>\n",
       "      <td>2145237</td>\n",
       "    </tr>\n",
       "    <tr>\n",
       "      <th>17</th>\n",
       "      <td>2016-12-08 19:00:00</td>\n",
       "      <td>MSFT</td>\n",
       "      <td>60.459</td>\n",
       "      <td>60.652</td>\n",
       "      <td>60.437</td>\n",
       "      <td>60.554</td>\n",
       "      <td>1736824</td>\n",
       "    </tr>\n",
       "    <tr>\n",
       "      <th>18</th>\n",
       "      <td>2016-12-08 20:00:00</td>\n",
       "      <td>MSFT</td>\n",
       "      <td>60.554</td>\n",
       "      <td>60.603</td>\n",
       "      <td>60.436</td>\n",
       "      <td>60.474</td>\n",
       "      <td>1728291</td>\n",
       "    </tr>\n",
       "    <tr>\n",
       "      <th>19</th>\n",
       "      <td>2016-12-08 21:00:00</td>\n",
       "      <td>MSFT</td>\n",
       "      <td>60.474</td>\n",
       "      <td>60.484</td>\n",
       "      <td>60.168</td>\n",
       "      <td>60.268</td>\n",
       "      <td>2436546</td>\n",
       "    </tr>\n",
       "    <tr>\n",
       "      <th>20</th>\n",
       "      <td>2016-12-08 22:00:00</td>\n",
       "      <td>MSFT</td>\n",
       "      <td>60.276</td>\n",
       "      <td>60.346</td>\n",
       "      <td>60.128</td>\n",
       "      <td>60.296</td>\n",
       "      <td>5773600</td>\n",
       "    </tr>\n",
       "  </tbody>\n",
       "</table>\n",
       "<p>21 rows × 7 columns</p>\n",
       "</div>"
      ],
      "text/plain": [
       "                  Time Ticker     Open     High      Low    Close   Volume\n",
       "0  2016-12-08 16:00:00   AAPL  109.930  111.190  109.670  111.070  4603211\n",
       "1  2016-12-08 17:00:00   AAPL  111.080  111.090  110.600  110.990  3640574\n",
       "2  2016-12-08 18:00:00   AAPL  110.990  111.430  110.920  111.100  3251414\n",
       "3  2016-12-08 19:00:00   AAPL  111.100  111.480  111.020  111.340  2628485\n",
       "4  2016-12-08 20:00:00   AAPL  111.350  111.400  111.120  111.330  1807103\n",
       "..                 ...    ...      ...      ...      ...      ...      ...\n",
       "16 2016-12-08 18:00:00   MSFT   60.599   60.618   60.326   60.464  2145237\n",
       "17 2016-12-08 19:00:00   MSFT   60.459   60.652   60.437   60.554  1736824\n",
       "18 2016-12-08 20:00:00   MSFT   60.554   60.603   60.436   60.474  1728291\n",
       "19 2016-12-08 21:00:00   MSFT   60.474   60.484   60.168   60.268  2436546\n",
       "20 2016-12-08 22:00:00   MSFT   60.276   60.346   60.128   60.296  5773600\n",
       "\n",
       "[21 rows x 7 columns]"
      ]
     },
     "execution_count": 127,
     "metadata": {},
     "output_type": "execute_result"
    }
   ],
   "source": [
    "frames[10]"
   ]
  },
  {
   "cell_type": "code",
   "execution_count": 128,
   "metadata": {},
   "outputs": [
    {
     "data": {
      "text/html": [
       "<div>\n",
       "<style>\n",
       "    .dataframe thead tr:only-child th {\n",
       "        text-align: right;\n",
       "    }\n",
       "\n",
       "    .dataframe thead th {\n",
       "        text-align: left;\n",
       "    }\n",
       "\n",
       "    .dataframe tbody tr th {\n",
       "        vertical-align: top;\n",
       "    }\n",
       "</style>\n",
       "<table border=\"1\" class=\"dataframe\">\n",
       "  <thead>\n",
       "    <tr style=\"text-align: right;\">\n",
       "      <th></th>\n",
       "      <th>Time</th>\n",
       "      <th>Ticker</th>\n",
       "      <th>Open</th>\n",
       "      <th>High</th>\n",
       "      <th>Low</th>\n",
       "      <th>Close</th>\n",
       "      <th>Volume</th>\n",
       "    </tr>\n",
       "  </thead>\n",
       "  <tbody>\n",
       "    <tr>\n",
       "      <th>0</th>\n",
       "      <td>2016-11-23 16:00:00</td>\n",
       "      <td>AAPL</td>\n",
       "      <td>110.420</td>\n",
       "      <td>110.57</td>\n",
       "      <td>109.800</td>\n",
       "      <td>110.01</td>\n",
       "      <td>3668988</td>\n",
       "    </tr>\n",
       "    <tr>\n",
       "      <th>1</th>\n",
       "      <td>2016-11-23 17:00:00</td>\n",
       "      <td>AAPL</td>\n",
       "      <td>110.010</td>\n",
       "      <td>110.14</td>\n",
       "      <td>109.400</td>\n",
       "      <td>109.46</td>\n",
       "      <td>4347184</td>\n",
       "    </tr>\n",
       "    <tr>\n",
       "      <th>2</th>\n",
       "      <td>2016-11-23 18:00:00</td>\n",
       "      <td>AAPL</td>\n",
       "      <td>109.470</td>\n",
       "      <td>109.94</td>\n",
       "      <td>109.460</td>\n",
       "      <td>109.94</td>\n",
       "      <td>3094138</td>\n",
       "    </tr>\n",
       "    <tr>\n",
       "      <th>3</th>\n",
       "      <td>2016-11-23 19:00:00</td>\n",
       "      <td>AAPL</td>\n",
       "      <td>109.940</td>\n",
       "      <td>110.15</td>\n",
       "      <td>109.840</td>\n",
       "      <td>110.01</td>\n",
       "      <td>2285072</td>\n",
       "    </tr>\n",
       "    <tr>\n",
       "      <th>4</th>\n",
       "      <td>2016-11-23 20:00:00</td>\n",
       "      <td>AAPL</td>\n",
       "      <td>110.020</td>\n",
       "      <td>110.24</td>\n",
       "      <td>109.760</td>\n",
       "      <td>110.12</td>\n",
       "      <td>1860117</td>\n",
       "    </tr>\n",
       "    <tr>\n",
       "      <th>...</th>\n",
       "      <td>...</td>\n",
       "      <td>...</td>\n",
       "      <td>...</td>\n",
       "      <td>...</td>\n",
       "      <td>...</td>\n",
       "      <td>...</td>\n",
       "      <td>...</td>\n",
       "    </tr>\n",
       "    <tr>\n",
       "      <th>2971</th>\n",
       "      <td>2017-06-19 18:00:00</td>\n",
       "      <td>MSFT</td>\n",
       "      <td>70.560</td>\n",
       "      <td>70.60</td>\n",
       "      <td>70.470</td>\n",
       "      <td>70.53</td>\n",
       "      <td>1712638</td>\n",
       "    </tr>\n",
       "    <tr>\n",
       "      <th>2972</th>\n",
       "      <td>2017-06-19 19:00:00</td>\n",
       "      <td>MSFT</td>\n",
       "      <td>70.540</td>\n",
       "      <td>70.66</td>\n",
       "      <td>70.500</td>\n",
       "      <td>70.53</td>\n",
       "      <td>1463734</td>\n",
       "    </tr>\n",
       "    <tr>\n",
       "      <th>2973</th>\n",
       "      <td>2017-06-19 20:00:00</td>\n",
       "      <td>MSFT</td>\n",
       "      <td>70.540</td>\n",
       "      <td>70.80</td>\n",
       "      <td>70.525</td>\n",
       "      <td>70.73</td>\n",
       "      <td>1647091</td>\n",
       "    </tr>\n",
       "    <tr>\n",
       "      <th>2974</th>\n",
       "      <td>2017-06-19 21:00:00</td>\n",
       "      <td>MSFT</td>\n",
       "      <td>70.736</td>\n",
       "      <td>70.76</td>\n",
       "      <td>70.590</td>\n",
       "      <td>70.67</td>\n",
       "      <td>1502730</td>\n",
       "    </tr>\n",
       "    <tr>\n",
       "      <th>2975</th>\n",
       "      <td>2017-06-19 22:00:00</td>\n",
       "      <td>MSFT</td>\n",
       "      <td>70.680</td>\n",
       "      <td>70.90</td>\n",
       "      <td>70.600</td>\n",
       "      <td>70.87</td>\n",
       "      <td>7551101</td>\n",
       "    </tr>\n",
       "  </tbody>\n",
       "</table>\n",
       "<p>2976 rows × 7 columns</p>\n",
       "</div>"
      ],
      "text/plain": [
       "                    Time Ticker     Open    High      Low   Close   Volume\n",
       "0    2016-11-23 16:00:00   AAPL  110.420  110.57  109.800  110.01  3668988\n",
       "1    2016-11-23 17:00:00   AAPL  110.010  110.14  109.400  109.46  4347184\n",
       "2    2016-11-23 18:00:00   AAPL  109.470  109.94  109.460  109.94  3094138\n",
       "3    2016-11-23 19:00:00   AAPL  109.940  110.15  109.840  110.01  2285072\n",
       "4    2016-11-23 20:00:00   AAPL  110.020  110.24  109.760  110.12  1860117\n",
       "...                  ...    ...      ...     ...      ...     ...      ...\n",
       "2971 2017-06-19 18:00:00   MSFT   70.560   70.60   70.470   70.53  1712638\n",
       "2972 2017-06-19 19:00:00   MSFT   70.540   70.66   70.500   70.53  1463734\n",
       "2973 2017-06-19 20:00:00   MSFT   70.540   70.80   70.525   70.73  1647091\n",
       "2974 2017-06-19 21:00:00   MSFT   70.736   70.76   70.590   70.67  1502730\n",
       "2975 2017-06-19 22:00:00   MSFT   70.680   70.90   70.600   70.87  7551101\n",
       "\n",
       "[2976 rows x 7 columns]"
      ]
     },
     "execution_count": 128,
     "metadata": {},
     "output_type": "execute_result"
    }
   ],
   "source": [
    "df = pd.concat(frames, ignore_index=True)\n",
    "df"
   ]
  },
  {
   "cell_type": "markdown",
   "metadata": {},
   "source": [
    "## Работа с датами\n",
    "\n",
    "[Документация](https://pandas.pydata.org/pandas-docs/stable/timeseries.html)"
   ]
  },
  {
   "cell_type": "code",
   "execution_count": 129,
   "metadata": {
    "collapsed": true
   },
   "outputs": [],
   "source": [
    "aapl = df.loc[df.Ticker == 'AAPL']"
   ]
  },
  {
   "cell_type": "code",
   "execution_count": 130,
   "metadata": {},
   "outputs": [
    {
     "data": {
      "text/html": [
       "<div>\n",
       "<style>\n",
       "    .dataframe thead tr:only-child th {\n",
       "        text-align: right;\n",
       "    }\n",
       "\n",
       "    .dataframe thead th {\n",
       "        text-align: left;\n",
       "    }\n",
       "\n",
       "    .dataframe tbody tr th {\n",
       "        vertical-align: top;\n",
       "    }\n",
       "</style>\n",
       "<table border=\"1\" class=\"dataframe\">\n",
       "  <thead>\n",
       "    <tr style=\"text-align: right;\">\n",
       "      <th></th>\n",
       "      <th>Time</th>\n",
       "      <th>Ticker</th>\n",
       "      <th>Open</th>\n",
       "      <th>High</th>\n",
       "      <th>Low</th>\n",
       "      <th>Close</th>\n",
       "      <th>Volume</th>\n",
       "    </tr>\n",
       "  </thead>\n",
       "  <tbody>\n",
       "    <tr>\n",
       "      <th>0</th>\n",
       "      <td>2016-11-23 16:00:00</td>\n",
       "      <td>AAPL</td>\n",
       "      <td>110.4200</td>\n",
       "      <td>110.570</td>\n",
       "      <td>109.80</td>\n",
       "      <td>110.0100</td>\n",
       "      <td>3668988</td>\n",
       "    </tr>\n",
       "    <tr>\n",
       "      <th>1</th>\n",
       "      <td>2016-11-23 17:00:00</td>\n",
       "      <td>AAPL</td>\n",
       "      <td>110.0100</td>\n",
       "      <td>110.140</td>\n",
       "      <td>109.40</td>\n",
       "      <td>109.4600</td>\n",
       "      <td>4347184</td>\n",
       "    </tr>\n",
       "    <tr>\n",
       "      <th>2</th>\n",
       "      <td>2016-11-23 18:00:00</td>\n",
       "      <td>AAPL</td>\n",
       "      <td>109.4700</td>\n",
       "      <td>109.940</td>\n",
       "      <td>109.46</td>\n",
       "      <td>109.9400</td>\n",
       "      <td>3094138</td>\n",
       "    </tr>\n",
       "    <tr>\n",
       "      <th>3</th>\n",
       "      <td>2016-11-23 19:00:00</td>\n",
       "      <td>AAPL</td>\n",
       "      <td>109.9400</td>\n",
       "      <td>110.150</td>\n",
       "      <td>109.84</td>\n",
       "      <td>110.0100</td>\n",
       "      <td>2285072</td>\n",
       "    </tr>\n",
       "    <tr>\n",
       "      <th>4</th>\n",
       "      <td>2016-11-23 20:00:00</td>\n",
       "      <td>AAPL</td>\n",
       "      <td>110.0200</td>\n",
       "      <td>110.240</td>\n",
       "      <td>109.76</td>\n",
       "      <td>110.1200</td>\n",
       "      <td>1860117</td>\n",
       "    </tr>\n",
       "    <tr>\n",
       "      <th>...</th>\n",
       "      <td>...</td>\n",
       "      <td>...</td>\n",
       "      <td>...</td>\n",
       "      <td>...</td>\n",
       "      <td>...</td>\n",
       "      <td>...</td>\n",
       "      <td>...</td>\n",
       "    </tr>\n",
       "    <tr>\n",
       "      <th>2957</th>\n",
       "      <td>2017-06-19 18:00:00</td>\n",
       "      <td>AAPL</td>\n",
       "      <td>145.8756</td>\n",
       "      <td>146.070</td>\n",
       "      <td>145.61</td>\n",
       "      <td>145.8200</td>\n",
       "      <td>2370543</td>\n",
       "    </tr>\n",
       "    <tr>\n",
       "      <th>2958</th>\n",
       "      <td>2017-06-19 19:00:00</td>\n",
       "      <td>AAPL</td>\n",
       "      <td>145.8300</td>\n",
       "      <td>145.969</td>\n",
       "      <td>145.63</td>\n",
       "      <td>145.9362</td>\n",
       "      <td>1749563</td>\n",
       "    </tr>\n",
       "    <tr>\n",
       "      <th>2959</th>\n",
       "      <td>2017-06-19 20:00:00</td>\n",
       "      <td>AAPL</td>\n",
       "      <td>145.9400</td>\n",
       "      <td>146.740</td>\n",
       "      <td>145.91</td>\n",
       "      <td>146.5500</td>\n",
       "      <td>2889793</td>\n",
       "    </tr>\n",
       "    <tr>\n",
       "      <th>2960</th>\n",
       "      <td>2017-06-19 21:00:00</td>\n",
       "      <td>AAPL</td>\n",
       "      <td>146.5400</td>\n",
       "      <td>146.620</td>\n",
       "      <td>145.98</td>\n",
       "      <td>146.0500</td>\n",
       "      <td>2405616</td>\n",
       "    </tr>\n",
       "    <tr>\n",
       "      <th>2961</th>\n",
       "      <td>2017-06-19 22:00:00</td>\n",
       "      <td>AAPL</td>\n",
       "      <td>146.0400</td>\n",
       "      <td>146.540</td>\n",
       "      <td>145.93</td>\n",
       "      <td>146.3400</td>\n",
       "      <td>7163005</td>\n",
       "    </tr>\n",
       "  </tbody>\n",
       "</table>\n",
       "<p>992 rows × 7 columns</p>\n",
       "</div>"
      ],
      "text/plain": [
       "                    Time Ticker      Open     High     Low     Close   Volume\n",
       "0    2016-11-23 16:00:00   AAPL  110.4200  110.570  109.80  110.0100  3668988\n",
       "1    2016-11-23 17:00:00   AAPL  110.0100  110.140  109.40  109.4600  4347184\n",
       "2    2016-11-23 18:00:00   AAPL  109.4700  109.940  109.46  109.9400  3094138\n",
       "3    2016-11-23 19:00:00   AAPL  109.9400  110.150  109.84  110.0100  2285072\n",
       "4    2016-11-23 20:00:00   AAPL  110.0200  110.240  109.76  110.1200  1860117\n",
       "...                  ...    ...       ...      ...     ...       ...      ...\n",
       "2957 2017-06-19 18:00:00   AAPL  145.8756  146.070  145.61  145.8200  2370543\n",
       "2958 2017-06-19 19:00:00   AAPL  145.8300  145.969  145.63  145.9362  1749563\n",
       "2959 2017-06-19 20:00:00   AAPL  145.9400  146.740  145.91  146.5500  2889793\n",
       "2960 2017-06-19 21:00:00   AAPL  146.5400  146.620  145.98  146.0500  2405616\n",
       "2961 2017-06-19 22:00:00   AAPL  146.0400  146.540  145.93  146.3400  7163005\n",
       "\n",
       "[992 rows x 7 columns]"
      ]
     },
     "execution_count": 130,
     "metadata": {},
     "output_type": "execute_result"
    }
   ],
   "source": [
    "aapl"
   ]
  },
  {
   "cell_type": "code",
   "execution_count": 131,
   "metadata": {},
   "outputs": [
    {
     "data": {
      "text/plain": [
       "0       2016-11-23\n",
       "1       2016-11-23\n",
       "2       2016-11-23\n",
       "3       2016-11-23\n",
       "4       2016-11-23\n",
       "           ...    \n",
       "2957    2017-06-19\n",
       "2958    2017-06-19\n",
       "2959    2017-06-19\n",
       "2960    2017-06-19\n",
       "2961    2017-06-19\n",
       "Name: Time, Length: 992, dtype: object"
      ]
     },
     "execution_count": 131,
     "metadata": {},
     "output_type": "execute_result"
    }
   ],
   "source": [
    "aapl.Time.dt.date"
   ]
  },
  {
   "cell_type": "code",
   "execution_count": 132,
   "metadata": {},
   "outputs": [
    {
     "data": {
      "text/plain": [
       "0       23\n",
       "1       23\n",
       "2       23\n",
       "3       23\n",
       "4       23\n",
       "        ..\n",
       "2957    19\n",
       "2958    19\n",
       "2959    19\n",
       "2960    19\n",
       "2961    19\n",
       "Name: Time, Length: 992, dtype: int64"
      ]
     },
     "execution_count": 132,
     "metadata": {},
     "output_type": "execute_result"
    }
   ],
   "source": [
    "aapl.Time.dt.day"
   ]
  },
  {
   "cell_type": "code",
   "execution_count": 133,
   "metadata": {},
   "outputs": [
    {
     "data": {
      "text/plain": [
       "0       16\n",
       "1       17\n",
       "2       18\n",
       "3       19\n",
       "4       20\n",
       "        ..\n",
       "2957    18\n",
       "2958    19\n",
       "2959    20\n",
       "2960    21\n",
       "2961    22\n",
       "Name: Time, Length: 992, dtype: int64"
      ]
     },
     "execution_count": 133,
     "metadata": {},
     "output_type": "execute_result"
    }
   ],
   "source": [
    "aapl.Time.dt.hour"
   ]
  },
  {
   "cell_type": "code",
   "execution_count": 134,
   "metadata": {},
   "outputs": [
    {
     "data": {
      "text/plain": [
       "0       47\n",
       "1       47\n",
       "2       47\n",
       "3       47\n",
       "4       47\n",
       "        ..\n",
       "2957    25\n",
       "2958    25\n",
       "2959    25\n",
       "2960    25\n",
       "2961    25\n",
       "Name: Time, Length: 992, dtype: int64"
      ]
     },
     "execution_count": 134,
     "metadata": {},
     "output_type": "execute_result"
    }
   ],
   "source": [
    "aapl.Time.dt.week"
   ]
  },
  {
   "cell_type": "code",
   "execution_count": 135,
   "metadata": {},
   "outputs": [
    {
     "data": {
      "text/plain": [
       "0       2\n",
       "1       2\n",
       "2       2\n",
       "3       2\n",
       "4       2\n",
       "       ..\n",
       "2957    0\n",
       "2958    0\n",
       "2959    0\n",
       "2960    0\n",
       "2961    0\n",
       "Name: Time, Length: 992, dtype: int64"
      ]
     },
     "execution_count": 135,
     "metadata": {},
     "output_type": "execute_result"
    }
   ],
   "source": [
    "aapl.Time.dt.weekday"
   ]
  },
  {
   "cell_type": "code",
   "execution_count": 138,
   "metadata": {},
   "outputs": [
    {
     "data": {
      "text/plain": [
       "0       False\n",
       "1       False\n",
       "2       False\n",
       "3       False\n",
       "4       False\n",
       "        ...  \n",
       "2957    False\n",
       "2958    False\n",
       "2959    False\n",
       "2960    False\n",
       "2961    False\n",
       "Name: Time, Length: 992, dtype: bool"
      ]
     },
     "execution_count": 138,
     "metadata": {},
     "output_type": "execute_result"
    }
   ],
   "source": [
    "aapl.Time.dt.is_quarter_end"
   ]
  },
  {
   "cell_type": "code",
   "execution_count": 139,
   "metadata": {},
   "outputs": [
    {
     "data": {
      "text/html": [
       "<div>\n",
       "<style>\n",
       "    .dataframe thead tr:only-child th {\n",
       "        text-align: right;\n",
       "    }\n",
       "\n",
       "    .dataframe thead th {\n",
       "        text-align: left;\n",
       "    }\n",
       "\n",
       "    .dataframe tbody tr th {\n",
       "        vertical-align: top;\n",
       "    }\n",
       "</style>\n",
       "<table border=\"1\" class=\"dataframe\">\n",
       "  <thead>\n",
       "    <tr style=\"text-align: right;\">\n",
       "      <th></th>\n",
       "      <th>Ticker</th>\n",
       "      <th>Open</th>\n",
       "      <th>High</th>\n",
       "      <th>Low</th>\n",
       "      <th>Close</th>\n",
       "      <th>Volume</th>\n",
       "    </tr>\n",
       "    <tr>\n",
       "      <th>Time</th>\n",
       "      <th></th>\n",
       "      <th></th>\n",
       "      <th></th>\n",
       "      <th></th>\n",
       "      <th></th>\n",
       "      <th></th>\n",
       "    </tr>\n",
       "  </thead>\n",
       "  <tbody>\n",
       "    <tr>\n",
       "      <th>2016-11-23 16:00:00</th>\n",
       "      <td>AAPL</td>\n",
       "      <td>110.4200</td>\n",
       "      <td>110.570</td>\n",
       "      <td>109.80</td>\n",
       "      <td>110.0100</td>\n",
       "      <td>3668988</td>\n",
       "    </tr>\n",
       "    <tr>\n",
       "      <th>2016-11-23 17:00:00</th>\n",
       "      <td>AAPL</td>\n",
       "      <td>110.0100</td>\n",
       "      <td>110.140</td>\n",
       "      <td>109.40</td>\n",
       "      <td>109.4600</td>\n",
       "      <td>4347184</td>\n",
       "    </tr>\n",
       "    <tr>\n",
       "      <th>2016-11-23 18:00:00</th>\n",
       "      <td>AAPL</td>\n",
       "      <td>109.4700</td>\n",
       "      <td>109.940</td>\n",
       "      <td>109.46</td>\n",
       "      <td>109.9400</td>\n",
       "      <td>3094138</td>\n",
       "    </tr>\n",
       "    <tr>\n",
       "      <th>2016-11-23 19:00:00</th>\n",
       "      <td>AAPL</td>\n",
       "      <td>109.9400</td>\n",
       "      <td>110.150</td>\n",
       "      <td>109.84</td>\n",
       "      <td>110.0100</td>\n",
       "      <td>2285072</td>\n",
       "    </tr>\n",
       "    <tr>\n",
       "      <th>2016-11-23 20:00:00</th>\n",
       "      <td>AAPL</td>\n",
       "      <td>110.0200</td>\n",
       "      <td>110.240</td>\n",
       "      <td>109.76</td>\n",
       "      <td>110.1200</td>\n",
       "      <td>1860117</td>\n",
       "    </tr>\n",
       "    <tr>\n",
       "      <th>...</th>\n",
       "      <td>...</td>\n",
       "      <td>...</td>\n",
       "      <td>...</td>\n",
       "      <td>...</td>\n",
       "      <td>...</td>\n",
       "      <td>...</td>\n",
       "    </tr>\n",
       "    <tr>\n",
       "      <th>2017-06-19 18:00:00</th>\n",
       "      <td>AAPL</td>\n",
       "      <td>145.8756</td>\n",
       "      <td>146.070</td>\n",
       "      <td>145.61</td>\n",
       "      <td>145.8200</td>\n",
       "      <td>2370543</td>\n",
       "    </tr>\n",
       "    <tr>\n",
       "      <th>2017-06-19 19:00:00</th>\n",
       "      <td>AAPL</td>\n",
       "      <td>145.8300</td>\n",
       "      <td>145.969</td>\n",
       "      <td>145.63</td>\n",
       "      <td>145.9362</td>\n",
       "      <td>1749563</td>\n",
       "    </tr>\n",
       "    <tr>\n",
       "      <th>2017-06-19 20:00:00</th>\n",
       "      <td>AAPL</td>\n",
       "      <td>145.9400</td>\n",
       "      <td>146.740</td>\n",
       "      <td>145.91</td>\n",
       "      <td>146.5500</td>\n",
       "      <td>2889793</td>\n",
       "    </tr>\n",
       "    <tr>\n",
       "      <th>2017-06-19 21:00:00</th>\n",
       "      <td>AAPL</td>\n",
       "      <td>146.5400</td>\n",
       "      <td>146.620</td>\n",
       "      <td>145.98</td>\n",
       "      <td>146.0500</td>\n",
       "      <td>2405616</td>\n",
       "    </tr>\n",
       "    <tr>\n",
       "      <th>2017-06-19 22:00:00</th>\n",
       "      <td>AAPL</td>\n",
       "      <td>146.0400</td>\n",
       "      <td>146.540</td>\n",
       "      <td>145.93</td>\n",
       "      <td>146.3400</td>\n",
       "      <td>7163005</td>\n",
       "    </tr>\n",
       "  </tbody>\n",
       "</table>\n",
       "<p>992 rows × 6 columns</p>\n",
       "</div>"
      ],
      "text/plain": [
       "                    Ticker      Open     High     Low     Close   Volume\n",
       "Time                                                                    \n",
       "2016-11-23 16:00:00   AAPL  110.4200  110.570  109.80  110.0100  3668988\n",
       "2016-11-23 17:00:00   AAPL  110.0100  110.140  109.40  109.4600  4347184\n",
       "2016-11-23 18:00:00   AAPL  109.4700  109.940  109.46  109.9400  3094138\n",
       "2016-11-23 19:00:00   AAPL  109.9400  110.150  109.84  110.0100  2285072\n",
       "2016-11-23 20:00:00   AAPL  110.0200  110.240  109.76  110.1200  1860117\n",
       "...                    ...       ...      ...     ...       ...      ...\n",
       "2017-06-19 18:00:00   AAPL  145.8756  146.070  145.61  145.8200  2370543\n",
       "2017-06-19 19:00:00   AAPL  145.8300  145.969  145.63  145.9362  1749563\n",
       "2017-06-19 20:00:00   AAPL  145.9400  146.740  145.91  146.5500  2889793\n",
       "2017-06-19 21:00:00   AAPL  146.5400  146.620  145.98  146.0500  2405616\n",
       "2017-06-19 22:00:00   AAPL  146.0400  146.540  145.93  146.3400  7163005\n",
       "\n",
       "[992 rows x 6 columns]"
      ]
     },
     "execution_count": 139,
     "metadata": {},
     "output_type": "execute_result"
    }
   ],
   "source": [
    "aapl.set_index('Time')"
   ]
  },
  {
   "cell_type": "code",
   "execution_count": 140,
   "metadata": {
    "collapsed": true
   },
   "outputs": [],
   "source": [
    "aapl.set_index('Time', inplace=True)\n",
    "aapl.sort_index(inplace=True)"
   ]
  },
  {
   "cell_type": "code",
   "execution_count": 141,
   "metadata": {},
   "outputs": [
    {
     "data": {
      "text/plain": [
       "<matplotlib.axes._subplots.AxesSubplot at 0x10b7043d0>"
      ]
     },
     "execution_count": 141,
     "metadata": {},
     "output_type": "execute_result"
    },
    {
     "data": {
      "image/png": "[encoded data removed]",
      "text/plain": [
       "<matplotlib.figure.Figure at 0x10b80fc50>"
      ]
     },
     "metadata": {},
     "output_type": "display_data"
    }
   ],
   "source": [
    "aapl[['High', 'Low']].plot()"
   ]
  },
  {
   "cell_type": "code",
   "execution_count": 144,
   "metadata": {},
   "outputs": [
    {
     "data": {
      "text/plain": [
       "<matplotlib.axes._subplots.AxesSubplot at 0x10b7e8b90>"
      ]
     },
     "execution_count": 144,
     "metadata": {},
     "output_type": "execute_result"
    },
    {
     "data": {
      "image/png": "[encoded data removed]",
      "text/plain": [
       "<matplotlib.figure.Figure at 0x10b786410>"
      ]
     },
     "metadata": {},
     "output_type": "display_data"
    }
   ],
   "source": [
    "aapl.loc['2017-04', 'Close'].plot()"
   ]
  },
  {
   "cell_type": "code",
   "execution_count": 145,
   "metadata": {},
   "outputs": [
    {
     "data": {
      "text/plain": [
       "<matplotlib.axes._subplots.AxesSubplot at 0x10bd3b510>"
      ]
     },
     "execution_count": 145,
     "metadata": {},
     "output_type": "execute_result"
    },
    {
     "data": {
      "image/png": "[encoded data removed]",
      "text/plain": [
       "<matplotlib.figure.Figure at 0x10bd49f10>"
      ]
     },
     "metadata": {},
     "output_type": "display_data"
    }
   ],
   "source": [
    "aapl.loc['2017', 'Close'].plot()"
   ]
  },
  {
   "cell_type": "code",
   "execution_count": 146,
   "metadata": {},
   "outputs": [
    {
     "data": {
      "text/plain": [
       "<matplotlib.axes._subplots.AxesSubplot at 0x10bd52190>"
      ]
     },
     "execution_count": 146,
     "metadata": {},
     "output_type": "execute_result"
    },
    {
     "data": {
      "image/png": "[encoded data removed]",
      "text/plain": [
       "<matplotlib.figure.Figure at 0x10bda0550>"
      ]
     },
     "metadata": {},
     "output_type": "display_data"
    }
   ],
   "source": [
    "aapl.loc['2017-05-01':'2017-05-07', 'Close'].plot()"
   ]
  },
  {
   "cell_type": "code",
   "execution_count": 153,
   "metadata": {},
   "outputs": [
    {
     "data": {
      "text/plain": [
       "<matplotlib.axes._subplots.AxesSubplot at 0x10c501c90>"
      ]
     },
     "execution_count": 153,
     "metadata": {},
     "output_type": "execute_result"
    },
    {
     "data": {
      "image/png": "[encoded data removed]",
      "text/plain": [
       "<matplotlib.figure.Figure at 0x10c4e65d0>"
      ]
     },
     "metadata": {},
     "output_type": "display_data"
    }
   ],
   "source": [
    "aapl.loc[aapl.index.to_series().dt.weekday == 0].Close.plot()"
   ]
  },
  {
   "cell_type": "code",
   "execution_count": 147,
   "metadata": {},
   "outputs": [
    {
     "data": {
      "text/plain": [
       "<matplotlib.axes._subplots.AxesSubplot at 0x10c05dd90>"
      ]
     },
     "execution_count": 147,
     "metadata": {},
     "output_type": "execute_result"
    },
    {
     "data": {
      "image/png": "[encoded data removed]",
      "text/plain": [
       "<matplotlib.figure.Figure at 0x10c07dad0>"
      ]
     },
     "metadata": {},
     "output_type": "display_data"
    }
   ],
   "source": [
    "aapl.Close.resample('1D').mean().plot()"
   ]
  },
  {
   "cell_type": "code",
   "execution_count": 154,
   "metadata": {},
   "outputs": [
    {
     "data": {
      "text/plain": [
       "<matplotlib.axes._subplots.AxesSubplot at 0x10c51aa10>"
      ]
     },
     "execution_count": 154,
     "metadata": {},
     "output_type": "execute_result"
    },
    {
     "data": {
      "image/png": "[encoded data removed]",
      "text/plain": [
       "<matplotlib.figure.Figure at 0x10c622310>"
      ]
     },
     "metadata": {},
     "output_type": "display_data"
    }
   ],
   "source": [
    "aapl.Close.resample('1W').mean().plot()"
   ]
  },
  {
   "cell_type": "code",
   "execution_count": 155,
   "metadata": {},
   "outputs": [
    {
     "data": {
      "text/plain": [
       "<matplotlib.axes._subplots.AxesSubplot at 0x10c7b53d0>"
      ]
     },
     "execution_count": 155,
     "metadata": {},
     "output_type": "execute_result"
    },
    {
     "data": {
      "image/png": "[encoded data removed]",
      "text/plain": [
       "<matplotlib.figure.Figure at 0x10c618190>"
      ]
     },
     "metadata": {},
     "output_type": "display_data"
    }
   ],
   "source": [
    "aapl.Close.resample('1W').last().plot()"
   ]
  },
  {
   "cell_type": "code",
   "execution_count": 156,
   "metadata": {},
   "outputs": [
    {
     "data": {
      "text/plain": [
       "<matplotlib.axes._subplots.AxesSubplot at 0x10c9d6cd0>"
      ]
     },
     "execution_count": 156,
     "metadata": {},
     "output_type": "execute_result"
    },
    {
     "data": {
      "image/png": "[encoded data removed]",
      "text/plain": [
       "<matplotlib.figure.Figure at 0x10c60b250>"
      ]
     },
     "metadata": {},
     "output_type": "display_data"
    }
   ],
   "source": [
    "aapl.Close.plot()\n",
    "aapl.Close.shift().plot()"
   ]
  },
  {
   "cell_type": "code",
   "execution_count": 157,
   "metadata": {},
   "outputs": [
    {
     "data": {
      "text/plain": [
       "<matplotlib.axes._subplots.AxesSubplot at 0x10c4e6a10>"
      ]
     },
     "execution_count": 157,
     "metadata": {},
     "output_type": "execute_result"
    },
    {
     "data": {
      "image/png": "[encoded data removed]",
      "text/plain": [
       "<matplotlib.figure.Figure at 0x10ca72050>"
      ]
     },
     "metadata": {},
     "output_type": "display_data"
    }
   ],
   "source": [
    "aapl.Close.plot()\n",
    "aapl.Close.shift(24).plot()"
   ]
  },
  {
   "cell_type": "code",
   "execution_count": 158,
   "metadata": {},
   "outputs": [
    {
     "data": {
      "text/plain": [
       "<matplotlib.axes._subplots.AxesSubplot at 0x10cbea990>"
      ]
     },
     "execution_count": 158,
     "metadata": {},
     "output_type": "execute_result"
    },
    {
     "data": {
      "image/png": "[encoded data removed]",
      "text/plain": [
       "<matplotlib.figure.Figure at 0x10c1c2510>"
      ]
     },
     "metadata": {},
     "output_type": "display_data"
    }
   ],
   "source": [
    "aapl.Close.plot()\n",
    "aapl.Close.shift(3, freq='D').plot()"
   ]
  },
  {
   "cell_type": "code",
   "execution_count": 160,
   "metadata": {},
   "outputs": [
    {
     "data": {
      "text/plain": [
       "<matplotlib.axes._subplots.AxesSubplot at 0x10d0d3210>"
      ]
     },
     "execution_count": 160,
     "metadata": {},
     "output_type": "execute_result"
    },
    {
     "data": {
      "image/png": "[encoded data removed]",
      "text/plain": [
       "<matplotlib.figure.Figure at 0x10cd95d90>"
      ]
     },
     "metadata": {},
     "output_type": "display_data"
    }
   ],
   "source": [
    "aapl.Close.plot()\n",
    "aapl.Close.shift(5, freq=pd.offsets.BDay()).plot()"
   ]
  },
  {
   "cell_type": "code",
   "execution_count": 161,
   "metadata": {},
   "outputs": [
    {
     "data": {
      "text/plain": [
       "<matplotlib.axes._subplots.AxesSubplot at 0x10d2b0c50>"
      ]
     },
     "execution_count": 161,
     "metadata": {},
     "output_type": "execute_result"
    },
    {
     "data": {
      "image/png": "[encoded data removed]",
      "text/plain": [
       "<matplotlib.figure.Figure at 0x10d23e250>"
      ]
     },
     "metadata": {},
     "output_type": "display_data"
    }
   ],
   "source": [
    "(aapl.Close / aapl.Close.shift(1, freq=pd.offsets.BDay()) - 1.0).plot()"
   ]
  },
  {
   "cell_type": "code",
   "execution_count": 162,
   "metadata": {},
   "outputs": [
    {
     "data": {
      "text/plain": [
       "<matplotlib.axes._subplots.AxesSubplot at 0x10d27e150>"
      ]
     },
     "execution_count": 162,
     "metadata": {},
     "output_type": "execute_result"
    },
    {
     "data": {
      "image/png": "[encoded data removed]",
      "text/plain": [
       "<matplotlib.figure.Figure at 0x10d0d3710>"
      ]
     },
     "metadata": {},
     "output_type": "display_data"
    }
   ],
   "source": [
    "aapl.Close.resample('1D').last().pct_change().plot()"
   ]
  },
  {
   "cell_type": "code",
   "execution_count": 165,
   "metadata": {},
   "outputs": [
    {
     "data": {
      "text/plain": [
       "<matplotlib.axes._subplots.AxesSubplot at 0x10d812d10>"
      ]
     },
     "execution_count": 165,
     "metadata": {},
     "output_type": "execute_result"
    },
    {
     "data": {
      "image/png": "[encoded data removed]",
      "text/plain": [
       "<matplotlib.figure.Figure at 0x10d90d590>"
      ]
     },
     "metadata": {},
     "output_type": "display_data"
    }
   ],
   "source": [
    "aapl.Close.plot()\n",
    "aapl.Close.resample('1D').last().rolling(20, min_periods=1, center=False).mean().plot()"
   ]
  },
  {
   "cell_type": "code",
   "execution_count": 166,
   "metadata": {
    "collapsed": true
   },
   "outputs": [],
   "source": [
    "import matplotlib.pyplot as plt"
   ]
  },
  {
   "cell_type": "code",
   "execution_count": 167,
   "metadata": {},
   "outputs": [
    {
     "data": {
      "text/plain": [
       "<matplotlib.legend.Legend at 0x10d900090>"
      ]
     },
     "execution_count": 167,
     "metadata": {},
     "output_type": "execute_result"
    },
    {
     "data": {
      "image/png": "[encoded data removed]",
      "text/plain": [
       "<matplotlib.figure.Figure at 0x10d90d510>"
      ]
     },
     "metadata": {},
     "output_type": "display_data"
    }
   ],
   "source": [
    "aapl.Close.plot(label='raw')\n",
    "\n",
    "window = aapl.Close.resample('1D').last().rolling(20, min_periods=1, center=True)\n",
    "window.mean().plot(label='average')\n",
    "\n",
    "error = 3 * window.std() / np.sqrt(window.count())\n",
    "plt.fill_between(error.index, window.mean() - error, window.mean() + error,\n",
    "                 alpha=0.4, color='skyblue', label='error')\n",
    "\n",
    "plt.legend(loc='best')"
   ]
  }
 ],
 "metadata": {
  "kernelspec": {
   "display_name": "Python 2",
   "language": "python",
   "name": "python2"
  },
  "language_info": {
   "codemirror_mode": {
    "name": "ipython",
    "version": 2
   },
   "file_extension": ".py",
   "mimetype": "text/x-python",
   "name": "python",
   "nbconvert_exporter": "python",
   "pygments_lexer": "ipython2",
   "version": "2.7.13"
  }
 },
 "nbformat": 4,
 "nbformat_minor": 2
}
