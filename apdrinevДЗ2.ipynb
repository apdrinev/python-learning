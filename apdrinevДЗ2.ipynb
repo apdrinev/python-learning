{
 "cells": [
  {
   "cell_type": "markdown",
   "metadata": {},
   "source": [
    "# Базовая часть"
   ]
  },
  {
   "cell_type": "markdown",
   "metadata": {},
   "source": [
    "Рассмотрим задание 2 из лекции. При анализе отзывов на работу техподдержки вы считали массив из отзывов (для простоты отзыва приведено всего два, но могло быть и больше):"
   ]
  },
  {
   "cell_type": "code",
   "execution_count": 144,
   "metadata": {
    "collapsed": true
   },
   "outputs": [],
   "source": [
    "reviews = [\"\"\"Телефон абонента: +7 916 000 00 01\n",
    "Время: 10:34\n",
    "Дата: 20.05.2017\n",
    "Оценка: 1\n",
    "Длительность разговора (мин.): 0:32\n",
    "Комментарий: Общение с сотрудником вашей техподдержки мне не понравилось. Раньше всегда отвечала девушка с приятным голосом, а сегодня какой-то мужчина. Совсем никуда не годится, примите меры!!!\"\"\",\n",
    "\"\"\"Телефон абонента: +7 916 000 00 02\n",
    "Время: 9:20\n",
    "Дата: 21.05.2017\n",
    "Оценка: 5\n",
    "Длительность разговора (мин.): 25:07\n",
    "Комментарий: С моей проблемой мне помогли, большое спасибо!\"\"\"]"
   ]
  },
  {
   "cell_type": "markdown",
   "metadata": {},
   "source": [
    "Сформируйте на основе этого массива словарь my_base, в котором по ключу в виде строки с телефоном абонента будет храниться другой словарь. Внутренний словарь по ключам в виде названий полей отзыва должен хранить значение полей (в виде строк). Например, код ниже должен выдать True:"
   ]
  },
  {
   "cell_type": "code",
   "execution_count": 314,
   "metadata": {
    "collapsed": false
   },
   "outputs": [],
   "source": [
    "#print type(reviews)\n",
    "# номер телефона:\n",
    "#name = reviews[0].split('\\n')[0].split(': ')[0]\n",
    "#val = reviews[0].split('\\n')[0].split(': ')[-1]\n",
    "#print name + ': ' + val\n",
    "\n",
    "my_base = {}\n",
    "\n",
    "for s in xrange(0,len(reviews)):\n",
    "    st=reviews[s]\n",
    "    #print type(st)\n",
    "\n",
    "    tel = reviews[s].split('\\n')[0].split(': ')[-1]\n",
    "    #print tel\n",
    "    \n",
    "    inside_dic = {}\n",
    "    for i in xrange(1,len(st.split('\\n'))):\n",
    "        line = st.split('\\n')[i]\n",
    "        name = line.split(': ')[0]\n",
    "        val = line.split(': ')[-1]\n",
    "        #print name, val\n",
    "        inside_dic[name]=val\n",
    "\n",
    "    #print inside_dic['Время']\n",
    "    my_base[tel]=inside_dic\n",
    "    "
   ]
  },
  {
   "cell_type": "code",
   "execution_count": 287,
   "metadata": {
    "collapsed": false
   },
   "outputs": [
    {
     "data": {
      "text/plain": [
       "True"
      ]
     },
     "execution_count": 287,
     "metadata": {},
     "output_type": "execute_result"
    }
   ],
   "source": [
    "my_base['+7 916 000 00 01']['Дата'] == '20.05.2017'"
   ]
  },
  {
   "cell_type": "markdown",
   "metadata": {},
   "source": [
    "Обратите внимание, что вам могут немного мешать пробелы после знаков \":\""
   ]
  },
  {
   "cell_type": "markdown",
   "metadata": {},
   "source": [
    "# Продвинутая часть"
   ]
  },
  {
   "cell_type": "markdown",
   "metadata": {},
   "source": [
    "Попробуйте выполнить предыдущее задание, но теперь обеспечив хранение полей из отзыва в словаре в тех типах данных, которые на ваш взгляд наиболее уместны. Подумайте, что делать с датой и временем. Возможно вам покажется полезным немного воспользоваться поисковиком или документацией к Python, а может быть вам хватит стандартных типов данных.\n",
    "Объясните свой выбор в комментариях к коду или markdown ячейках и продемонстрируйте, что поля имеют нужный тип."
   ]
  },
  {
   "cell_type": "code",
   "execution_count": 465,
   "metadata": {
    "collapsed": false
   },
   "outputs": [
    {
     "data": {
      "text/plain": [
       "True"
      ]
     },
     "execution_count": 465,
     "metadata": {},
     "output_type": "execute_result"
    }
   ],
   "source": [
    "import datetime\n",
    "\n",
    "my_base = {}\n",
    "\n",
    "for s in xrange(len(reviews)):\n",
    "    st=reviews[s]\n",
    "\n",
    "    # номер телефона\n",
    "    tel = reviews[s].split('\\n')[0].split(': ')[-1]\n",
    "\n",
    "    # время\n",
    "    tm   = reviews[s].split('\\n')[1].split(': ')[-1]\n",
    "    h = int(tm[:2].split(':')[0])\n",
    "    m = int(tm[-2:])\n",
    "    time = datetime.time(h,m)\n",
    "#    print type(time) # <type 'datetime.time'>\n",
    "#    print time.strftime(\"%I:%M\")\n",
    "        \n",
    "    # дата\n",
    "    dt  = reviews[s].split('\\n')[2].split(': ')[-1]\n",
    "    dd = int(dt[:2].split('.')[0])\n",
    "    mm = int(dt[3:].split('.')[0])\n",
    "    yyyy = int(dt[-4:])\n",
    "    date = datetime.date(yyyy,mm,dd)\n",
    "#    print type(date) # <type 'datetime.date'>\n",
    "#    print date.strftime(\"%d.%m.%Y\")\n",
    "\n",
    "    # оценка\n",
    "    r   = int(reviews[s].split('\\n')[3].split(': ')[-1]) \n",
    "    # длительность разговора (мин.)\n",
    "    dur = reviews[s].split('\\n')[4].split(': ')[-1]\n",
    "    # комментарий\n",
    "    com = reviews[s].split('\\n')[5].split(': ')[-1]\n",
    "    \n",
    "    inside_dic = {}\n",
    "    for i in xrange(1,len(st.split('\\n'))):\n",
    "        line = st.split('\\n')[i]\n",
    "        name = line.split(': ')[0]\n",
    "        \n",
    "        if i==1:\n",
    "            val = time.strftime(\"%I:%M\")\n",
    "        elif i==2:\n",
    "            val = date.strftime(\"%d.%m.%Y\")\n",
    "        elif i==3:\n",
    "            val = r\n",
    "        elif i==4:\n",
    "            val = dur\n",
    "        elif i==5:\n",
    "            val = com\n",
    "        else:\n",
    "            print 'Error: many fields!'\n",
    "\n",
    "        inside_dic[name]=val\n",
    "\n",
    "    #print inside_dic['Время']\n",
    "    my_base[tel]=inside_dic\n",
    "\n",
    "#print my_base.keys()\n",
    "#print my_base.values()  \n",
    "\n",
    "my_base['+7 916 000 00 01']['Длительность разговора (мин.)'] == '0:32'"
   ]
  },
  {
   "cell_type": "markdown",
   "metadata": {},
   "source": [
    "# Сложная часть"
   ]
  },
  {
   "cell_type": "markdown",
   "metadata": {},
   "source": [
    "На лекции было рассказано про неизменяемые типы, в частности про tuple. Подумайте, можно ли \"сломать\" неизменяемость tuple? Как сделать tuple изменяемым? Можно ли будет его добавить в множество или использовать в качестве ключа в словаре?"
   ]
  },
  {
   "cell_type": "markdown",
   "metadata": {
    "collapsed": true
   },
   "source": [
    "\"Сломать\" неизменяемость tuple возможно можно, если переопределить данный тип / создать свой класс. Можно произвольно переопределить результат вызова hash() для объектов собственного класса (class key1), реализовав в классе собственный метод __hash__(). Для того, чтобы класс был идентифицирован как изменяемый (class key4) достаточно чтобы его собственная реализация __hash__() возвращала None - это будет \"сигналом\" для интерпретатора, что такой класс нельзя использовать в качестве ключа для словарей."
   ]
  }
 ],
 "metadata": {
  "anaconda-cloud": {},
  "kernelspec": {
   "display_name": "Python 2",
   "language": "python",
   "name": "python2"
  },
  "language_info": {
   "codemirror_mode": {
    "name": "ipython",
    "version": 2
   },
   "file_extension": ".py",
   "mimetype": "text/x-python",
   "name": "python",
   "nbconvert_exporter": "python",
   "pygments_lexer": "ipython2",
   "version": "2.7.13"
  }
 },
 "nbformat": 4,
 "nbformat_minor": 1
}
